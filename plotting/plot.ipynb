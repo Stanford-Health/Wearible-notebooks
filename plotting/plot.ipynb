{
 "cells": [
  {
   "cell_type": "code",
   "execution_count": 1,
   "id": "9042b0e1-910b-41f6-86c6-2f54f702e29f",
   "metadata": {},
   "outputs": [
    {
     "name": "stdout",
     "output_type": "stream",
     "text": [
      "Successfully loaded 21 notebooks out of 21 found.\n"
     ]
    }
   ],
   "source": [
    "import nbformat\n",
    "import glob, os, re\n",
    "\n",
    "def load_notebook(file_path):\n",
    "    try:\n",
    "        name = os.path.splitext(os.path.basename(file_path))[0]\n",
    "        nb = nbformat.read(file_path, as_version=4)\n",
    "        return name, nb\n",
    "    except Exception as e:\n",
    "        print(f\"Error reading {file_path}: {e}\")\n",
    "        return None\n",
    "\n",
    "file_paths = glob.glob(\"../notebooks/*.ipynb\")\n",
    "raw_notebooks = {}\n",
    "for file_path in file_paths:\n",
    "    name, nb = load_notebook(file_path)\n",
    "    if nb is not None:\n",
    "        raw_notebooks[name] = nb\n",
    "print(f\"Successfully loaded {len(raw_notebooks)} notebooks out of {len(file_paths)} found.\")\n",
    "\n",
    "# unravel files\n",
    "notebooks = {}\n",
    "for name, nb in raw_notebooks.items():\n",
    "    notebooks[name] = []\n",
    "    for cell in nb.cells:\n",
    "        notebooks[name] += [line for line in cell.source.splitlines() if line.strip()]"
   ]
  },
  {
   "cell_type": "code",
   "execution_count": 2,
   "id": "582de7a8-8cbf-4ad4-820c-8e291e4e8594",
   "metadata": {},
   "outputs": [
    {
     "name": "stdout",
     "output_type": "stream",
     "text": [
      "Total notebooks:  19\n"
     ]
    }
   ],
   "source": [
    "includes = [\"polar_verity_sense\", \"fitbit_charge_6\", \"abbott_freestyle_libre_1\", \"biostrap_evo\", \"polar_h10\",\n",
    "            \"withings_sleep\", \"fitbit_sense\", \"withings_body_plus\", \"fitbit_charge_4\", \"dexcom_g6_pro\",\n",
    "            \"whoop_strap_4\", \"coros_pace_2\", \"oura_ring_gen_3\", \"garmin_fenix_7s\", \"withings_scanwatch\"]\n",
    "specials = [\"cronometer\", \"polar_vantage\", \"strava\", \"my_fitness_pal\"]\n",
    "exclude = [\"Wearipedia_Extension_Guide\", \"Multi_Person_Wearable_Data_Collection_Chrome_Extension_for_Fitbit\"]\n",
    "headers = [\n",
    "    \"Setup\",\n",
    "    \"Authentication and Authorization\",\n",
    "    \"Data Extraction\",\n",
    "    \"Data Exporting\",\n",
    "    \"Adherence\",\n",
    "    \"Visualization\",\n",
    "    \"Advanced Visualization\",\n",
    "    \"Outlier Detection and Data Cleaning\",\n",
    "    \"Statistical Data Analysis\"\n",
    "]\n",
    "headers.reverse()\n",
    "print(\"Total notebooks: \", len(includes)+len(specials))"
   ]
  },
  {
   "cell_type": "code",
   "execution_count": 3,
   "id": "ab08c259-beb5-4167-88dc-38f70ef7d3d1",
   "metadata": {},
   "outputs": [],
   "source": [
    "notebook_headers = {}\n",
    "for name, lines in notebooks.items():\n",
    "    #print(name)\n",
    "    if name in exclude:\n",
    "        #print(\"exclude!\")\n",
    "        continue\n",
    "    keys = headers.copy()\n",
    "    if name in specials:\n",
    "        #print(\"special!\")\n",
    "        keys[0] = \"Outlier Detection and Data Cleaning\"\n",
    "        keys[1] = \"Statistical Data Analysis\"\n",
    "        #print(keys)\n",
    "    sections = {}\n",
    "    current_section = \"Introduction\"  # Everything before the first numbered header\n",
    "    sections[current_section] = 0\n",
    "    cur_key = keys.pop()\n",
    "    for line in lines:\n",
    "        if not keys: # handle when we are at last key\n",
    "            sections[current_section] += 1\n",
    "        pattern = rf\"#\\s\\d.*{cur_key}\"\n",
    "        if re.search(pattern, line):\n",
    "            #print(line)\n",
    "            current_section = cur_key\n",
    "            cur_key = None if not keys else keys.pop()\n",
    "            sections[current_section] = 0\n",
    "        else:\n",
    "            sections[current_section] += 1\n",
    "    notebook_headers[name] = sections"
   ]
  },
  {
   "cell_type": "code",
   "execution_count": 4,
   "id": "811bd4ec-4ce2-4459-ab32-aab9807bc04f",
   "metadata": {},
   "outputs": [
    {
     "name": "stdout",
     "output_type": "stream",
     "text": [
      "15011 19\n"
     ]
    }
   ],
   "source": [
    "from collections import defaultdict\n",
    "\n",
    "# Summing all values across notebooks\n",
    "summed_headers = defaultdict(int)\n",
    "for notebook in notebook_headers.values():\n",
    "    for key, value in notebook.items():\n",
    "        summed_headers[key] += value\n",
    "\n",
    "# Convert back to a regular dictionary\n",
    "summed_headers = dict(summed_headers)\n",
    "total_lines = sum([value for key, value in summed_headers.items()])\n",
    "total_notebooks = len(notebook_headers)\n",
    "print(total_lines, total_notebooks)"
   ]
  },
  {
   "cell_type": "code",
   "execution_count": 5,
   "id": "9e8d4ef6-97bf-4e6f-9eaf-43e0fa1bd49d",
   "metadata": {},
   "outputs": [
    {
     "name": "stdout",
     "output_type": "stream",
     "text": [
      "Pie chart has been successfully saved as 'piechart.pdf'.\n"
     ]
    }
   ],
   "source": [
    "import matplotlib.pyplot as plt\n",
    "from matplotlib.backends.backend_pdf import PdfPages\n",
    "import numpy as np\n",
    "\n",
    "labels = list(summed_headers.keys())\n",
    "sizes = list(summed_headers.values())\n",
    "\n",
    "# Custom colors for each section\n",
    "colors = [\n",
    "    \"#ff9999\", \"#66b3ff\", \"#99ff99\", \"#ffcc99\", \"#c2c2f0\",\n",
    "    \"#ffb3e6\", \"#c4e17f\", \"#76D7C4\", \"#F7DC6F\", \"#D98880\"\n",
    "]\n",
    "\n",
    "# Set up custom global fonts\n",
    "plt.rcParams['font.family'] = 'DejaVu Sans'\n",
    "plt.rcParams['font.size'] = 14\n",
    "\n",
    "# Create the figure and axis\n",
    "fig, ax = plt.subplots(figsize=(8, 8))\n",
    "\n",
    "# Create the pie chart:\n",
    "# - startangle=90 ensures the first slice (\"Introduction\") begins at 12 o’clock.\n",
    "# - counterclock=False makes the wedges drawn in a clockwise order.\n",
    "wedges, texts, autotexts = ax.pie(\n",
    "    sizes,\n",
    "    labels=labels,\n",
    "    colors=colors,\n",
    "    autopct='%1.1f%%',\n",
    "    startangle=90,        # Start at 12 o’clock.\n",
    "    counterclock=False,   # Draw in a clockwise direction.\n",
    "    textprops={'color': \"black\", 'fontsize': 12, 'fontweight': 'bold'}\n",
    ")\n",
    "\n",
    "# Ensure the pie chart is drawn as a circle.\n",
    "ax.axis('equal')\n",
    "\n",
    "# Add a custom title with styling.\n",
    "ax.set_title(\n",
    "    f\"Section Distribution across {total_notebooks} notebooks totalling {total_lines} lines of content\",\n",
    "    fontsize=20,\n",
    "    fontweight='bold',\n",
    "    fontfamily='DejaVu Sans',\n",
    "    color='#2C3E50',\n",
    "    pad=20\n",
    ")\n",
    "\n",
    "# Draw a firm black line from the center to the 12 o’clock position.\n",
    "start_angle_rad = np.deg2rad(90)  # 90° in radians corresponds to 12 o'clock.\n",
    "x_end = np.cos(start_angle_rad)\n",
    "y_end = np.sin(start_angle_rad)\n",
    "ax.plot([0, x_end], [0, y_end], color='black', lw=3, zorder=10)\n",
    "\n",
    "# Place a legend outside the pie chart.\n",
    "#ax.legend(\n",
    "#    wedges,\n",
    "#    labels,\n",
    "#    title=\"Sections\",\n",
    "#    loc=\"center left\",\n",
    "#    bbox_to_anchor=(1, 0, 0.5, 1),\n",
    "#    prop={'size': 12, 'weight': 'bold', 'family': 'DejaVu Sans'}\n",
    "#)\n",
    "\n",
    "# Save the figure as a PDF file.\n",
    "pdf_filename = \"piechart.pdf\"\n",
    "with PdfPages(pdf_filename) as pdf:\n",
    "    pdf.savefig(fig, bbox_inches='tight')\n",
    "    plt.close()\n",
    "\n",
    "print(f\"Pie chart has been successfully saved as '{pdf_filename}'.\")"
   ]
  },
  {
   "cell_type": "code",
   "execution_count": null,
   "id": "a5bc76f4-248a-4be0-9a2b-18183c32bca4",
   "metadata": {},
   "outputs": [],
   "source": []
  }
 ],
 "metadata": {
  "kernelspec": {
   "display_name": "Python 3 (ipykernel)",
   "language": "python",
   "name": "python3"
  },
  "language_info": {
   "codemirror_mode": {
    "name": "ipython",
    "version": 3
   },
   "file_extension": ".py",
   "mimetype": "text/x-python",
   "name": "python",
   "nbconvert_exporter": "python",
   "pygments_lexer": "ipython3",
   "version": "3.12.2"
  }
 },
 "nbformat": 4,
 "nbformat_minor": 5
}
