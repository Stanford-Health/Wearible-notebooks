{
  "nbformat": 4,
  "nbformat_minor": 0,
  "metadata": {
    "colab": {
      "provenance": []
    },
    "kernelspec": {
      "name": "python3",
      "display_name": "Python 3"
    },
    "language_info": {
      "name": "python"
    }
  },
  "cells": [
    {
      "cell_type": "markdown",
      "source": [
        "# Polar Verity Sense: Guide to data extraction and analysis"
      ],
      "metadata": {
        "id": "LgdgFSzo9SYs"
      }
    },
    {
      "cell_type": "markdown",
      "source": [
        "<img src='https://i.imgur.com/LbNai7M.jpg' height=\"500\">\n",
        "<img src='https://i.imgur.com/JiO4aLG.jpg' height=\"500\">\n",
        "\n"
      ],
      "metadata": {
        "id": "H7zTf9DPDIXS"
      }
    },
    {
      "cell_type": "markdown",
      "source": [
        "*^ (Left): A picture of the polar verity sense heart rate monitor (Right): Worn on arm^*"
      ],
      "metadata": {
        "id": "naL5gEN2DaZ4"
      }
    },
    {
      "cell_type": "markdown",
      "source": [
        "The [Polar Verity Sense](https://www.polar.com/en/products/accessories/polar-verity-sense) is a $89 armband heart rate sensor that has often been reviewed as a viable alternative to ECG chest-strap style monitors. Portable and comfortable, it can be worn on the arm (as pictured above) or near the temple (when attached to goggles) while performing exercises indoors, outdoors, and even in the pool.\n",
        "\n",
        "Beyond its accuracy as a heart rate monitor, the Verity Sense's utility lies in its interface with Polar's official app, which helps keep track of data collected from the sensor as well as providing plenty of useful visualizations and analytics. \n",
        "\n",
        "In the following sections, we will present what we have learned from using the Verity Sense and how to extract its data for visualizations and statistical analyses. With the [wearipedia library](http://wearipedia.com/wearables/polar-verity-sense), this process will only require your username and password!"
      ],
      "metadata": {
        "id": "XI6MGYdH9-pH"
      }
    },
    {
      "cell_type": "markdown",
      "source": [
        "We will be able to extract the following parameters (in bold are parameters we will be using in this notebook). Per Activity means one measurement through a single session of exercise. Per second means one measurement every second throughout an exercise.\n",
        "\n",
        "Parameter Name  | Sampling Frequency \n",
        "-------------------|-----------------\n",
        "Calories |  Per Activity\n",
        "Duration | Per Activity\n",
        "Sessions | Per day\n",
        "Continuous Heart Rate |  Per second \n"
      ],
      "metadata": {
        "id": "qfKAFMwf-cm2"
      }
    },
    {
      "cell_type": "markdown",
      "source": [
        "In this guide, we sequentially cover the following **nine** topics:\n",
        "\n",
        "1. **Setup**<br>\n",
        "2. **Authentication and Authorization**<br>\n",
        "   - Requires only username and password, no OAuth.\n",
        "3. **Data Extraction**<br>\n",
        "  - We get data via `wearipedia` in a couple lines of code.\n",
        "4. **Data Exporting**\n",
        "  - We export all of this data to file formats compatible by R, Excel, and MatLab.\n",
        "5. **Adherence**\n",
        "    - We simulate non-adherence by dynamically removing datapoints from our simulated data.\n",
        "6. **Visualization**\n",
        "    - We create a simple plot to visualize our data.\n",
        "7. **Advanced Visualization** <br>\n",
        "  - 7.1 Heart Rate Zones during an Exercise Session <br>\n",
        "  - 7.2 Visualizing Heart Rate Averages and Sessions over a Month <br>\n",
        "  - 7.3 Visualizing Continuous Heart Rate data <br>\n",
        "8. **Outlier Detection and Data Cleaning**\n",
        "    - We detect outliers in our data and filter them out.\n",
        "9. **Statistical Data Analysis** <br>\n",
        "  - 9.1 Analyzing correlation between Average Heart Rate and Calories Burned per Minute <br>\n",
        "  - 9.2 Analyzing correlation between Duration of Workouts and Calories Burned\n",
        "  - 9.3 Analyzing how activity intensity compares in first half and second half of a session\n",
        "\n",
        "**Note that we are not making any scientific claims here as our sample size is small and the data collection process was not rigorously vetted (it is our own data), only demonstrating that this code could potentially be used to perform rigorous analyses in the future.**\n",
        "\n",
        "Disclaimer: this notebook is purely for educational purposes. All of the data currently stored in this notebook is purely *synthetic*, meaning randomly generated according to rules we created. Despite this, the end-to-end data extraction pipeline has been tested on our own data, meaning that if you enter your own email and password on your own Colab instance, you can visualize your own *real* data. That being said, we were unable to thoroughly test the timezone functionality, though, since we only have one account, so beware."
      ],
      "metadata": {
        "id": "I_NoC7rF_G64"
      }
    },
    {
      "cell_type": "markdown",
      "source": [
        "\n",
        "\n",
        "# 1. Setup"
      ],
      "metadata": {
        "id": "xKwooMsw90yZ"
      }
    },
    {
      "cell_type": "markdown",
      "source": [
        "## Participant Setup"
      ],
      "metadata": {
        "id": "QbaGwQiCcOHz"
      }
    },
    {
      "cell_type": "markdown",
      "source": [
        "Dear Participant,\n",
        "\n",
        "Once you unbox your Polar Verity Sense, please set up the device by following the video:\n",
        "\n",
        "\n",
        "*   Video Guide: https://www.youtube.com/watch?v=wiA_ucJJV7Y&t\n",
        "\n",
        "\n",
        "Make sure that your phone is paired to it using the Polar Flow login credentials (email and password) given to you by the study coordinator.\n",
        "\n",
        "Best,\n",
        "\n",
        "Wearipedia"
      ],
      "metadata": {
        "id": "Hj6CmfBJcTHY"
      }
    },
    {
      "cell_type": "markdown",
      "source": [
        "## Data Receiver Setup"
      ],
      "metadata": {
        "id": "yNaCJSmVcRM5"
      }
    },
    {
      "cell_type": "markdown",
      "source": [
        "Please follow the below steps:\n",
        "\n",
        "1. Create an email address for the participant, for example `foo@email.com`\n",
        "2. Create a Polar Flow account with the email `foo@email.com` and some random password.\n",
        "3. Keep `foo@email.com` and password stored somewhere safe.\n",
        "4. Distribute the device to the participant and instruct them to follow the participant setup letter above.\n",
        "5. Install the `wearipedia` Python package to easily extract data from this device."
      ],
      "metadata": {
        "id": "E1DMSOoddDFK"
      }
    },
    {
      "cell_type": "code",
      "source": [
        "!pip install git+https://github.com/Stanford-Health/wearipedia"
      ],
      "metadata": {
        "colab": {
          "base_uri": "https://localhost:8080/"
        },
        "id": "-MYY4ukfbH-K",
        "outputId": "15732c15-21d2-499f-90c9-3dea7bf247cb"
      },
      "execution_count": null,
      "outputs": [
        {
          "output_type": "stream",
          "name": "stdout",
          "text": [
            "Looking in indexes: https://pypi.org/simple, https://us-python.pkg.dev/colab-wheels/public/simple/\n",
            "Collecting git+https://github.com/Stanford-Health/wearipedia\n",
            "  Cloning https://github.com/Stanford-Health/wearipedia to /tmp/pip-req-build-oxa46ots\n",
            "  Running command git clone --filter=blob:none --quiet https://github.com/Stanford-Health/wearipedia /tmp/pip-req-build-oxa46ots\n",
            "  Resolved https://github.com/Stanford-Health/wearipedia to commit 109515bc187b5a2c2c4cf33648c90fbc277083cd\n",
            "  Installing build dependencies ... \u001b[?25l\u001b[?25hdone\n",
            "  Getting requirements to build wheel ... \u001b[?25l\u001b[?25hdone\n",
            "  Preparing metadata (pyproject.toml) ... \u001b[?25l\u001b[?25hdone\n",
            "Collecting garminconnect<0.2.0,>=0.1.48\n",
            "  Downloading garminconnect-0.1.54.tar.gz (20 kB)\n",
            "  Preparing metadata (setup.py) ... \u001b[?25l\u001b[?25hdone\n",
            "Requirement already satisfied: pandas<2.0,>=1.1 in /usr/local/lib/python3.9/dist-packages (from wearipedia==0.1.2) (1.4.4)\n",
            "Collecting wget<4.0,>=3.2\n",
            "  Downloading wget-3.2.zip (10 kB)\n",
            "  Preparing metadata (setup.py) ... \u001b[?25l\u001b[?25hdone\n",
            "Collecting rich<13.0.0,>=12.6.0\n",
            "  Downloading rich-12.6.0-py3-none-any.whl (237 kB)\n",
            "\u001b[2K     \u001b[90m━━━━━━━━━━━━━━━━━━━━━━━━━━━━━━━━━━━━━━━\u001b[0m \u001b[32m237.5/237.5 KB\u001b[0m \u001b[31m6.7 MB/s\u001b[0m eta \u001b[36m0:00:00\u001b[0m\n",
            "\u001b[?25hRequirement already satisfied: scipy<2.0,>=1.6 in /usr/local/lib/python3.9/dist-packages (from wearipedia==0.1.2) (1.10.1)\n",
            "Collecting typer[all]<0.7.0,>=0.6.1\n",
            "  Downloading typer-0.6.1-py3-none-any.whl (38 kB)\n",
            "Collecting fbm<0.4.0,>=0.3.0\n",
            "  Downloading fbm-0.3.0-py3-none-any.whl (9.4 kB)\n",
            "Requirement already satisfied: tqdm<5.0.0,>=4.64.1 in /usr/local/lib/python3.9/dist-packages (from wearipedia==0.1.2) (4.65.0)\n",
            "Requirement already satisfied: numpy in /usr/local/lib/python3.9/dist-packages (from fbm<0.4.0,>=0.3.0->wearipedia==0.1.2) (1.22.4)\n",
            "Requirement already satisfied: requests in /usr/local/lib/python3.9/dist-packages (from garminconnect<0.2.0,>=0.1.48->wearipedia==0.1.2) (2.27.1)\n",
            "Collecting cloudscraper\n",
            "  Downloading cloudscraper-1.2.69-py2.py3-none-any.whl (99 kB)\n",
            "\u001b[2K     \u001b[90m━━━━━━━━━━━━━━━━━━━━━━━━━━━━━━━━━━━━━━━━\u001b[0m \u001b[32m99.7/99.7 KB\u001b[0m \u001b[31m10.2 MB/s\u001b[0m eta \u001b[36m0:00:00\u001b[0m\n",
            "\u001b[?25hRequirement already satisfied: python-dateutil>=2.8.1 in /usr/local/lib/python3.9/dist-packages (from pandas<2.0,>=1.1->wearipedia==0.1.2) (2.8.2)\n",
            "Requirement already satisfied: pytz>=2020.1 in /usr/local/lib/python3.9/dist-packages (from pandas<2.0,>=1.1->wearipedia==0.1.2) (2022.7.1)\n",
            "Requirement already satisfied: pygments<3.0.0,>=2.6.0 in /usr/local/lib/python3.9/dist-packages (from rich<13.0.0,>=12.6.0->wearipedia==0.1.2) (2.6.1)\n",
            "Collecting commonmark<0.10.0,>=0.9.0\n",
            "  Downloading commonmark-0.9.1-py2.py3-none-any.whl (51 kB)\n",
            "\u001b[2K     \u001b[90m━━━━━━━━━━━━━━━━━━━━━━━━━━━━━━━━━━━━━━━━\u001b[0m \u001b[32m51.1/51.1 KB\u001b[0m \u001b[31m6.2 MB/s\u001b[0m eta \u001b[36m0:00:00\u001b[0m\n",
            "\u001b[?25hRequirement already satisfied: click<9.0.0,>=7.1.1 in /usr/local/lib/python3.9/dist-packages (from typer[all]<0.7.0,>=0.6.1->wearipedia==0.1.2) (8.1.3)\n",
            "Collecting colorama<0.5.0,>=0.4.3\n",
            "  Downloading colorama-0.4.6-py2.py3-none-any.whl (25 kB)\n",
            "Collecting shellingham<2.0.0,>=1.3.0\n",
            "  Downloading shellingham-1.5.0.post1-py2.py3-none-any.whl (9.4 kB)\n",
            "Requirement already satisfied: six>=1.5 in /usr/local/lib/python3.9/dist-packages (from python-dateutil>=2.8.1->pandas<2.0,>=1.1->wearipedia==0.1.2) (1.16.0)\n",
            "Collecting requests-toolbelt>=0.9.1\n",
            "  Downloading requests_toolbelt-0.10.1-py2.py3-none-any.whl (54 kB)\n",
            "\u001b[2K     \u001b[90m━━━━━━━━━━━━━━━━━━━━━━━━━━━━━━━━━━━━━━━━\u001b[0m \u001b[32m54.5/54.5 KB\u001b[0m \u001b[31m1.6 MB/s\u001b[0m eta \u001b[36m0:00:00\u001b[0m\n",
            "\u001b[?25hRequirement already satisfied: pyparsing>=2.4.7 in /usr/local/lib/python3.9/dist-packages (from cloudscraper->garminconnect<0.2.0,>=0.1.48->wearipedia==0.1.2) (3.0.9)\n",
            "Requirement already satisfied: idna<4,>=2.5 in /usr/local/lib/python3.9/dist-packages (from requests->garminconnect<0.2.0,>=0.1.48->wearipedia==0.1.2) (3.4)\n",
            "Requirement already satisfied: urllib3<1.27,>=1.21.1 in /usr/local/lib/python3.9/dist-packages (from requests->garminconnect<0.2.0,>=0.1.48->wearipedia==0.1.2) (1.26.15)\n",
            "Requirement already satisfied: charset-normalizer~=2.0.0 in /usr/local/lib/python3.9/dist-packages (from requests->garminconnect<0.2.0,>=0.1.48->wearipedia==0.1.2) (2.0.12)\n",
            "Requirement already satisfied: certifi>=2017.4.17 in /usr/local/lib/python3.9/dist-packages (from requests->garminconnect<0.2.0,>=0.1.48->wearipedia==0.1.2) (2022.12.7)\n",
            "Building wheels for collected packages: wearipedia, garminconnect, wget\n",
            "  Building wheel for wearipedia (pyproject.toml) ... \u001b[?25l\u001b[?25hdone\n",
            "  Created wheel for wearipedia: filename=wearipedia-0.1.2-py3-none-any.whl size=51992 sha256=ec527d703ad114eeed1fa2ea099cfd880642e1b583dcbc80859b76920e7e1c1b\n",
            "  Stored in directory: /tmp/pip-ephem-wheel-cache-bw7573bu/wheels/2f/96/30/8777e9ebf1774ada434910b96324288fe0eadced9f142d4fbc\n",
            "  Building wheel for garminconnect (setup.py) ... \u001b[?25l\u001b[?25hdone\n",
            "  Created wheel for garminconnect: filename=garminconnect-0.1.54-py3-none-any.whl size=13614 sha256=bfcef9dd3e1f57373a9224b9a40a14e3670676b73bace8dd7e51cb58c4a3e8f6\n",
            "  Stored in directory: /root/.cache/pip/wheels/d9/3b/2a/0a0197cc2be72da01e358dc415929a0fc322de18c96c58b68d\n",
            "  Building wheel for wget (setup.py) ... \u001b[?25l\u001b[?25hdone\n",
            "  Created wheel for wget: filename=wget-3.2-py3-none-any.whl size=9676 sha256=80feb3095f7ee3cbb02254c8521caa7dff672574b80633654c03032b0499ac5d\n",
            "  Stored in directory: /root/.cache/pip/wheels/04/5f/3e/46cc37c5d698415694d83f607f833f83f0149e49b3af9d0f38\n",
            "Successfully built wearipedia garminconnect wget\n",
            "Installing collected packages: wget, commonmark, typer, shellingham, rich, fbm, colorama, requests-toolbelt, cloudscraper, garminconnect, wearipedia\n",
            "  Attempting uninstall: typer\n",
            "    Found existing installation: typer 0.7.0\n",
            "    Uninstalling typer-0.7.0:\n",
            "      Successfully uninstalled typer-0.7.0\n",
            "Successfully installed cloudscraper-1.2.69 colorama-0.4.6 commonmark-0.9.1 fbm-0.3.0 garminconnect-0.1.54 requests-toolbelt-0.10.1 rich-12.6.0 shellingham-1.5.0.post1 typer-0.6.1 wearipedia-0.1.2 wget-3.2\n"
          ]
        }
      ]
    },
    {
      "cell_type": "markdown",
      "source": [
        "# 2. Authentication and Authorization\n",
        "To obtain access to data, authorization is required. All you'll need to do here is just put in your email and password for your Polar Verity Sense device. We'll use this username and password to extract the data in the sections below."
      ],
      "metadata": {
        "id": "xVLQb6ux-hDj"
      }
    },
    {
      "cell_type": "code",
      "source": [
        "#@title Enter Polar login credentials\n",
        "\n",
        "email_address = '' #@param {type:\"string\"}\n",
        "password = ''#@param {type:\"string\"}"
      ],
      "metadata": {
        "id": "_45KxrBEGbfX"
      },
      "execution_count": null,
      "outputs": []
    },
    {
      "cell_type": "markdown",
      "source": [
        "# 3. Data Extraction"
      ],
      "metadata": {
        "id": "q116WA9g-x1J"
      }
    },
    {
      "cell_type": "markdown",
      "source": [
        "Data can be extracted via [wearipedia](https://github.com/Stanford-Health/wearipedia/), our open-source Python package that unifies dozens of complex wearable device APIs into one simple, common interface.\n",
        "\n",
        "First, we'll set a date range and then extract all of the data within that date range. You can select whether you would like synthetic data or not with the checkbox."
      ],
      "metadata": {
        "id": "H4uekNkDKQGo"
      }
    },
    {
      "cell_type": "code",
      "source": [
        "#@title Enter start and end dates (in the format yyyy-mm-dd)\n",
        "\n",
        "#set start and end dates - this will give you all the data from 2000-01-01 (January 1st, 2000) to 2100-02-03 (February 3rd, 2100), for example\n",
        "start_date='2022-03-01' #@param {type:\"string\"}\n",
        "end_date='2022-06-11' #@param {type:\"string\"}\n",
        "synthetic = True #@param {type:\"boolean\"}"
      ],
      "metadata": {
        "id": "I_v0JMCAenpX"
      },
      "execution_count": null,
      "outputs": []
    },
    {
      "cell_type": "code",
      "source": [
        "import wearipedia\n",
        "\n",
        "device = wearipedia.get_device(\"polar/verity_sense\")\n",
        "\n",
        "if not synthetic:\n",
        "  device.authenticate({\"email\": email_address, \"password\": password})\n",
        "  params = {\"start_date\": start_date, \"end_date\": end_date}\n",
        "  data = device.get_data(\"sessions\", params = params)\n",
        "else:\n",
        "  params = {\"start_date\": start_date, \"end_date\": end_date}\n",
        "  data = device.get_data(\"sessions\", params = params)"
      ],
      "metadata": {
        "id": "haj-SgI9fEJY",
        "colab": {
          "base_uri": "https://localhost:8080/"
        },
        "outputId": "ea50a88a-9bbc-4559-9efd-ea2df9e97041"
      },
      "execution_count": null,
      "outputs": [
        {
          "output_type": "stream",
          "name": "stderr",
          "text": [
            "100%|██████████| 108/108 [00:00<00:00, 56131.95it/s]\n",
            "100%|██████████| 108/108 [00:04<00:00, 25.09it/s]\n"
          ]
        }
      ]
    },
    {
      "cell_type": "markdown",
      "source": [
        "To get a list of the days that actually have data, we can list out the keys for the returned data. Note it might not be feasible to actually print out the entire set of returned data, as it can be quite large."
      ],
      "metadata": {
        "id": "HwWvlNBLEhyE"
      }
    },
    {
      "cell_type": "code",
      "source": [
        "print(data.keys())"
      ],
      "metadata": {
        "colab": {
          "base_uri": "https://localhost:8080/"
        },
        "id": "D5G_5jR6_BAp",
        "outputId": "41c0b2d8-d021-4edd-9eae-a79ce73d6869"
      },
      "execution_count": null,
      "outputs": [
        {
          "output_type": "stream",
          "name": "stdout",
          "text": [
            "dict_keys(['2022-03-01', '2022-03-02', '2022-03-05', '2022-03-03', '2022-03-04', '2022-03-06', '2022-03-14', '2022-03-12', '2022-03-07', '2022-03-15', '2022-04-06', '2022-03-09', '2022-03-31', '2022-03-17', '2022-03-29', '2022-03-21', '2022-04-05', '2022-03-23', '2022-03-22', '2022-03-11', '2022-03-27', '2022-03-28', '2022-03-16', '2022-05-20', '2022-05-04', '2022-03-20', '2022-03-24', '2022-05-11', '2022-04-12', '2022-05-07', '2022-05-23', '2022-05-17', '2022-03-26', '2022-04-09', '2022-04-13', '2022-04-29', '2022-03-18', '2022-04-23', '2022-04-08', '2022-04-11', '2022-05-14', '2022-05-27', '2022-03-10', '2022-06-01', '2022-05-21', '2022-03-25', '2022-05-13'])\n"
          ]
        }
      ]
    },
    {
      "cell_type": "markdown",
      "source": [
        "# 4. Data Exporting"
      ],
      "metadata": {
        "id": "cfUa31-NJLH6"
      }
    },
    {
      "cell_type": "markdown",
      "source": [
        "In this section, we export all of this data to formats compatible with popular scientific computing software (R, Excel, Google Sheets, Matlab). Specifically, we will first export to JSON, which can be read by R and Matlab. Then, we will export to CSV, which can be consumed by Excel, Google Sheets, and every other popular programming language.\n",
        "\n",
        "## Exporting to JSON (R, Matlab, etc.)\n",
        "\n",
        "Exporting to JSON is fairly simple. We export each datatype separately and also export a complete version that includes all simultaneously."
      ],
      "metadata": {
        "id": "FY0XyxmxdowU"
      }
    },
    {
      "cell_type": "code",
      "source": [
        "import json\n",
        "\n",
        "hrs = [data[k]['heart_rates'] for k in data.keys()]\n",
        "calories = [data[k]['calories'] for k in data.keys()]\n",
        "hr_avgs = [sum(data[k]['heart_rates']) / (data[k]['minutes'] * 60) for k in data.keys()]\n",
        "durations = [data[k]['minutes'] for k in data.keys()]\n",
        "\n",
        "json.dump(list(data.keys()), open(\"dates.json\", \"w\"))\n",
        "json.dump(calories, open(\"calories.json\", \"w\"))\n",
        "json.dump(hrs, open(\"hrs.json\", \"w\"))\n",
        "json.dump(hr_avgs, open(\"hr_avgs.json\", \"w\"))\n",
        "json.dump(durations, open(\"durations.json\", \"w\"))\n",
        "\n",
        "complete = {\n",
        "    \"dates\": list(data.keys()),\n",
        "    \"calories\": calories,\n",
        "    \"hrs\": hrs,\n",
        "    \"hr_avgs\": hr_avgs,\n",
        "    \"durations\": durations,\n",
        "}\n",
        "\n",
        "\n",
        "json.dump(complete, open(\"complete.json\", \"w\"))"
      ],
      "metadata": {
        "id": "MUP8QbnmtdF6"
      },
      "execution_count": null,
      "outputs": []
    },
    {
      "cell_type": "markdown",
      "source": [
        "## Exporting to CSV and XLSX (Excel, Google Sheets, R, Matlab, etc.)"
      ],
      "metadata": {
        "id": "lywBjc_DBDTw"
      }
    },
    {
      "cell_type": "markdown",
      "source": [
        "Exporting to CSV/XLSX will require us to first process the data into a pandas dataframe format, which can then be converted into our desired file type.\n",
        "\n",
        "Here we will export three separate files: the first will contain heart rate data (labeled by date and time), and the second will contain daily summary data such as calories, average heart rate, and minutes (labeled by date). Additionally, we will make a third dataframe containing only heart rate data for one session (of your choice) to help us with further visualizations and analysis in the following sections of this notebook."
      ],
      "metadata": {
        "id": "Z6wODk-cBIW_"
      }
    },
    {
      "cell_type": "code",
      "source": [
        "day = \"2022-03-01\" #@param {type: \"string\"}\n",
        "\n",
        "# set the day of interest automatically if not specified\n",
        "if day == \"\":\n",
        "  day = list(data.keys())[0]"
      ],
      "metadata": {
        "id": "ZwrOmk0GFVGK"
      },
      "execution_count": null,
      "outputs": []
    },
    {
      "cell_type": "code",
      "source": [
        "import pandas as pd\n",
        "from datetime import timedelta\n",
        "from datetime import datetime\n",
        "import numpy as np\n",
        "import copy\n",
        "\n",
        "# Third dataframe and list of dataframes:\n",
        "hr_df = None\n",
        "hr_dfs = []\n",
        "\n",
        "# 1. First dataframe\n",
        "# we initialize a variable all_df that will hold all the session data for this dataframe\n",
        "all_df = None\n",
        "for key in data.keys():\n",
        "  # determine duration of a workout\n",
        "  duration = data[key]['minutes']*60\n",
        "  \n",
        "  # set the start time of every session to 0s\n",
        "  start_time = timedelta(hours=0, minutes=0, seconds=0)\n",
        "\n",
        "  # create times columns which is the series of seconds in the duration\n",
        "  times = [str(start_time + timedelta(seconds=i)).zfill(8) for i in range(int(duration))]\n",
        "  tdf = pd.DataFrame(zip(times,data[key]['heart_rates']),columns=['time','bpm'])\n",
        "\n",
        "  # mapping is a function that will format the time to include the date of exercise\n",
        "  mapping = lambda x: np.datetime64(key+ \" \" + x)\n",
        "  tdf[\"time\"] = tdf[\"time\"].apply(mapping)\n",
        "\n",
        "  # append the new dataframe for the session to the main dataframe\n",
        "  # save the dataframe as hr_df which is our \"third\" dataframe\n",
        "  if key == day:\n",
        "    hr_df = tdf\n",
        "  if type(all_df) == type(None):\n",
        "    all_df = tdf\n",
        "  else:\n",
        "    all_df = all_df.append(tdf)\n",
        "  hr_dfs.append(copy.deepcopy(tdf))\n",
        "#print(\"DataFrame 1: All heart rates\")\n",
        "#display(df1)\n",
        "\n",
        "# 2. Second dataframe\n",
        "df2 = None\n",
        "for key in data.keys():\n",
        "  # calculate the average heart rate for this session\n",
        "  avg_rate = sum(data[key]['heart_rates']) / (data[key]['minutes'] * 60)\n",
        "\n",
        "  # if the dataframe is null, create. Otherwise, append the new session summary to it\n",
        "  if type(df2) == type(None):\n",
        "    df2 = pd.DataFrame([[key,data[key]['minutes'],data[key]['calories'], avg_rate]],columns=['day','minutes','calories', 'avg_rate'])\n",
        "  else:\n",
        "    tdf = pd.DataFrame([[key,data[key]['minutes'],data[key]['calories'], avg_rate]],columns=['day','minutes','calories', 'avg_rate'])\n",
        "    df2 = df2.append(tdf)\n",
        "#print(\"DataFrame 2: Summary Data\")\n",
        "#display(df2)\n",
        "\n",
        "# 3. Third dataframe\n",
        "print(\"DataFrame 3: Single session heart rate\")\n",
        "display(hr_df)"
      ],
      "metadata": {
        "id": "S2T9oM7Vdz1w",
        "colab": {
          "base_uri": "https://localhost:8080/",
          "height": 1000
        },
        "outputId": "df798f96-e663-46fe-a86f-7040d45d9479"
      },
      "execution_count": null,
      "outputs": [
        {
          "output_type": "stream",
          "name": "stderr",
          "text": [
            "<ipython-input-7-934337102cbd>:36: FutureWarning: The frame.append method is deprecated and will be removed from pandas in a future version. Use pandas.concat instead.\n",
            "  all_df = all_df.append(tdf)\n",
            "<ipython-input-7-934337102cbd>:36: FutureWarning: The frame.append method is deprecated and will be removed from pandas in a future version. Use pandas.concat instead.\n",
            "  all_df = all_df.append(tdf)\n",
            "<ipython-input-7-934337102cbd>:36: FutureWarning: The frame.append method is deprecated and will be removed from pandas in a future version. Use pandas.concat instead.\n",
            "  all_df = all_df.append(tdf)\n",
            "<ipython-input-7-934337102cbd>:36: FutureWarning: The frame.append method is deprecated and will be removed from pandas in a future version. Use pandas.concat instead.\n",
            "  all_df = all_df.append(tdf)\n",
            "<ipython-input-7-934337102cbd>:36: FutureWarning: The frame.append method is deprecated and will be removed from pandas in a future version. Use pandas.concat instead.\n",
            "  all_df = all_df.append(tdf)\n",
            "<ipython-input-7-934337102cbd>:36: FutureWarning: The frame.append method is deprecated and will be removed from pandas in a future version. Use pandas.concat instead.\n",
            "  all_df = all_df.append(tdf)\n",
            "<ipython-input-7-934337102cbd>:36: FutureWarning: The frame.append method is deprecated and will be removed from pandas in a future version. Use pandas.concat instead.\n",
            "  all_df = all_df.append(tdf)\n",
            "<ipython-input-7-934337102cbd>:36: FutureWarning: The frame.append method is deprecated and will be removed from pandas in a future version. Use pandas.concat instead.\n",
            "  all_df = all_df.append(tdf)\n"
          ]
        },
        {
          "output_type": "stream",
          "name": "stdout",
          "text": [
            "DataFrame 3: Single session heart rate\n"
          ]
        },
        {
          "output_type": "stream",
          "name": "stderr",
          "text": [
            "<ipython-input-7-934337102cbd>:36: FutureWarning: The frame.append method is deprecated and will be removed from pandas in a future version. Use pandas.concat instead.\n",
            "  all_df = all_df.append(tdf)\n",
            "<ipython-input-7-934337102cbd>:36: FutureWarning: The frame.append method is deprecated and will be removed from pandas in a future version. Use pandas.concat instead.\n",
            "  all_df = all_df.append(tdf)\n",
            "<ipython-input-7-934337102cbd>:36: FutureWarning: The frame.append method is deprecated and will be removed from pandas in a future version. Use pandas.concat instead.\n",
            "  all_df = all_df.append(tdf)\n",
            "<ipython-input-7-934337102cbd>:52: FutureWarning: The frame.append method is deprecated and will be removed from pandas in a future version. Use pandas.concat instead.\n",
            "  df2 = df2.append(tdf)\n",
            "<ipython-input-7-934337102cbd>:52: FutureWarning: The frame.append method is deprecated and will be removed from pandas in a future version. Use pandas.concat instead.\n",
            "  df2 = df2.append(tdf)\n",
            "<ipython-input-7-934337102cbd>:52: FutureWarning: The frame.append method is deprecated and will be removed from pandas in a future version. Use pandas.concat instead.\n",
            "  df2 = df2.append(tdf)\n",
            "<ipython-input-7-934337102cbd>:52: FutureWarning: The frame.append method is deprecated and will be removed from pandas in a future version. Use pandas.concat instead.\n",
            "  df2 = df2.append(tdf)\n",
            "<ipython-input-7-934337102cbd>:52: FutureWarning: The frame.append method is deprecated and will be removed from pandas in a future version. Use pandas.concat instead.\n",
            "  df2 = df2.append(tdf)\n",
            "<ipython-input-7-934337102cbd>:52: FutureWarning: The frame.append method is deprecated and will be removed from pandas in a future version. Use pandas.concat instead.\n",
            "  df2 = df2.append(tdf)\n",
            "<ipython-input-7-934337102cbd>:52: FutureWarning: The frame.append method is deprecated and will be removed from pandas in a future version. Use pandas.concat instead.\n",
            "  df2 = df2.append(tdf)\n",
            "<ipython-input-7-934337102cbd>:52: FutureWarning: The frame.append method is deprecated and will be removed from pandas in a future version. Use pandas.concat instead.\n",
            "  df2 = df2.append(tdf)\n",
            "<ipython-input-7-934337102cbd>:52: FutureWarning: The frame.append method is deprecated and will be removed from pandas in a future version. Use pandas.concat instead.\n",
            "  df2 = df2.append(tdf)\n",
            "<ipython-input-7-934337102cbd>:52: FutureWarning: The frame.append method is deprecated and will be removed from pandas in a future version. Use pandas.concat instead.\n",
            "  df2 = df2.append(tdf)\n",
            "<ipython-input-7-934337102cbd>:52: FutureWarning: The frame.append method is deprecated and will be removed from pandas in a future version. Use pandas.concat instead.\n",
            "  df2 = df2.append(tdf)\n"
          ]
        },
        {
          "output_type": "display_data",
          "data": {
            "text/plain": [
              "                    time         bpm\n",
              "0    2022-03-01 00:00:00   94.110535\n",
              "1    2022-03-01 00:00:01   91.859208\n",
              "2    2022-03-01 00:00:02   93.210171\n",
              "3    2022-03-01 00:00:03   92.384613\n",
              "4    2022-03-01 00:00:04   94.371856\n",
              "...                  ...         ...\n",
              "3295 2022-03-01 00:54:55  113.640748\n",
              "3296 2022-03-01 00:54:56  112.272621\n",
              "3297 2022-03-01 00:54:57  113.242246\n",
              "3298 2022-03-01 00:54:58  113.983096\n",
              "3299 2022-03-01 00:54:59  112.863315\n",
              "\n",
              "[3300 rows x 2 columns]"
            ],
            "text/html": [
              "\n",
              "  <div id=\"df-16f24657-6bba-4907-9482-97772b231ddd\">\n",
              "    <div class=\"colab-df-container\">\n",
              "      <div>\n",
              "<style scoped>\n",
              "    .dataframe tbody tr th:only-of-type {\n",
              "        vertical-align: middle;\n",
              "    }\n",
              "\n",
              "    .dataframe tbody tr th {\n",
              "        vertical-align: top;\n",
              "    }\n",
              "\n",
              "    .dataframe thead th {\n",
              "        text-align: right;\n",
              "    }\n",
              "</style>\n",
              "<table border=\"1\" class=\"dataframe\">\n",
              "  <thead>\n",
              "    <tr style=\"text-align: right;\">\n",
              "      <th></th>\n",
              "      <th>time</th>\n",
              "      <th>bpm</th>\n",
              "    </tr>\n",
              "  </thead>\n",
              "  <tbody>\n",
              "    <tr>\n",
              "      <th>0</th>\n",
              "      <td>2022-03-01 00:00:00</td>\n",
              "      <td>94.110535</td>\n",
              "    </tr>\n",
              "    <tr>\n",
              "      <th>1</th>\n",
              "      <td>2022-03-01 00:00:01</td>\n",
              "      <td>91.859208</td>\n",
              "    </tr>\n",
              "    <tr>\n",
              "      <th>2</th>\n",
              "      <td>2022-03-01 00:00:02</td>\n",
              "      <td>93.210171</td>\n",
              "    </tr>\n",
              "    <tr>\n",
              "      <th>3</th>\n",
              "      <td>2022-03-01 00:00:03</td>\n",
              "      <td>92.384613</td>\n",
              "    </tr>\n",
              "    <tr>\n",
              "      <th>4</th>\n",
              "      <td>2022-03-01 00:00:04</td>\n",
              "      <td>94.371856</td>\n",
              "    </tr>\n",
              "    <tr>\n",
              "      <th>...</th>\n",
              "      <td>...</td>\n",
              "      <td>...</td>\n",
              "    </tr>\n",
              "    <tr>\n",
              "      <th>3295</th>\n",
              "      <td>2022-03-01 00:54:55</td>\n",
              "      <td>113.640748</td>\n",
              "    </tr>\n",
              "    <tr>\n",
              "      <th>3296</th>\n",
              "      <td>2022-03-01 00:54:56</td>\n",
              "      <td>112.272621</td>\n",
              "    </tr>\n",
              "    <tr>\n",
              "      <th>3297</th>\n",
              "      <td>2022-03-01 00:54:57</td>\n",
              "      <td>113.242246</td>\n",
              "    </tr>\n",
              "    <tr>\n",
              "      <th>3298</th>\n",
              "      <td>2022-03-01 00:54:58</td>\n",
              "      <td>113.983096</td>\n",
              "    </tr>\n",
              "    <tr>\n",
              "      <th>3299</th>\n",
              "      <td>2022-03-01 00:54:59</td>\n",
              "      <td>112.863315</td>\n",
              "    </tr>\n",
              "  </tbody>\n",
              "</table>\n",
              "<p>3300 rows × 2 columns</p>\n",
              "</div>\n",
              "      <button class=\"colab-df-convert\" onclick=\"convertToInteractive('df-16f24657-6bba-4907-9482-97772b231ddd')\"\n",
              "              title=\"Convert this dataframe to an interactive table.\"\n",
              "              style=\"display:none;\">\n",
              "        \n",
              "  <svg xmlns=\"http://www.w3.org/2000/svg\" height=\"24px\"viewBox=\"0 0 24 24\"\n",
              "       width=\"24px\">\n",
              "    <path d=\"M0 0h24v24H0V0z\" fill=\"none\"/>\n",
              "    <path d=\"M18.56 5.44l.94 2.06.94-2.06 2.06-.94-2.06-.94-.94-2.06-.94 2.06-2.06.94zm-11 1L8.5 8.5l.94-2.06 2.06-.94-2.06-.94L8.5 2.5l-.94 2.06-2.06.94zm10 10l.94 2.06.94-2.06 2.06-.94-2.06-.94-.94-2.06-.94 2.06-2.06.94z\"/><path d=\"M17.41 7.96l-1.37-1.37c-.4-.4-.92-.59-1.43-.59-.52 0-1.04.2-1.43.59L10.3 9.45l-7.72 7.72c-.78.78-.78 2.05 0 2.83L4 21.41c.39.39.9.59 1.41.59.51 0 1.02-.2 1.41-.59l7.78-7.78 2.81-2.81c.8-.78.8-2.07 0-2.86zM5.41 20L4 18.59l7.72-7.72 1.47 1.35L5.41 20z\"/>\n",
              "  </svg>\n",
              "      </button>\n",
              "      \n",
              "  <style>\n",
              "    .colab-df-container {\n",
              "      display:flex;\n",
              "      flex-wrap:wrap;\n",
              "      gap: 12px;\n",
              "    }\n",
              "\n",
              "    .colab-df-convert {\n",
              "      background-color: #E8F0FE;\n",
              "      border: none;\n",
              "      border-radius: 50%;\n",
              "      cursor: pointer;\n",
              "      display: none;\n",
              "      fill: #1967D2;\n",
              "      height: 32px;\n",
              "      padding: 0 0 0 0;\n",
              "      width: 32px;\n",
              "    }\n",
              "\n",
              "    .colab-df-convert:hover {\n",
              "      background-color: #E2EBFA;\n",
              "      box-shadow: 0px 1px 2px rgba(60, 64, 67, 0.3), 0px 1px 3px 1px rgba(60, 64, 67, 0.15);\n",
              "      fill: #174EA6;\n",
              "    }\n",
              "\n",
              "    [theme=dark] .colab-df-convert {\n",
              "      background-color: #3B4455;\n",
              "      fill: #D2E3FC;\n",
              "    }\n",
              "\n",
              "    [theme=dark] .colab-df-convert:hover {\n",
              "      background-color: #434B5C;\n",
              "      box-shadow: 0px 1px 3px 1px rgba(0, 0, 0, 0.15);\n",
              "      filter: drop-shadow(0px 1px 2px rgba(0, 0, 0, 0.3));\n",
              "      fill: #FFFFFF;\n",
              "    }\n",
              "  </style>\n",
              "\n",
              "      <script>\n",
              "        const buttonEl =\n",
              "          document.querySelector('#df-16f24657-6bba-4907-9482-97772b231ddd button.colab-df-convert');\n",
              "        buttonEl.style.display =\n",
              "          google.colab.kernel.accessAllowed ? 'block' : 'none';\n",
              "\n",
              "        async function convertToInteractive(key) {\n",
              "          const element = document.querySelector('#df-16f24657-6bba-4907-9482-97772b231ddd');\n",
              "          const dataTable =\n",
              "            await google.colab.kernel.invokeFunction('convertToInteractive',\n",
              "                                                     [key], {});\n",
              "          if (!dataTable) return;\n",
              "\n",
              "          const docLinkHtml = 'Like what you see? Visit the ' +\n",
              "            '<a target=\"_blank\" href=https://colab.research.google.com/notebooks/data_table.ipynb>data table notebook</a>'\n",
              "            + ' to learn more about interactive tables.';\n",
              "          element.innerHTML = '';\n",
              "          dataTable['output_type'] = 'display_data';\n",
              "          await google.colab.output.renderOutput(dataTable, element);\n",
              "          const docLink = document.createElement('div');\n",
              "          docLink.innerHTML = docLinkHtml;\n",
              "          element.appendChild(docLink);\n",
              "        }\n",
              "      </script>\n",
              "    </div>\n",
              "  </div>\n",
              "  "
            ]
          },
          "metadata": {}
        }
      ]
    },
    {
      "cell_type": "markdown",
      "source": [
        "With this, we have retrieved all the data we need! Now we can start visualizing our data."
      ],
      "metadata": {
        "id": "lX5c4u2F-Kze"
      }
    },
    {
      "cell_type": "markdown",
      "source": [
        "# 5. Adherence"
      ],
      "metadata": {
        "id": "00EXnoNha36z"
      }
    },
    {
      "cell_type": "markdown",
      "source": [
        "The device simulator already automatically randomly deletes exercise session data. In this section, we will simulate non-adherence over longer periods of time from the participant (day-level and week-level). Additionally, while unlikely, there is a potential for the heart rate monitor to fall off mid session and for the participant to not realize. We will simulate this as well.\n",
        "\n",
        "Then, we will detect these instances of non-adherence and give a Pandas DataFrame that concisely describes when the participant has had their device on and off throughout the entirety of the time period, allowing you to calculate how long they've had it on/off etc.\n",
        "\n",
        "We will simulate non-adherence by deleting or inserting 0s (indicating sensor removal) from a certain % of blocks either at the day level or week level, with user input."
      ],
      "metadata": {
        "id": "UYv17T2osq2N"
      }
    },
    {
      "cell_type": "code",
      "source": [
        "#@title Non-adherence simulation\n",
        "block_level = \"day\" #@param [\"day\",\"week\"]\n",
        "adherence_percent = 0.65 #@param {type:\"slider\", min:0, max:1, step:0.01}"
      ],
      "metadata": {
        "id": "xfyU84Fos63M"
      },
      "execution_count": null,
      "outputs": []
    },
    {
      "cell_type": "code",
      "source": [
        "import numpy as np\n",
        "import pandas as pd\n",
        "from datetime import datetime\n",
        "import copy\n",
        "import random\n",
        "\n",
        "if block_level == \"day\":\n",
        "  block_length = 1\n",
        "elif block_level == \"week\":\n",
        "    block_length = 7\n",
        "\n",
        "dates = np.array(list(data.keys()))\n",
        "\n",
        "num_blocks = len(dates) // block_length\n",
        "\n",
        "num_blocks_to_remove = int((1-adherence_percent) * num_blocks)\n",
        "\n",
        "remove = np.random.choice(dates, replace=False, size=num_blocks_to_remove)\n",
        "\n",
        "adhered_data = copy.deepcopy(data)\n",
        "adhered_dates = copy.deepcopy(list(data.keys()))\n",
        "\n",
        "for key in remove:\n",
        "  # some non-adherence will be completely removed data sessions\n",
        "  if np.random.rand() < 0.8:\n",
        "    adhered_data.pop(key)\n",
        "    adhered_dates.remove(key)\n",
        "  # other non-adherence may be because the device stopped recording data part way through the session\n",
        "  else:\n",
        "    adhered_data[key]['heart_rates'] += (list(np.zeros(100)))"
      ],
      "metadata": {
        "id": "7cK3DZV9tINS"
      },
      "execution_count": null,
      "outputs": []
    },
    {
      "cell_type": "markdown",
      "source": [
        "And now we have significantly fewer datapoints! This will give us a more realistic situation, where participants may not use their device for days or weeks at a time.\n",
        "\n",
        "Now let's detect non-adherence. We will plot the days when the participant uses the watch and when they do not, as well as the days where they record complete sessions (i.e. they do not remove the sensor partway through their session)."
      ],
      "metadata": {
        "id": "fk-Kpjrr3FIQ"
      }
    },
    {
      "cell_type": "code",
      "source": [
        "import matplotlib.pyplot as plt\n",
        "from datetime import datetime\n",
        "import pandas as pd\n",
        "\n",
        "datelist = pd.date_range(start_date, end_date)\n",
        "is_wearing = []\n",
        "print(adhered_dates)\n",
        "for date in datelist:\n",
        "  day = datetime.strftime(date, \"%Y-%m-%d\")\n",
        "  if day in adhered_dates:\n",
        "    if 0.0 in adhered_data[day]['heart_rates']:\n",
        "      is_wearing.append(0)\n",
        "    else:\n",
        "      is_wearing.append(1)\n",
        "  else:\n",
        "    is_wearing.append(0)\n",
        "\n",
        "plt.figure(figsize=(12, 6))\n",
        "plt.plot(datelist,is_wearing,drawstyle=\"steps-mid\")"
      ],
      "metadata": {
        "colab": {
          "base_uri": "https://localhost:8080/",
          "height": 409
        },
        "id": "M5qPB71U4gLv",
        "outputId": "46aa38a7-a31d-4ac5-a34c-4e46a7f4ff60"
      },
      "execution_count": null,
      "outputs": [
        {
          "output_type": "stream",
          "name": "stdout",
          "text": [
            "['2022-05-06', '2022-04-06', '2022-03-21']\n"
          ]
        },
        {
          "output_type": "execute_result",
          "data": {
            "text/plain": [
              "[<matplotlib.lines.Line2D at 0x7fdaf525b340>]"
            ]
          },
          "metadata": {},
          "execution_count": 47
        },
        {
          "output_type": "display_data",
          "data": {
            "text/plain": [
              "<Figure size 864x432 with 1 Axes>"
            ],
            "image/png": "[encoded data removed]"
          },
          "metadata": {
            "needs_background": "light"
          }
        }
      ]
    },
    {
      "cell_type": "markdown",
      "source": [
        "# 6. Visualization"
      ],
      "metadata": {
        "id": "BbYnd1Lza5us"
      }
    },
    {
      "cell_type": "markdown",
      "source": [
        "We've extracted lots of data, but what does it look like?\n",
        "\n",
        "In this section, we will be visualizing our three kinds of data in a simple, customizable plot! This plot is intended to provide a starter example for plotting, whereas later examples emphasize deep control and aesthetics."
      ],
      "metadata": {
        "id": "_Z9FANojswgS"
      }
    },
    {
      "cell_type": "code",
      "source": [
        "#@title Basic Plot\n",
        "feature = \"heart rate\" #@param [\"heart rate\", \"average heart rate\", \"calories\"]\n",
        "start_date = \"2022-04-06\" #@param {type:\"date\"}\n",
        "time_interval = \"one day\" #@param [\"one day\", \"one week\", \"full time\"]\n",
        "smoothness = 0.05 #@param {type:\"slider\", min:0, max:1, step:0.01}\n",
        "smooth_plot = True #@param {type:\"boolean\"}\n",
        "\n",
        "from scipy.special import y0\n",
        "import matplotlib.dates as mdates\n",
        "import matplotlib.pyplot as plt\n",
        "from datetime import datetime, timedelta\n",
        "import pandas as pd\n",
        "from scipy.ndimage.filters import gaussian_filter1d\n",
        "\n",
        "if time_interval == \"one day\":\n",
        "  datelist = pd.date_range(start_date, periods=2)\n",
        "elif time_interval == \"one week\":\n",
        "  datelist = pd.date_range(start_date, periods=8)\n",
        "elif time_interval == \"full time\":\n",
        "  datelist = pd.date_range(start_date, end_date)\n",
        "\n",
        "plt.figure(figsize=(16,10))\n",
        "\n",
        "for d in datelist:\n",
        "  end = d + timedelta(days=1)\n",
        "  start = d\n",
        "\n",
        "  if feature == \"heart rate\":\n",
        "    tempdf = all_df[all_df[\"time\"].map(lambda x: datetime.strptime(datetime.strftime(x,\"%Y-%m-%d\"),\"%Y-%m-%d\") >= start and datetime.strptime(datetime.strftime(x,\"%Y-%m-%d\"),\"%Y-%m-%d\") <= end)]\n",
        "    y = tempdf[\"bpm\"]\n",
        "    x = list(range(len(y)))#tempdf[\"time\"]\n",
        "    sigma = 200*smoothness\n",
        "  elif feature == \"average heart rate\":\n",
        "    tempdf = df2[df2[\"day\"].map(lambda x: datetime.strptime(x,\"%Y-%m-%d\") <= end and datetime.strptime(x,\"%Y-%m-%d\") >= start)]\n",
        "    y = tempdf[\"avg_rate\"]\n",
        "    x = tempdf[\"day\"]\n",
        "    sigma = 5*smoothness\n",
        "  elif feature == \"calories\":\n",
        "    tempdf = df2[df2[\"day\"].map(lambda x: datetime.strptime(x,\"%Y-%m-%d\") <= end and datetime.strptime(x,\"%Y-%m-%d\") >= start)]\n",
        "    y = tempdf[\"calories\"]\n",
        "    x = tempdf[\"day\"]\n",
        "    sigma = 5*smoothness\n",
        "\n",
        "  if smooth_plot:\n",
        "    y = list(gaussian_filter1d(y, sigma=sigma))\n",
        "  \n",
        "  if feature == \"heart rate\":\n",
        "    plt.plot(x, y)\n",
        "  else:\n",
        "    plt.bar(x,y)\n",
        "\n",
        "title_fillin = feature\n",
        "if time_interval == \"one day\":\n",
        "  plt.title(f\"{title_fillin} on {start_date}\",fontsize=20)\n",
        "else:\n",
        "  plt.title(f\"{title_fillin} from {start_date} to {datetime.strftime(end,'%Y-%m-%d')}\",fontsize=20)\n",
        "plt.xlabel(\"Time\")\n",
        "plt.ylabel(title_fillin[:-1])"
      ],
      "metadata": {
        "colab": {
          "base_uri": "https://localhost:8080/",
          "height": 679
        },
        "cellView": "form",
        "id": "j6BMkOXgfGCH",
        "outputId": "48fbcc74-70f1-4ce6-c281-9f5412205337"
      },
      "execution_count": null,
      "outputs": [
        {
          "output_type": "stream",
          "name": "stderr",
          "text": [
            "<ipython-input-13-d4be0e2f8c4c>:13: DeprecationWarning: Please use `gaussian_filter1d` from the `scipy.ndimage` namespace, the `scipy.ndimage.filters` namespace is deprecated.\n",
            "  from scipy.ndimage.filters import gaussian_filter1d\n"
          ]
        },
        {
          "output_type": "execute_result",
          "data": {
            "text/plain": [
              "Text(0, 0.5, 'heart rat')"
            ]
          },
          "metadata": {},
          "execution_count": 13
        },
        {
          "output_type": "display_data",
          "data": {
            "text/plain": [
              "<Figure size 1152x720 with 1 Axes>"
            ],
            "image/png": "[encoded data removed]"
          },
          "metadata": {
            "needs_background": "light"
          }
        }
      ]
    },
    {
      "cell_type": "markdown",
      "source": [
        "This plot allows you to quickly scan various sessions of your data and for different kinds of measurements (heart rate, average heart rate, and calories), which enables easy and fast data exploration."
      ],
      "metadata": {
        "id": "RwmVAxHm_cC_"
      }
    },
    {
      "cell_type": "markdown",
      "source": [
        "# 7. Advanced Visualization"
      ],
      "metadata": {
        "id": "xCiqKLIq-0_i"
      }
    },
    {
      "cell_type": "markdown",
      "source": [
        "## 7.1 Visualizing Participants Heart Rate Zones during Exercise"
      ],
      "metadata": {
        "id": "OHjeuQmiKFrZ"
      }
    },
    {
      "cell_type": "markdown",
      "source": [
        "One of the graphs the you see when you open an exercise session on polar is a bar chart of heart rate zone durations, or how long your heart rate zone stayed in some range throughout your exercise. It looks something like this:"
      ],
      "metadata": {
        "id": "vJxOApUv3ak5"
      }
    },
    {
      "cell_type": "markdown",
      "source": [
        "\n",
        "<img src='https://i.imgur.com/RBqN6pZ.png' width='750px'>"
      ],
      "metadata": {
        "id": "dN9IAHg5YeMB"
      }
    },
    {
      "cell_type": "markdown",
      "source": [
        "At the bottom (gray) zone is the amount of time spent with heart rate between 100-120 bpm, the next being 120-140 bpm, then 140-160 bpm, 160-180 bpm, and finally 180-200 bpm.\n",
        "\n",
        "We will want the following data:\n",
        "\n",
        "*   The zones we want to plot\n",
        "*   Time in each heart rate zone\n",
        "\n",
        "Polar uses the following zones: 100-120 bpm, 120-140 bpm, 140-160 bpm, 160-180 bpm, 180-200 bpm, which is what we will be using as well. \n",
        "\n",
        "To get the time spent in each heart rate zone, we can use the pandas groupby function to aggregate the heart rates by zones, and then count the number of entries in each group. Since the continuous heart rate data has an entry for every second, this directly gives us the time spent in each heart rate zone."
      ],
      "metadata": {
        "id": "zLaER1dCQO23"
      }
    },
    {
      "cell_type": "code",
      "source": [
        "import pandas as pd\n",
        "\n",
        "ranges = [100,120,140,160,180,200]\n",
        "z1 = hr_df.groupby(pd.cut(hr_df.bpm, ranges), as_index=False).count()\n",
        "z2 = pd.to_datetime(z1['bpm'], unit='s')\n",
        "z2 = pd.DataFrame(z2.dt.strftime('%H:%M:%S'))\n",
        "display(z2['bpm'])"
      ],
      "metadata": {
        "colab": {
          "base_uri": "https://localhost:8080/",
          "height": 121
        },
        "id": "dhTTlNxHnJTI",
        "outputId": "bc71adbe-8e16-4375-ee3c-c0ad913d8f4a"
      },
      "execution_count": null,
      "outputs": [
        {
          "output_type": "display_data",
          "data": {
            "text/plain": [
              "0    00:05:56\n",
              "1    00:27:52\n",
              "2    00:12:57\n",
              "3    00:06:35\n",
              "4    00:03:57\n",
              "Name: bpm, dtype: object"
            ]
          },
          "metadata": {}
        }
      ]
    },
    {
      "cell_type": "markdown",
      "source": [
        "z2 is exactly the heart rate zone data, as we wanted. Now we want to set up two more python arrays that we will use as the y-axis labels, shown here. This data is already available in our z2 series, so we can extract them as necessary."
      ],
      "metadata": {
        "id": "J3yqY-_zbHNE"
      }
    },
    {
      "cell_type": "code",
      "source": [
        "zones = ['1','2','3','4','5']\n",
        "times = [e for e in z1['bpm']][::-1]\n",
        "time_labels = [e for e in z2['bpm']]"
      ],
      "metadata": {
        "id": "FDnEkmZmNTuX"
      },
      "execution_count": null,
      "outputs": []
    },
    {
      "cell_type": "markdown",
      "source": [
        "The zones array will be the left side y-axis label, and the times will be the actual data. We can place these in a pandas dataframe so it will be easier to plot using the python matplotlib library."
      ],
      "metadata": {
        "id": "oy4glSixQzZo"
      }
    },
    {
      "cell_type": "code",
      "source": [
        "import pandas as pd\n",
        "\n",
        "d = {\"zones\":zones, \"times\": times}\n",
        "df1 = pd.DataFrame(data=d)\n",
        "df1.set_index('zones', inplace=True)"
      ],
      "metadata": {
        "id": "RSzx9FzvQ5Xa"
      },
      "execution_count": null,
      "outputs": []
    },
    {
      "cell_type": "markdown",
      "source": [
        "And now we can finally plot the data. We will be using the [horizontal bar plot](https://matplotlib.org/stable/api/_as_gen/matplotlib.pyplot.barh.html) from matplotlib, barh. Since we already have the data we need, we can use barh to directly plot the necessary bars, after which we can apply our desired styling to make the graph look like the one pictured."
      ],
      "metadata": {
        "id": "fMODQ5pbRejn"
      }
    },
    {
      "cell_type": "code",
      "source": [
        "from matplotlib import pyplot as plt, patches\n",
        "import seaborn as sns\n",
        "\n",
        "sns.set_theme(style=\"dark\")\n",
        "fig1, ax = plt.subplots(figsize=(16,6))\n",
        "clrs = [\"#c0c8c8\", \"#46c7ee\", \"#6acc2b\", \"#f9bf1c\", \"#de0f5b\"][::-1] #colors array for the zones\n",
        "\n",
        "#plot the base graph\n",
        "plt. margins(y=0)\n",
        "plt.xlim(0, sum(i for i in df1[\"times\"])) #this sets the graph to have its width equal to the total session time\n",
        "bar1 = ax.barh(df1.index[::-1], df1[\"times\"][::-1], align=\"center\", height=1., color = clrs[::-1]) #plot the bar graph\n",
        "plt.xticks(color='w') #hide the x tick labels\n",
        "plt.yticks(color='w')\n",
        "ax.tick_params(axis='both', labelsize=25, pad=12.5)\n",
        "\n",
        "# Adding the times for each zone\n",
        "for i in range(len(time_labels)):\n",
        "  plt.text(.97,0.15 + 0.15*i,time_labels[i],fontsize=18,transform=fig1.transFigure,\n",
        "          horizontalalignment='center', weight=300)\n",
        "\n",
        "#add colored backgrounds behind each zone\n",
        "rect = patches.Rectangle((0, 0.805), 0.5, 0.194, color='#de0f5b')\n",
        "rect2 = patches.Rectangle((0, 0.602), 0.5, 0.198, color='#f9bf1c')\n",
        "rect3 = patches.Rectangle((0, 0.402), 0.5, 0.194, color='#6acc2b')\n",
        "rect4 = patches.Rectangle((0, 0.202), 0.5, 0.194, color='#46c7ee')\n",
        "rect5 = patches.Rectangle((0, 0.0), 0.5, 0.195, color='#c0c8c8')\n",
        "\n",
        "lax = fig1.add_axes([0.08,0.126,1.,0.752], anchor='NE', zorder=-1)\n",
        "lax.add_patch(rect)\n",
        "lax.add_patch(rect2)\n",
        "lax.add_patch(rect3)\n",
        "lax.add_patch(rect4)\n",
        "lax.add_patch(rect5)\n",
        "lax.axis('off')\n",
        "\n",
        "#add gray rectangles behind times \n",
        "b1 = patches.Rectangle((0, 0.805), 0.5, 0.194, color='#eaeaf2')\n",
        "b2 = patches.Rectangle((0, 0.602), 0.5, 0.194, color='#eaeaf2')\n",
        "b3 = patches.Rectangle((0, 0.402), 0.5, 0.194, color='#eaeaf2')\n",
        "b4 = patches.Rectangle((0, 0.202), 0.5, 0.194, color='#eaeaf2')\n",
        "b5 = patches.Rectangle((0, 0.0), 0.5, 0.194, color='#eaeaf2')\n",
        "rax = fig1.add_axes([.8,0.126,.42,0.752], anchor='NE', zorder=-1)\n",
        "rax.add_patch(b1)\n",
        "rax.add_patch(b2)\n",
        "rax.add_patch(b3)\n",
        "rax.add_patch(b4)\n",
        "rax.add_patch(b5)\n",
        "rax.axis('off')\n",
        "\n",
        "#set grid lines separating bars\n",
        "ax.set_yticks([0.5,1.5,2.5,3.5,4.5], minor=True)\n",
        "ax.yaxis.grid(True, which='minor')"
      ],
      "metadata": {
        "colab": {
          "base_uri": "https://localhost:8080/",
          "height": 315
        },
        "id": "ln4Hmt2eMaHH",
        "outputId": "bad029da-3015-48c0-f957-5158373ecb72"
      },
      "execution_count": null,
      "outputs": [
        {
          "output_type": "display_data",
          "data": {
            "text/plain": [
              "<Figure size 1152x432 with 3 Axes>"
            ],
            "image/png": "[encoded data removed]"
          },
          "metadata": {}
        }
      ]
    },
    {
      "cell_type": "markdown",
      "source": [
        "This plot is important because it gives us a quick way to understand the general distribution of activity levels throughout a participant's exercise session, and can display how vigorous the exercise session was."
      ],
      "metadata": {
        "id": "5W8UarpyyawJ"
      }
    },
    {
      "cell_type": "markdown",
      "source": [
        "## 7.2 Visualizing Heart Rate Averages per Session over a month"
      ],
      "metadata": {
        "id": "aMJC9uHCaINg"
      }
    },
    {
      "cell_type": "markdown",
      "source": [
        "Another graph that polar displays is a bar chart showing the duration of exercise sessions throughout the past thirty days along with a plot of the average heart rates per session."
      ],
      "metadata": {
        "id": "JsZvdweM6qDS"
      }
    },
    {
      "cell_type": "markdown",
      "source": [
        "\n",
        "<img src='https://i.imgur.com/AkrUlco.png' width='750px'>"
      ],
      "metadata": {
        "id": "Lho0NmMPFfCN"
      }
    },
    {
      "cell_type": "markdown",
      "source": [
        "To start we want to extract the necessary data. This will include: \n",
        "\n",
        "\n",
        "*   Dates of exercises\n",
        "*   Durations of each exercise\n",
        "*   Average heart rates of each exercise\n",
        "\n"
      ],
      "metadata": {
        "id": "RBGD5tOUg7zt"
      }
    },
    {
      "cell_type": "code",
      "source": [
        "import pandas as pd\n",
        "import numpy as np\n",
        "from datetime import datetime\n",
        "\n",
        "durations = []\n",
        "avg_rates = []\n",
        "dates = []\n",
        "day_array = list(df2['day'])\n",
        "rate_array = list(df2['avg_rate'])\n",
        "duration_array = list(df2['minutes'])\n",
        "for i in range(len(df2['day'])):\n",
        "  \n",
        "  if datetime.strptime(day_array[i],'%Y-%M-%d') < (datetime.strptime(start_date,'%Y-%M-%d') + timedelta(days=30)) and datetime.strptime(day_array[i],'%Y-%M-%d') >= datetime.strptime(start_date,'%Y-%M-%d'):\n",
        "    dates.append(np.datetime64(day_array[i]))\n",
        "    durations.append(duration_array[i]*60000)\n",
        "    avg_rates.append(rate_array[i])\n",
        "\n",
        "c = sorted(dates, key=lambda x: x)\n",
        "s = dates[0]\n",
        "dates = []\n",
        "for d in c:\n",
        "  if d > (s+np.timedelta64(30,'D')):\n",
        "    break\n",
        "  else:\n",
        "    dates.append(d)\n",
        "dates = dates[:30] # we will only plot a month of data just like in the original"
      ],
      "metadata": {
        "id": "5FtAHv14hDyF"
      },
      "execution_count": null,
      "outputs": []
    },
    {
      "cell_type": "markdown",
      "source": [
        "Now that we have everything we need, we can move on to plotting the graph! \n",
        "\n",
        "To do this we will start by plotting a [matplotlib bar graph](https://matplotlib.org/stable/api/_as_gen/matplotlib.pyplot.bar.html), which will represent the durations of each exercise. Then we will overlay this plot with a second graph, the [matplotlib line plot](https://matplotlib.org/stable/api/_as_gen/matplotlib.pyplot.plot.html). This is all we need for the base graph!\n",
        "\n",
        "All that remains after is to add the necessary styling to achieve the graph pictured above."
      ],
      "metadata": {
        "id": "1wXrNnH2hD52"
      }
    },
    {
      "cell_type": "code",
      "source": [
        "import seaborn as sns\n",
        "import matplotlib.pyplot as plt\n",
        "import numpy as np\n",
        "import matplotlib.dates as mdates\n",
        "from matplotlib.ticker import AutoMinorLocator\n",
        "import copy\n",
        "import pandas as pd\n",
        "\n",
        "#set the style of the plot, initialize it\n",
        "sns.set_style(\"whitegrid\")\n",
        "fig, ax = plt.subplots(figsize=(24,8))\n",
        "ax.set_facecolor('#f2f2f2')\n",
        "\n",
        "#before we begin, we need to add in a buffer at either end of the data so we can extend the graph\n",
        "rbound = np.datetime64((pd.Timestamp(dates[len(dates)-1])).strftime('%Y-%m-%d'))\n",
        "lbound = np.datetime64((pd.Timestamp(dates[0]) - pd.DateOffset(days=1)).strftime('%Y-%m-%d'))\n",
        "xdates = list(pd.date_range(start=lbound, end=rbound))\n",
        "xdates.append(xdates[len(xdates)-1])\n",
        "\n",
        "gridticks = copy.deepcopy(xdates)\n",
        "xdates += list(np.array(xdates) - timedelta(hours=12))\n",
        "xdates = sorted(xdates, key=lambda x: x) # check\n",
        "\n",
        "#process and fill our data arrays so that they match dimensions of x axis\n",
        "points = {np.datetime64(datetime.strftime(pd.to_datetime(date), '%Y-%m-%d')):(avg_rate,duration) for date, avg_rate, duration in zip(dates,avg_rates,durations)}\n",
        "data1 = []\n",
        "data2 = {}\n",
        "for i in range(len(xdates)):\n",
        "  cdate = np.datetime64(datetime.strftime(xdates[i],'%Y-%m-%d'))\n",
        "  if i == 0:\n",
        "    added = points[np.datetime64(datetime.strftime(xdates[3],'%Y-%m-%d'))][0]\n",
        "  # if even (is artifical)\n",
        "  if pd.Timestamp(xdates[i]).hour == 12:\n",
        "    data1.append(added)\n",
        "    continue\n",
        "  if cdate in points:\n",
        "    added = points[cdate][0]\n",
        "    data1.append(added)\n",
        "    data2[cdate] = points[cdate][1]/3600000\n",
        "  else:\n",
        "    data1.append(added)\n",
        "    data2[cdate] = 0\n",
        "plt.xticks(rotation=45)\n",
        "ax2 = ax.twinx()\n",
        "\n",
        "#plot the bar graph\n",
        "ax.bar(data2.keys(),data2.values(), color ='#e71735', width=0.30)\n",
        "ax.set_yticklabels(np.arange(0, 2., 0.5), weight='light')\n",
        "ax.set_yticks(np.arange(0, 2., 0.5)) # 2nd param was: max(data2.values())+0.5 for adaptability\n",
        "\n",
        "#plot the average heart rate\n",
        "plt.plot(xdates, data1, color='#e71735', linestyle='dashed')\n",
        "plt.xticks(gridticks)\n",
        "ax.set_xticklabels(gridticks, weight='light')\n",
        "ax.xaxis.set_major_formatter(mdates.DateFormatter('%m-%d'))\n",
        "\n",
        "#clip the graph ends to get our desired look \n",
        "axis = plt.axis()\n",
        "plt.xlim(xdates[0], xdates[len(xdates)-2])\n",
        "ax2.yaxis.grid(False)\n",
        "ax2.set_yticks(np.arange(50,200,25))\n",
        "ax2.set_yticklabels(np.arange(50, 200, 25), weight='light')\n",
        "\n",
        "# shift grid lines so they are in between dates\n",
        "gridticks = np.array(gridticks) - timedelta(hours=12)\n",
        "ax.set_xticks(gridticks, minor=True)\n",
        "ax.xaxis.grid(False)\n",
        "ax.grid(which='minor')\n",
        "ax.tick_params(axis='x', length=10, which='minor')\n",
        "\n",
        "#hide ticks\n",
        "ax2.tick_params(axis='y', length=0) \n",
        "ax.tick_params(axis='y', length=0) "
      ],
      "metadata": {
        "id": "O8hVSOdCdnMn",
        "colab": {
          "base_uri": "https://localhost:8080/",
          "height": 504
        },
        "outputId": "db97f18e-4613-422b-f027-02137e797196"
      },
      "execution_count": null,
      "outputs": [
        {
          "output_type": "display_data",
          "data": {
            "text/plain": [
              "<Figure size 1728x576 with 2 Axes>"
            ],
            "image/png": "[encoded data removed]"
          },
          "metadata": {}
        }
      ]
    },
    {
      "cell_type": "markdown",
      "source": [
        "This plot is important because it shows us whether the participant wore the monitor and how long they wore the monitor each day. Additionally, their average heart rate throughout the session can be a basic indicator of the intensity of their exercises."
      ],
      "metadata": {
        "id": "PDxTkANicRAB"
      }
    },
    {
      "cell_type": "markdown",
      "source": [
        "## 7.3 Continuous Heart Rate Graph"
      ],
      "metadata": {
        "id": "LoVTLHJyHPgx"
      }
    },
    {
      "cell_type": "markdown",
      "source": [
        "One final visualization that Polar offers is a graph of the continuous heart rate data per session of exercise, shown below."
      ],
      "metadata": {
        "id": "GaosKE5p7Wjn"
      }
    },
    {
      "cell_type": "markdown",
      "source": [
        "\n",
        "<img src='https://i.imgur.com/R9nfO0R.png' width='750px'>"
      ],
      "metadata": {
        "id": "15aeF03j3N61"
      }
    },
    {
      "cell_type": "markdown",
      "source": [
        "In this plot the line plot represents the heart rate (bpm) at every second of the exercise session, and the colored regions indicate the \"zone\" in which the heart rate (bpm) lies. We will need:\n",
        "\n",
        "\n",
        "*   Continuous heart rate data\n"
      ],
      "metadata": {
        "id": "hNntOOC0gqq3"
      }
    },
    {
      "cell_type": "code",
      "source": [
        "import pandas as pd\n",
        "\n",
        "heart_rts = list(hr_df[\"bpm\"]) \n",
        "#we must add in '2000-01-10' as a dummy date to help with formatting concerns\n",
        "times = list(hr_df[\"time\"]) "
      ],
      "metadata": {
        "id": "zH1L-IvOHlZK"
      },
      "execution_count": null,
      "outputs": []
    },
    {
      "cell_type": "markdown",
      "source": [
        "We will now graph this using the matplotlib [line plot](https://matplotlib.org/stable/api/_as_gen/matplotlib.pyplot.plot.html) function, which will give us the base graph, after which we can focus on aesthetics."
      ],
      "metadata": {
        "id": "zFHHY6vOIYBG"
      }
    },
    {
      "cell_type": "code",
      "source": [
        "import matplotlib.pyplot as plt\n",
        "import numpy as np\n",
        "import seaborn as sns\n",
        "import matplotlib.dates as mdates\n",
        "\n",
        "sns.set_style(\"whitegrid\")\n",
        "fig, ax = plt.subplots(figsize=(18,6))\n",
        "ax.set_facecolor('#f2f2f2')\n",
        "\n",
        "ax = plt.gca()\n",
        "plt.plot(times, heart_rts, color='#e71735')\n",
        "\n",
        "#set x axis values\n",
        "xts = np.arange(min(times), max(times), timedelta(minutes=10))\n",
        "ax.set_xticks(xts)\n",
        "ax.set_xticklabels(xts, weight='bold')\n",
        "ax.xaxis.set_major_formatter(mdates.DateFormatter('%H:%M:%S'))\n",
        "\n",
        "#set left y axis\n",
        "yts = np.arange(100, 220, 20)\n",
        "ax.set_yticks(yts)\n",
        "\n",
        "#ax.set_yscale('function', functions=(forward,inverse))\n",
        "ax.axhspan(100, 120, facecolor='#e3e5e5', alpha=0.5)\n",
        "ax.axhspan(120, 140, facecolor='#bee5f1', alpha=0.5)\n",
        "ax.axhspan(140, 160, facecolor='#c9e7b6', alpha=0.5)\n",
        "ax.axhspan(160, 180, facecolor='#f4e3b1', alpha=0.5)\n",
        "ax.axhspan(180, 200, facecolor='#ecaec4', alpha=0.5)\n",
        "\n",
        "#right side y axis\n",
        "f = lambda x: (x/200)*100\n",
        "i = lambda x: (x/100)*200\n",
        "ax2 = ax.secondary_yaxis(\"right\", functions=(f,i))\n",
        "yticks = ax2.yaxis.get_major_ticks()\n",
        "yticks[1].set_visible(False)\n",
        "ax.tick_params(axis='y', colors='red')  \n",
        "ax2.tick_params(axis='y', colors='red') \n",
        "ax.set_yticklabels(ax.get_yticks(), weight='bold')\n",
        "\n",
        "#cut off the edges\n",
        "plt.xlim(times[0], times[len(times)-1])"
      ],
      "metadata": {
        "colab": {
          "base_uri": "https://localhost:8080/",
          "height": 391
        },
        "id": "N2-eIqrsIXP2",
        "outputId": "bb98aa11-b062-40ca-f451-dea99c7d2eec"
      },
      "execution_count": null,
      "outputs": [
        {
          "output_type": "execute_result",
          "data": {
            "text/plain": [
              "(738215.0, 738215.0381828704)"
            ]
          },
          "metadata": {},
          "execution_count": 136
        },
        {
          "output_type": "display_data",
          "data": {
            "text/plain": [
              "<Figure size 1296x432 with 1 Axes>"
            ],
            "image/png": "[encoded data removed]"
          },
          "metadata": {}
        }
      ]
    },
    {
      "cell_type": "markdown",
      "source": [
        "This plot is important because it shows us the heart rate of the participant for each second, giving us a detailed look at a particular workout session. Also, the colored zones allow us to quickly identify the level of vigor at which the user exercised."
      ],
      "metadata": {
        "id": "iEx6cSnVc6_b"
      }
    },
    {
      "cell_type": "markdown",
      "source": [
        "# 8. Outlier Detection and Data Cleaning"
      ],
      "metadata": {
        "id": "1g-4Tru0-4ws"
      }
    },
    {
      "cell_type": "markdown",
      "source": [
        "**NOTICE:** If you are using synthetically generated data, the analyses may yield unintuitive results due to the randomly generated nature of the data"
      ],
      "metadata": {
        "id": "9XU60Wu0aDMM"
      }
    },
    {
      "cell_type": "markdown",
      "source": [
        "In this section, we will detect outliers in our extracted data.\n",
        "\n",
        "Since there are currently no outliers (by construction, since it is simulated to have none), we will manually inject a couple into our general sessions dataframe (the method for finding outliers here will work for any heart rate dataframe)."
      ],
      "metadata": {
        "id": "oa2BJu4KRzKt"
      }
    },
    {
      "cell_type": "code",
      "source": [
        "import pandas as pd\n",
        "\n",
        "outliers = {'time': ['01:11:52', '01:11:53'], 'bpm': [240, 50]}\n",
        "hr = hr_df.append(pd.DataFrame(outliers),ignore_index=True)"
      ],
      "metadata": {
        "id": "GJyjKwufUPsF"
      },
      "execution_count": null,
      "outputs": []
    },
    {
      "cell_type": "markdown",
      "source": [
        "Now we need a method to find these outliers. While there are many known methods for finding outliers, one of the quickest ways is to use something known as a z-score.\n",
        "\n",
        "The formula for the z-score is \n",
        "\n",
        "\n",
        "```\n",
        "Z = (data point - mean of data set) / standard deviation\n",
        "```\n",
        "We will compute this formula on every data point in our data set, giving us a massive list of z-score values. \n",
        "\n",
        "What the z score tells us is how far, in terms of standard deviations, any one data point is from the mean. In statistics, data points at increasing standard deviations away from the mean are less likely to occur. This means that the greater our z-score, the more unlikely for the data point to be real. \n",
        "\n",
        "We can decide what distance from the mean constitutes an outlier by setting the **threshold** value, so if a data point's z-score is above that threshold we might guess it to be an outlier.\n",
        "\n",
        "One intuitive idea is that the heart rate should not vary too much from one second to the next. To capitalize on this, we can improve our analysis by first calculating the distance each heart rate sample is away from neighboring heart rate samples. We can then use the z-scores to determine which heart rates differ from their neighbors by an unusually large margin. These will likely be our outliers."
      ],
      "metadata": {
        "id": "BPyoSJbgWVIm"
      }
    },
    {
      "cell_type": "code",
      "source": [
        "import math\n",
        "import pandas as pd\n",
        "\n",
        "nx = hr[\"bpm\"]\n",
        "\n",
        "distances = []\n",
        "\n",
        "f = lambda x: x**2\n",
        "\n",
        "#take the current count, subtract it by the points to its left and right some distance, then \n",
        "#square each of these differences, add, then sqrt\n",
        "for l1, l2, m, r1, r2 in zip(nx[:-4],nx[1:-3],nx[2:-2],nx[3:-1],nx[4:]):\n",
        "  difference = math.sqrt(f(m-l1)+f(m-l2)+f(m-r1)+f(m-r2))\n",
        "  distances.append(difference)"
      ],
      "metadata": {
        "id": "BqGX6sqheP9c"
      },
      "execution_count": null,
      "outputs": []
    },
    {
      "cell_type": "markdown",
      "source": [
        "Now we can calculate our z-scores for the heart rate data in one training session, and identify those data points that seem like outliers. Luckily, we can save some time by using the [z-score function](https://docs.scipy.org/doc/scipy/reference/generated/scipy.stats.zscore.html) from scipy's statistics library, which will give us a z-score calculation for all data points."
      ],
      "metadata": {
        "id": "7TJ687gBhrHT"
      }
    },
    {
      "cell_type": "code",
      "source": [
        "from scipy import stats\n",
        "import pandas as pd\n",
        "import numpy as np\n",
        "\n",
        "threshold = 3 #@param{type: \"integer\"}\n",
        "z_scores = np.abs(stats.zscore(nx))\n",
        "hr['z'] = z_scores\n",
        "print(hr.loc[hr['z'] > threshold])\n",
        "\n",
        "cx = list(hr[\"bpm\"].values)\n",
        "for idx in hr.index[hr['z'] > threshold].tolist():\n",
        "  vals = cx[idx-3:idx-2]+cx[idx-2:idx-1]+cx[idx+1:idx+2]+cx[idx+2:idx+3]\n",
        "  mean_val = np.mean(vals)\n",
        "  hr.loc[idx, 'bpm'] = mean_val"
      ],
      "metadata": {
        "colab": {
          "base_uri": "https://localhost:8080/"
        },
        "id": "VxV9PJfFSp2s",
        "outputId": "a3bbdf0b-7b23-4ef7-a853-efef477a77fd"
      },
      "execution_count": null,
      "outputs": [
        {
          "output_type": "stream",
          "name": "stdout",
          "text": [
            "          time        bpm         z\n",
            "3300  01:11:52  94.800413  7.906039\n"
          ]
        }
      ]
    },
    {
      "cell_type": "markdown",
      "source": [
        "It looks like the code was able to successfully identify the two outliers!"
      ],
      "metadata": {
        "id": "_VOtYJMGYRD3"
      }
    },
    {
      "cell_type": "markdown",
      "source": [
        "# 9. Statistical Data Analysis"
      ],
      "metadata": {
        "id": "dbAciV8Zd0Tm"
      }
    },
    {
      "cell_type": "markdown",
      "source": [
        "## 9.1 Correlation between average heart rate and calories burned\n"
      ],
      "metadata": {
        "id": "r_BHhJ3-IlFW"
      }
    },
    {
      "cell_type": "markdown",
      "source": [
        "We want to test the hypothesis that for a session, the average heart rate correlates with the number of calories burned.\n",
        "\n",
        "Let us begin by extracting the necessary data. This includes:\n",
        "\n",
        "\n",
        "*   the average heart rate for each exercise session\n",
        "*   the calories burned per minute for each exercise session\n",
        "\n",
        "\n",
        "\n",
        "To do this we will refer to the exercise_data list of exercises which we kept from section 3. In practice you can use the following code:"
      ],
      "metadata": {
        "id": "wZs38sFLDWus"
      }
    },
    {
      "cell_type": "markdown",
      "source": [
        "\n",
        "\n",
        "```\n",
        "avg_rates = [s['heart_rate']['average'] for s in exercise_data]\n",
        "calories_per_minute = [s[\"calories\"]/(float(pd.Timedelta(s[\"duration\"]).total_seconds()/60)) for s in exercise_data]\n",
        "```\n",
        "\n"
      ],
      "metadata": {
        "id": "liJzZsWazMTA"
      }
    },
    {
      "cell_type": "code",
      "source": [
        "import pandas as pd\n",
        "\n",
        "avg_rates = [avg_rate for avg_rate in df2['avg_rate']]\n",
        "calories_per_minute = [c/(m) for c, m in zip(df2['calories'],df2['minutes'])]"
      ],
      "metadata": {
        "id": "wKgdTOBpzmZq"
      },
      "execution_count": null,
      "outputs": []
    },
    {
      "cell_type": "markdown",
      "source": [
        "And now we can actually graph the data to see the correlation. This is done by using a [seaborn linear regression plot](https://seaborn.pydata.org/generated/seaborn.lmplot.html) which we can use to visualize the correlation."
      ],
      "metadata": {
        "id": "XwCdE4Whzol6"
      }
    },
    {
      "cell_type": "code",
      "source": [
        "import seaborn as sns\n",
        "import matplotlib.pyplot as plt\n",
        "\n",
        "# plot the data \n",
        "d = {'calories burned (kcal/minute)': calories_per_minute, 'average heart rate (bpm)': avg_rates}\n",
        "df = pd.DataFrame(data=d)\n",
        "\n",
        "graph = sns.lmplot(data=df, y='calories burned (kcal/minute)', x='average heart rate (bpm)')\n",
        "\n",
        "graph.map(plt.scatter, 'average heart rate (bpm)','calories burned (kcal/minute)', edgecolor =\"w\").add_legend()\n",
        "sns.set(context='notebook', style='whitegrid', font='sans-serif', font_scale=1, color_codes=True)\n",
        "\n",
        "plt.show(block=True)"
      ],
      "metadata": {
        "colab": {
          "base_uri": "https://localhost:8080/",
          "height": 365
        },
        "id": "mjBZKvYADvq2",
        "outputId": "9762fbc4-8ffb-4962-edf5-dfcb620267cf"
      },
      "execution_count": null,
      "outputs": [
        {
          "output_type": "display_data",
          "data": {
            "text/plain": [
              "<Figure size 368.8x360 with 1 Axes>"
            ],
            "image/png": "[encoded data removed]"
          },
          "metadata": {}
        }
      ]
    },
    {
      "cell_type": "markdown",
      "source": [
        "From the plot, we can see that the line of best fit actually fits all the data points rather tightly, and this is our first indicator that the correlation between the two factors exists. \n",
        "\n",
        "But we can do more to confirm this correlation - we can calculate the p-value to determine statistical significance using scipy's stats library, as shown here:"
      ],
      "metadata": {
        "id": "kDC-YCxYPUpz"
      }
    },
    {
      "cell_type": "code",
      "source": [
        "from scipy import stats\n",
        "\n",
        "p_value = stats.linregress(calories_per_minute,avg_rates)[3]\n",
        "correlation_coefficient = stats.pearsonr(calories_per_minute, avg_rates)[0]\n",
        "print(\"P value: \" + str(p_value))\n",
        "print(\"Correlation coefficient: \" + str(correlation_coefficient))"
      ],
      "metadata": {
        "colab": {
          "base_uri": "https://localhost:8080/"
        },
        "id": "wdbkk52zPWpB",
        "outputId": "24b7d84e-4552-442f-9156-a1299ee34f0d"
      },
      "execution_count": null,
      "outputs": [
        {
          "output_type": "stream",
          "name": "stdout",
          "text": [
            "P value: 0.0033113838558418668\n",
            "Correlation coefficient: 0.952639690187336\n"
          ]
        }
      ]
    },
    {
      "cell_type": "markdown",
      "source": [
        "Based on the p-value 0.0023 < 0.05, we have statistical significance. This means that there is 0.2% probability that the datapoints of our dataset occurred by chance. \n",
        "In addition, our correlation coefficient of 0.96 implies a very strong correlation. \n",
        "This relationship is intuitive, because Polar uses an equation to calculate the calories burned. But looking at this data allows to see that polar's calorie counter makes sense!"
      ],
      "metadata": {
        "id": "32-u3DYbO7kF"
      }
    },
    {
      "cell_type": "markdown",
      "source": [
        "## 9.2 Correlation between duration of exercise and calories burned"
      ],
      "metadata": {
        "id": "jpW1e0fSQv-s"
      }
    },
    {
      "cell_type": "markdown",
      "source": [
        "Now we can clearly see the that average heart rate and calories burned per minute are tightly correlated. But how about the correlation between the duration of an exercise and the amount calories burned? We will first extract the necessary data through the code segment shown below:"
      ],
      "metadata": {
        "id": "wg7xkzpEHatn"
      }
    },
    {
      "cell_type": "markdown",
      "source": [
        "\n",
        "\n",
        "```\n",
        "durations = [float(pd.Timedelta(s[\"duration\"]).total_seconds()) for s in exercise_data]\n",
        "calories = [s[\"calories\"] for s in exercise_data]\n",
        "```\n",
        "\n"
      ],
      "metadata": {
        "id": "0ZsYfurAfvcn"
      }
    },
    {
      "cell_type": "markdown",
      "source": [
        "As before, our example will use manually inputted data points (which come from real sessions), but feel free to replace the code with the above segment to test out your data!"
      ],
      "metadata": {
        "id": "ZTjmXySgr1Pn"
      }
    },
    {
      "cell_type": "code",
      "source": [
        "import pandas as pd\n",
        "\n",
        "durations = [m*60 for m in df2['minutes']]\n",
        "calories = [c for c in df2['calories']]"
      ],
      "metadata": {
        "id": "tWxo-XxhdTDe"
      },
      "execution_count": null,
      "outputs": []
    },
    {
      "cell_type": "markdown",
      "source": [
        "Now we will recreate the graph plotted in 5.1 this time using our new durations and calories data."
      ],
      "metadata": {
        "id": "mtnNfzZLsHzk"
      }
    },
    {
      "cell_type": "code",
      "source": [
        "import pandas as pd\n",
        "import seaborn as sns\n",
        "\n",
        "# plot the data \n",
        "d = {'calories burned (kcal)': calories, 'duration (s)': durations}\n",
        "df = pd.DataFrame(data=d)\n",
        "\n",
        "graph = sns.lmplot(data=df, y='calories burned (kcal)', x='duration (s)')\n",
        "\n",
        "graph.map(plt.scatter, 'duration (s)','calories burned (kcal)', edgecolor =\"w\").add_legend()\n",
        "sns.set(context='notebook', style='whitegrid', font='sans-serif', font_scale=1, color_codes=True)\n",
        "\n",
        "plt.show(block=True)"
      ],
      "metadata": {
        "colab": {
          "base_uri": "https://localhost:8080/",
          "height": 365
        },
        "id": "P8N_iFCHdbzQ",
        "outputId": "41a5492b-5d2f-4f67-faec-1029e83d017e"
      },
      "execution_count": null,
      "outputs": [
        {
          "output_type": "display_data",
          "data": {
            "text/plain": [
              "<Figure size 368.8x360 with 1 Axes>"
            ],
            "image/png": "[encoded data removed]"
          },
          "metadata": {}
        }
      ]
    },
    {
      "cell_type": "code",
      "source": [
        "p_value = stats.linregress(calories,durations)[3]\n",
        "correlation_coefficient = stats.pearsonr(calories, durations)[0]\n",
        "print(\"P value: \" + str(p_value))\n",
        "print(\"Correlation coefficient: \" + str(correlation_coefficient))"
      ],
      "metadata": {
        "colab": {
          "base_uri": "https://localhost:8080/"
        },
        "id": "dVQTMPDiqBkx",
        "outputId": "d5b1d883-5466-49c8-b413-50215d0e01ae"
      },
      "execution_count": null,
      "outputs": [
        {
          "output_type": "stream",
          "name": "stdout",
          "text": [
            "P value: 0.02055818281629383\n",
            "Correlation coefficient: 0.8805265461816261\n"
          ]
        }
      ]
    },
    {
      "cell_type": "markdown",
      "source": [
        "Since our P-value is 0.017 < 0.05, meaning the we have 1.7% probability that our data occurred by chance, we again have statistical significance. Interestingly enough, our correlation coefficient for duration to calories burned is less than our correlation coefficient for average heart rate to calories burned (0.889 < 0.96). Although we can't say from our simple analysis that average heart rate is more correlated to calories burned than duration is (further analysis has to be done to determine whether the difference in correlation coefficient values is significant, and we also should get more data before making a conclusion!), it definitely reveals a question for further investigation!"
      ],
      "metadata": {
        "id": "zG5mILo_xBdG"
      }
    },
    {
      "cell_type": "markdown",
      "source": [
        "## 9.3. T test on activity intensity through workout\n",
        "\n",
        "We might also be interested in determining whether the participant exercises with different overall intensity at different halves of their sessions.\n",
        "\n",
        "The T-test is a statistical test used to determine comapre the mean of some value in two separate groups. Here our first group will be the first half of an exercise session, and the second group will be the second half of an exercise session. \n",
        "\n",
        "Choosing on exercise session to focus on, we can use the T-test to see if the exercise intensity in the first half of the session is different from the intensity in the second half."
      ],
      "metadata": {
        "id": "F7W7D_Ba_RPb"
      }
    },
    {
      "cell_type": "code",
      "source": [
        "import pandas as pd\n",
        "import numpy as np\n",
        "from scipy.stats import ttest_ind\n",
        "\n",
        "def differ(df):\n",
        "  rows = len(df.index)\n",
        "  f = df.iloc[range(rows//2)][\"bpm\"]\n",
        "  s = df.iloc[range(rows//2,rows)][\"bpm\"]\n",
        "  return ttest_ind(f,s)\n",
        "\n",
        "print(differ(hr_df))"
      ],
      "metadata": {
        "colab": {
          "base_uri": "https://localhost:8080/"
        },
        "id": "p2GcB-Y6AzLo",
        "outputId": "0b30ba75-41f9-42ae-9fd5-f70746a54cfd"
      },
      "execution_count": null,
      "outputs": [
        {
          "output_type": "stream",
          "name": "stdout",
          "text": [
            "Ttest_indResult(statistic=-43.082926956543616, pvalue=4.15e-322)\n"
          ]
        }
      ]
    },
    {
      "cell_type": "markdown",
      "source": [
        "Since the t-test returned a negative value, the sample mean heart rate in the first half of the exercise session is less than the sample mean heart rate in the second half of the session. Further, since our pvalue is small (< 0.05), we can reject the null hypothesis and conclude that the the first half of the exercise tended to have lower heart rates than the second half."
      ],
      "metadata": {
        "id": "4--zRqufTaKt"
      }
    },
    {
      "cell_type": "markdown",
      "source": [
        "We can now repeat this process on multiple exercise sessions and visualize our findings in a plot, giving us a view of the participant's exercise habits (i.e. whether they tend to slow down throughout a session, or whether their intensity increases)."
      ],
      "metadata": {
        "id": "RkhVCf9-C23R"
      }
    },
    {
      "cell_type": "code",
      "source": [
        "import pandas as pd\n",
        "import numpy as np\n",
        "from scipy.stats import ttest_ind\n",
        "import matplotlib.pyplot as plt\n",
        "from datetime import datetime, timedelta\n",
        "\n",
        "y = []\n",
        "x = df2[\"day\"]\n",
        "\n",
        "for df in hr_dfs:\n",
        "  v,p = differ(df)\n",
        "  if p < 0.05:\n",
        "    y.append(v)\n",
        "  else:\n",
        "    # there is no difference\n",
        "    y.append(0)\n",
        "\n",
        "plt.figure(figsize=(16,10))\n",
        "plt.bar(x, y)\n",
        "end = datetime.strptime(start_date, '%Y-%m-%d') + timedelta(days=30)\n",
        "plt.title(f\"T-test of exercise intensity between first half and second half of session from {start_date} to {datetime.strftime(end,'%Y-%m-%d')}\",fontsize=20)\n",
        "plt.xlabel(\"Time\")\n",
        "plt.ylabel(\"T-test of exercise intensity between first half and second half of session\")"
      ],
      "metadata": {
        "colab": {
          "base_uri": "https://localhost:8080/",
          "height": 644
        },
        "id": "8UTXXe3BDb-s",
        "outputId": "addd17dd-9f32-456a-db97-611c2d2d4641"
      },
      "execution_count": null,
      "outputs": [
        {
          "output_type": "execute_result",
          "data": {
            "text/plain": [
              "Text(0, 0.5, 'T-test of exercise intensity between first half and second half of session')"
            ]
          },
          "metadata": {},
          "execution_count": 17
        },
        {
          "output_type": "display_data",
          "data": {
            "text/plain": [
              "<Figure size 1152x720 with 1 Axes>"
            ],
            "image/png": "[encoded data removed]"
          },
          "metadata": {
            "needs_background": "light"
          }
        }
      ]
    }
  ]
}
