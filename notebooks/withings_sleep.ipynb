{
  "nbformat": 4,
  "nbformat_minor": 0,
  "metadata": {
    "colab": {
      "provenance": []
    },
    "kernelspec": {
      "name": "python3",
      "display_name": "Python 3"
    },
    "language_info": {
      "name": "python"
    }
  },
  "cells": [
    {
      "cell_type": "markdown",
      "source": [
        "# Guide to Extracting Data w/ APIs from the Withings Sleep Tracking Mat\n",
        "\n",
        "<img src=\"https://images.macrumors.com/t/pXx5cKQXiHBmPSRRG2czXRtqPww=/1600x/article-new/2019/04/withings-sleep-3.jpg\" width=\"500\"/>\n",
        "\n",
        "There are lots of fitness and health tracking devices that require you to strap something to your arm, finger, or head. But what if you could track your sleep without even feeling it? With the [Withings Sleep Tracking Mat](https://www.withings.com/us/en/sleep), a tracking mat that goes right under your mattress, you can do just that. While this notebook is meant for the tracking mat, it can be easily adapted to any other Withings product with some modifications.\n",
        "\n",
        "If you want to know more about Withings Sleep Tracking Mat, see the Withings SleepMat [Wearipedia Page](http://wearipedia.com/wearables/withings-sleep) for a detailed analysis of performances, sensors, data privacy, and extraction pipelines.\n",
        "\n",
        "\n",
        "We will be able to extract the following parameters (see the definitions at [this documentation page](https://developer.withings.com/api-reference#operation/sleepv2-getsummary)):\n",
        "\n",
        "| Parameter Name        | Sampling Frequency |\n",
        "|-----------------------|--------------------|\n",
        "| Heart Rate            | Every 10 minutes OR every second (when set to [continuous heart rate mode](https://support.withings.com/hc/en-us/articles/360010042798-ScanWatch-Tracking-my-heart-rate))  |\n",
        "| # of REM sleep phases | Per sleep          |\n",
        "| Sleep Efficiency      | Per sleep          |\n",
        "| Sleep Latency         | Per sleep          |\n",
        "| Total Sleep Time      | Per sleep          |\n",
        "| Total Time in bed     | Per sleep          |\n",
        "| Wakeup latency        | Per sleep          |\n",
        "| Waso                  | Per sleep          |\n",
        "| Asleepduration        | Per sleep          |\n",
        "| Deep sleep duration   | Per sleep          |\n",
        "| Duration to sleep     | Per sleep          |\n",
        "| Duration to wakeup    | Per sleep          |\n",
        "| Average heart rate    | Per sleep          |\n",
        "| Max heart rate        | Per sleep          |\n",
        "| Min heart rate        | Per sleep          |\n",
        "| Light sleep duration  | Per sleep          |\n",
        "| Night events          | Per sleep          |\n",
        "| Out of bed count      | Per sleep          |\n",
        "| REM sleep duration    | Per sleep          |\n",
        "| Average resp rate    | Per sleep          |\n",
        "| Minimal resp. rate    | Per sleep          |\n",
        "| Max resp. rate        | Per sleep          |\n",
        "| Sleep score           | Per sleep          |\n",
        "| Total snoring time    | Per sleep          |\n",
        "| Snoring episode count | Per sleep          |\n",
        "| Wakeup count          | Per sleep          |\n",
        "| Wakeup duration       | Per sleep          |\n",
        "\n",
        "Note that Withings provides even more measurements than just these. You can check these out at the [API reference](https://developer.withings.com/api-reference/). Since we focus on heart rate and sleep here, though, those are the main measurement types we extract.\n",
        "\n",
        "<br><br>\n",
        "In this guide, we sequentially cover the following **nine** topics to extract from the Withings API:\n",
        "1. **Setup**\n",
        " - We cover setting up the SleepMat and library imports in this section.\n",
        "2. **Authentication and Authorization**\n",
        "    - This requires a couple extra steps on your part using OAuth and a 2-step verification process through `wearipedia`.\n",
        "3. **Data Extraction**\n",
        "    - We can get data via our `wearipedia` package\n",
        "    - Due to our own limited sample size, which precludes long time horizon data analysis, we include a data extraction step that loads an artificial dataset we randomly generate.\n",
        "4. **Data Exporting** \n",
        "    - We export the data via Pandas DataFrame into file formats compatible by R, Excel, and Matlab.\n",
        "5. **Adherence** \n",
        "    - We simulate non-adherence by dynamically removing datapoints from our simulated data.\n",
        "6. **Visualization**\n",
        "    - 6.1: We reproduce a plot for heart rate over the course of a day\n",
        "    - 6.2: We reproduce a plot for sleep data over the course of a week\n",
        "7. **Advanced Visualization** \n",
        "    - We plot a calendar heatmap of watch wear time every day, revealing which days the user has worn the watch most.\n",
        "    - We also look at how sleep duration varies over different weekdays and months for longer data timeframes.\n",
        "8. **Outlier Detection and Data Cleaning** (From Section 9 Data Injections)\n",
        "    - We demonstrate a simple outlier detection algorithm running on the dataset and clean the outliers out completely\n",
        "9. **Statistical Data analysis**\n",
        "    - 9.1: We try to find a correlation between the length of a sleep period and the median heart rate for that sleep period. We find that the correlation is not statistically significant."
      ],
      "metadata": {
        "id": "OD2g9xsgxSYy"
      }
    },
    {
      "cell_type": "markdown",
      "source": [
        "# 1. Setup\n",
        "## 1.1 Study participant setup and usage\n",
        "\n",
        "Dear Participant,\n",
        "\n",
        "Thank you for using this notebook! To set up the SleepMat itself so that you can run this notebook, download the Health Mate app and follow the instructions on the app. The app will pair via bluetooth to the device and can connect to WiFi. In our experience, this process was fairly straightforward.\n",
        "\n",
        "Best,\n",
        "\n",
        "Wearipedia\n",
        "## 1.2 Wearipedia Library Install\n",
        "Relevant libraries are imported below. Just run the code to import all the libraries."
      ],
      "metadata": {
        "id": "EGZZcSOH3PT1"
      }
    },
    {
      "cell_type": "code",
      "execution_count": 20,
      "metadata": {
        "id": "OVi0ihtq1QJ7",
        "colab": {
          "base_uri": "https://localhost:8080/"
        },
        "cellView": "form",
        "outputId": "78d8ec7e-7b49-499f-f0d0-2715a1daa6cf"
      },
      "outputs": [
        {
          "output_type": "stream",
          "name": "stdout",
          "text": [
            "Looking in indexes: https://pypi.org/simple, https://us-python.pkg.dev/colab-wheels/public/simple/\n",
            "Requirement already satisfied: wearipedia in /usr/local/lib/python3.9/dist-packages (0.1.2)\n",
            "Requirement already satisfied: pandas<2.0,>=1.1 in /usr/local/lib/python3.9/dist-packages (from wearipedia) (1.4.4)\n",
            "Requirement already satisfied: garminconnect<0.2.0,>=0.1.48 in /usr/local/lib/python3.9/dist-packages (from wearipedia) (0.1.54)\n",
            "Requirement already satisfied: tqdm<5.0.0,>=4.64.1 in /usr/local/lib/python3.9/dist-packages (from wearipedia) (4.65.0)\n",
            "Requirement already satisfied: typer[all]<0.7.0,>=0.6.1 in /usr/local/lib/python3.9/dist-packages (from wearipedia) (0.6.1)\n",
            "Requirement already satisfied: rich<13.0.0,>=12.6.0 in /usr/local/lib/python3.9/dist-packages (from wearipedia) (12.6.0)\n",
            "Requirement already satisfied: scipy<2.0,>=1.6 in /usr/local/lib/python3.9/dist-packages (from wearipedia) (1.10.1)\n",
            "Requirement already satisfied: wget<4.0,>=3.2 in /usr/local/lib/python3.9/dist-packages (from wearipedia) (3.2)\n",
            "Requirement already satisfied: cloudscraper in /usr/local/lib/python3.9/dist-packages (from garminconnect<0.2.0,>=0.1.48->wearipedia) (1.2.69)\n",
            "Requirement already satisfied: requests in /usr/local/lib/python3.9/dist-packages (from garminconnect<0.2.0,>=0.1.48->wearipedia) (2.27.1)\n",
            "Requirement already satisfied: python-dateutil>=2.8.1 in /usr/local/lib/python3.9/dist-packages (from pandas<2.0,>=1.1->wearipedia) (2.8.2)\n",
            "Requirement already satisfied: pytz>=2020.1 in /usr/local/lib/python3.9/dist-packages (from pandas<2.0,>=1.1->wearipedia) (2022.7.1)\n",
            "Requirement already satisfied: numpy>=1.18.5 in /usr/local/lib/python3.9/dist-packages (from pandas<2.0,>=1.1->wearipedia) (1.22.4)\n",
            "Requirement already satisfied: commonmark<0.10.0,>=0.9.0 in /usr/local/lib/python3.9/dist-packages (from rich<13.0.0,>=12.6.0->wearipedia) (0.9.1)\n",
            "Requirement already satisfied: pygments<3.0.0,>=2.6.0 in /usr/local/lib/python3.9/dist-packages (from rich<13.0.0,>=12.6.0->wearipedia) (2.14.0)\n",
            "Requirement already satisfied: click<9.0.0,>=7.1.1 in /usr/local/lib/python3.9/dist-packages (from typer[all]<0.7.0,>=0.6.1->wearipedia) (8.1.3)\n",
            "Requirement already satisfied: colorama<0.5.0,>=0.4.3 in /usr/local/lib/python3.9/dist-packages (from typer[all]<0.7.0,>=0.6.1->wearipedia) (0.4.6)\n",
            "Requirement already satisfied: shellingham<2.0.0,>=1.3.0 in /usr/local/lib/python3.9/dist-packages (from typer[all]<0.7.0,>=0.6.1->wearipedia) (1.5.0.post1)\n",
            "Requirement already satisfied: six>=1.5 in /usr/local/lib/python3.9/dist-packages (from python-dateutil>=2.8.1->pandas<2.0,>=1.1->wearipedia) (1.16.0)\n",
            "Requirement already satisfied: requests-toolbelt>=0.9.1 in /usr/local/lib/python3.9/dist-packages (from cloudscraper->garminconnect<0.2.0,>=0.1.48->wearipedia) (0.10.1)\n",
            "Requirement already satisfied: pyparsing>=2.4.7 in /usr/local/lib/python3.9/dist-packages (from cloudscraper->garminconnect<0.2.0,>=0.1.48->wearipedia) (3.0.9)\n",
            "Requirement already satisfied: certifi>=2017.4.17 in /usr/local/lib/python3.9/dist-packages (from requests->garminconnect<0.2.0,>=0.1.48->wearipedia) (2022.12.7)\n",
            "Requirement already satisfied: idna<4,>=2.5 in /usr/local/lib/python3.9/dist-packages (from requests->garminconnect<0.2.0,>=0.1.48->wearipedia) (3.4)\n",
            "Requirement already satisfied: urllib3<1.27,>=1.21.1 in /usr/local/lib/python3.9/dist-packages (from requests->garminconnect<0.2.0,>=0.1.48->wearipedia) (1.26.15)\n",
            "Requirement already satisfied: charset-normalizer~=2.0.0 in /usr/local/lib/python3.9/dist-packages (from requests->garminconnect<0.2.0,>=0.1.48->wearipedia) (2.0.12)\n"
          ]
        }
      ],
      "source": [
        "#@title Library Import + Setup\n",
        "\n",
        "# sneak in the library imports etc. here :)\n",
        "\n",
        "# upgrade scipy, since we need \"intercept_stderr\"\n",
        "# from https://docs.scipy.org/doc/scipy/reference/generated/scipy.stats.linregress.html\n",
        "!pip install --upgrade scipy -q\n",
        "!pip install wearipedia\n",
        "!pip install july -q # for calendar plotting\n",
        "\n",
        "import requests\n",
        "import urllib\n",
        "import json\n",
        "from datetime import datetime\n",
        "from tqdm import tqdm\n",
        "\n",
        "import numpy as np\n",
        "import pandas as pd\n",
        "import matplotlib.pyplot as plt\n",
        "import seaborn as sns\n",
        "from scipy.ndimage import gaussian_filter\n",
        "from scipy import stats\n",
        "import july as july\n",
        "\n",
        "# suppresses unnecessary warning\n",
        "pd.options.mode.chained_assignment = None\n",
        "\n",
        "# import wearipedia and get instance of device\n",
        "import wearipedia\n",
        "device = wearipedia.get_device('withings/scanwatch')"
      ]
    },
    {
      "cell_type": "markdown",
      "source": [
        "# 2. Authentication and Authorization\n",
        "\n",
        "To be able to make requests to the API, the easiest way is to use the public developer API. This section roughly follows the steps outlined [here](https://developer.dexcom.com/authentication) on their website.\n",
        "\n",
        "First, follow the non-colab steps listed below:\n",
        "\n",
        "1. Visit the [developer portal](https://developer.withings.com/) and click \"Open Developer Dashboard\" on the top right.\n",
        "2. Once logged in, click \"Add an app\".\n",
        "3. For now, you can just click \"I don't know\" under \"Services\", accept terms of use, and click \"Next\".\n",
        "5. Put whatever you want under \"Application Name\" (we used `withings-test`), anything under \"Application Description\", and \"https://wbsapi.withings.net/v2/oauth2\" under Registered URLs, then click \"Done\".\n",
        "    - NOTE: \"registered URLs\" is intended to be a URL to a webserver you control and can receive requests from. However, in this notebook we are simply using it as a placeholder, as this functionality is not strictly necessary for obtaining your data.\n",
        "\n",
        "In the end, you should see something like the below.\n",
        "\n",
        "<img src=\"https://i.imgur.com/ttWojjU.png\"></img>\n",
        "\n",
        "Now we can proceed with the rest of the notebook.\n",
        "\n",
        "To be able to make requests to the API and extract the data we need, we need to first issue an access token. This (ephemeral) access token will serve as our key to the data. While, you don't necessarily need to be familiar with how the issuing of the authtoken occurs, you can learn more about it by visiting [the official Withings tutorial](https://developer.withings.com/developer-guide/v3/integration-guide/public-health-data-api/get-access/oauth-web-flow/)."
      ],
      "metadata": {
        "id": "d2Kbo6d4waj9"
      }
    },
    {
      "cell_type": "code",
      "source": [
        "#@title 5. Enter your credentials below (from the application you just created)\n",
        "CLIENT_ID = \"d97ef704c1357d5330414a6ef6ee939062a7ef69656c51a8ab1565bc5eb4bd1e\" #@param {type:\"string\"}\n",
        "CUSTOMER_SECRET = \"692001d6c0d3c915b313669fd1dbc036b9062b5c4209a25c1e5bdcf721ad7e94\" #@param {type:\"string\"}\n",
        "use_synthetic = True #@param {type:\"boolean\"}\n",
        "credentials = {\"client_id\": CLIENT_ID, \"client_secret\": CUSTOMER_SECRET}\n",
        "if not use_synthetic:\n",
        "  device.authenticate(credentials)"
      ],
      "metadata": {
        "id": "ev3-mu5ou88c"
      },
      "execution_count": 21,
      "outputs": []
    },
    {
      "cell_type": "markdown",
      "source": [
        "6. Now visit the above URL and click \"Allow this app\", and copy the URL you were redirected to into the text field below. Note that if you mess up once, you have to go through the above URL again (including clicking \"Allow this app\"). Also, the URL is only valid for 30 seconds, so be quick!"
      ],
      "metadata": {
        "id": "kpLZcG86vSuL"
      }
    },
    {
      "cell_type": "markdown",
      "source": [
        "Now that we have our access token, we can begin making requests to the API! This access token will last only three hours, though, so you would need to re-do step 6 if three hours pass."
      ],
      "metadata": {
        "id": "JObtRZuFvuJl"
      }
    },
    {
      "cell_type": "markdown",
      "source": [
        "# 3. Data Extraction\n",
        "\n",
        "Here, data extraction is pretty simple! We've made it possible to get all heart rate and sleep data in one function call each.\n",
        "\n",
        "Data can be extracted via wearipedia, our open-source Python package that unifies dozens of complex wearable device APIs into one simple, common interface.\n",
        "\n",
        "First, we'll set a date range and then extract all of the data within that date range. You can select whether you would like synthetic data or not with the checkbox.\n",
        "\n",
        "Please go back to step 5 of Authentication/Authorization where you can uncheck the \"use_synthetic\" box to instead use your own *real* data via Withings API calls! See [the overall health data API page](https://developer.withings.com/developer-guide/v3/integration-guide/public-health-data-api/data-api/all-available-health-data) or the [\"Measure\" endpoints specifically](https://developer.withings.com/api-reference/#operation/measurev2-getactivity) for more info."
      ],
      "metadata": {
        "id": "GUtc7x14ebLe"
      }
    },
    {
      "cell_type": "code",
      "source": [
        "#@title Extract data via the API!\n",
        "#set start and end dates - this will give you all the data from 2000-01-01 (January 1st, 2000) to 2100-02-03 (February 3rd, 2100), for example\n",
        "start_date='2020-01-01' #@param {type:\"date\"}\n",
        "end_date='2022-12-01' #@param {type:\"date\"}\n",
        "params = {\"start\": start_date, \"end\": end_date}\n",
        "\n",
        "hr_df = device.get_data(\"heart_rates\", params=params) \n",
        "sleeps_df = device.get_data(\"sleeps\", params=params) \n"
      ],
      "metadata": {
        "id": "oIhFUppKKwBC",
        "colab": {
          "base_uri": "https://localhost:8080/"
        },
        "outputId": "6bee3b14-0bdc-4e6f-c7a5-da331ccfae77"
      },
      "execution_count": 22,
      "outputs": [
        {
          "output_type": "stream",
          "name": "stderr",
          "text": [
            "100%|██████████| 108/108 [00:00<00:00, 1160.08it/s]\n",
            "108it [00:00, 16544.97it/s]\n"
          ]
        }
      ]
    },
    {
      "cell_type": "code",
      "source": [
        "hr_df"
      ],
      "metadata": {
        "colab": {
          "base_uri": "https://localhost:8080/",
          "height": 424
        },
        "id": "l4PylUanOjFb",
        "outputId": "ecb77ad6-fc03-4f0f-8df1-12895e4ea9c5"
      },
      "execution_count": 23,
      "outputs": [
        {
          "output_type": "execute_result",
          "data": {
            "text/plain": [
              "                 datetime  heart_rate      model  model_id  \\\n",
              "0     2022-01-28 05:35:34          90       None      1059   \n",
              "1     2021-12-04 18:42:32          82       None      1059   \n",
              "2     2022-02-16 19:43:07          92       None      1059   \n",
              "3     2022-02-11 11:49:30          94       None      1059   \n",
              "4     2021-11-23 17:46:28          79       None      1059   \n",
              "...                   ...         ...        ...       ...   \n",
              "15478 2022-06-16 23:00:00          93  ScanWatch        93   \n",
              "15479 2022-06-16 23:10:00          89  ScanWatch        93   \n",
              "15480 2022-06-16 23:20:00          91  ScanWatch        93   \n",
              "15481 2022-06-16 23:30:00          87  ScanWatch        93   \n",
              "15482 2022-06-16 23:40:00          86  ScanWatch        93   \n",
              "\n",
              "                               deviceid  \n",
              "0                                  None  \n",
              "1                                  None  \n",
              "2                                  None  \n",
              "3                                  None  \n",
              "4                                  None  \n",
              "...                                 ...  \n",
              "15478  d41d8cd98f00b204e9800998ecf8427e  \n",
              "15479  d41d8cd98f00b204e9800998ecf8427e  \n",
              "15480  d41d8cd98f00b204e9800998ecf8427e  \n",
              "15481  d41d8cd98f00b204e9800998ecf8427e  \n",
              "15482  d41d8cd98f00b204e9800998ecf8427e  \n",
              "\n",
              "[15483 rows x 5 columns]"
            ],
            "text/html": [
              "\n",
              "  <div id=\"df-7066f788-9433-4232-8b64-90d20ff8cc28\">\n",
              "    <div class=\"colab-df-container\">\n",
              "      <div>\n",
              "<style scoped>\n",
              "    .dataframe tbody tr th:only-of-type {\n",
              "        vertical-align: middle;\n",
              "    }\n",
              "\n",
              "    .dataframe tbody tr th {\n",
              "        vertical-align: top;\n",
              "    }\n",
              "\n",
              "    .dataframe thead th {\n",
              "        text-align: right;\n",
              "    }\n",
              "</style>\n",
              "<table border=\"1\" class=\"dataframe\">\n",
              "  <thead>\n",
              "    <tr style=\"text-align: right;\">\n",
              "      <th></th>\n",
              "      <th>datetime</th>\n",
              "      <th>heart_rate</th>\n",
              "      <th>model</th>\n",
              "      <th>model_id</th>\n",
              "      <th>deviceid</th>\n",
              "    </tr>\n",
              "  </thead>\n",
              "  <tbody>\n",
              "    <tr>\n",
              "      <th>0</th>\n",
              "      <td>2022-01-28 05:35:34</td>\n",
              "      <td>90</td>\n",
              "      <td>None</td>\n",
              "      <td>1059</td>\n",
              "      <td>None</td>\n",
              "    </tr>\n",
              "    <tr>\n",
              "      <th>1</th>\n",
              "      <td>2021-12-04 18:42:32</td>\n",
              "      <td>82</td>\n",
              "      <td>None</td>\n",
              "      <td>1059</td>\n",
              "      <td>None</td>\n",
              "    </tr>\n",
              "    <tr>\n",
              "      <th>2</th>\n",
              "      <td>2022-02-16 19:43:07</td>\n",
              "      <td>92</td>\n",
              "      <td>None</td>\n",
              "      <td>1059</td>\n",
              "      <td>None</td>\n",
              "    </tr>\n",
              "    <tr>\n",
              "      <th>3</th>\n",
              "      <td>2022-02-11 11:49:30</td>\n",
              "      <td>94</td>\n",
              "      <td>None</td>\n",
              "      <td>1059</td>\n",
              "      <td>None</td>\n",
              "    </tr>\n",
              "    <tr>\n",
              "      <th>4</th>\n",
              "      <td>2021-11-23 17:46:28</td>\n",
              "      <td>79</td>\n",
              "      <td>None</td>\n",
              "      <td>1059</td>\n",
              "      <td>None</td>\n",
              "    </tr>\n",
              "    <tr>\n",
              "      <th>...</th>\n",
              "      <td>...</td>\n",
              "      <td>...</td>\n",
              "      <td>...</td>\n",
              "      <td>...</td>\n",
              "      <td>...</td>\n",
              "    </tr>\n",
              "    <tr>\n",
              "      <th>15478</th>\n",
              "      <td>2022-06-16 23:00:00</td>\n",
              "      <td>93</td>\n",
              "      <td>ScanWatch</td>\n",
              "      <td>93</td>\n",
              "      <td>d41d8cd98f00b204e9800998ecf8427e</td>\n",
              "    </tr>\n",
              "    <tr>\n",
              "      <th>15479</th>\n",
              "      <td>2022-06-16 23:10:00</td>\n",
              "      <td>89</td>\n",
              "      <td>ScanWatch</td>\n",
              "      <td>93</td>\n",
              "      <td>d41d8cd98f00b204e9800998ecf8427e</td>\n",
              "    </tr>\n",
              "    <tr>\n",
              "      <th>15480</th>\n",
              "      <td>2022-06-16 23:20:00</td>\n",
              "      <td>91</td>\n",
              "      <td>ScanWatch</td>\n",
              "      <td>93</td>\n",
              "      <td>d41d8cd98f00b204e9800998ecf8427e</td>\n",
              "    </tr>\n",
              "    <tr>\n",
              "      <th>15481</th>\n",
              "      <td>2022-06-16 23:30:00</td>\n",
              "      <td>87</td>\n",
              "      <td>ScanWatch</td>\n",
              "      <td>93</td>\n",
              "      <td>d41d8cd98f00b204e9800998ecf8427e</td>\n",
              "    </tr>\n",
              "    <tr>\n",
              "      <th>15482</th>\n",
              "      <td>2022-06-16 23:40:00</td>\n",
              "      <td>86</td>\n",
              "      <td>ScanWatch</td>\n",
              "      <td>93</td>\n",
              "      <td>d41d8cd98f00b204e9800998ecf8427e</td>\n",
              "    </tr>\n",
              "  </tbody>\n",
              "</table>\n",
              "<p>15483 rows × 5 columns</p>\n",
              "</div>\n",
              "      <button class=\"colab-df-convert\" onclick=\"convertToInteractive('df-7066f788-9433-4232-8b64-90d20ff8cc28')\"\n",
              "              title=\"Convert this dataframe to an interactive table.\"\n",
              "              style=\"display:none;\">\n",
              "        \n",
              "  <svg xmlns=\"http://www.w3.org/2000/svg\" height=\"24px\"viewBox=\"0 0 24 24\"\n",
              "       width=\"24px\">\n",
              "    <path d=\"M0 0h24v24H0V0z\" fill=\"none\"/>\n",
              "    <path d=\"M18.56 5.44l.94 2.06.94-2.06 2.06-.94-2.06-.94-.94-2.06-.94 2.06-2.06.94zm-11 1L8.5 8.5l.94-2.06 2.06-.94-2.06-.94L8.5 2.5l-.94 2.06-2.06.94zm10 10l.94 2.06.94-2.06 2.06-.94-2.06-.94-.94-2.06-.94 2.06-2.06.94z\"/><path d=\"M17.41 7.96l-1.37-1.37c-.4-.4-.92-.59-1.43-.59-.52 0-1.04.2-1.43.59L10.3 9.45l-7.72 7.72c-.78.78-.78 2.05 0 2.83L4 21.41c.39.39.9.59 1.41.59.51 0 1.02-.2 1.41-.59l7.78-7.78 2.81-2.81c.8-.78.8-2.07 0-2.86zM5.41 20L4 18.59l7.72-7.72 1.47 1.35L5.41 20z\"/>\n",
              "  </svg>\n",
              "      </button>\n",
              "      \n",
              "  <style>\n",
              "    .colab-df-container {\n",
              "      display:flex;\n",
              "      flex-wrap:wrap;\n",
              "      gap: 12px;\n",
              "    }\n",
              "\n",
              "    .colab-df-convert {\n",
              "      background-color: #E8F0FE;\n",
              "      border: none;\n",
              "      border-radius: 50%;\n",
              "      cursor: pointer;\n",
              "      display: none;\n",
              "      fill: #1967D2;\n",
              "      height: 32px;\n",
              "      padding: 0 0 0 0;\n",
              "      width: 32px;\n",
              "    }\n",
              "\n",
              "    .colab-df-convert:hover {\n",
              "      background-color: #E2EBFA;\n",
              "      box-shadow: 0px 1px 2px rgba(60, 64, 67, 0.3), 0px 1px 3px 1px rgba(60, 64, 67, 0.15);\n",
              "      fill: #174EA6;\n",
              "    }\n",
              "\n",
              "    [theme=dark] .colab-df-convert {\n",
              "      background-color: #3B4455;\n",
              "      fill: #D2E3FC;\n",
              "    }\n",
              "\n",
              "    [theme=dark] .colab-df-convert:hover {\n",
              "      background-color: #434B5C;\n",
              "      box-shadow: 0px 1px 3px 1px rgba(0, 0, 0, 0.15);\n",
              "      filter: drop-shadow(0px 1px 2px rgba(0, 0, 0, 0.3));\n",
              "      fill: #FFFFFF;\n",
              "    }\n",
              "  </style>\n",
              "\n",
              "      <script>\n",
              "        const buttonEl =\n",
              "          document.querySelector('#df-7066f788-9433-4232-8b64-90d20ff8cc28 button.colab-df-convert');\n",
              "        buttonEl.style.display =\n",
              "          google.colab.kernel.accessAllowed ? 'block' : 'none';\n",
              "\n",
              "        async function convertToInteractive(key) {\n",
              "          const element = document.querySelector('#df-7066f788-9433-4232-8b64-90d20ff8cc28');\n",
              "          const dataTable =\n",
              "            await google.colab.kernel.invokeFunction('convertToInteractive',\n",
              "                                                     [key], {});\n",
              "          if (!dataTable) return;\n",
              "\n",
              "          const docLinkHtml = 'Like what you see? Visit the ' +\n",
              "            '<a target=\"_blank\" href=https://colab.research.google.com/notebooks/data_table.ipynb>data table notebook</a>'\n",
              "            + ' to learn more about interactive tables.';\n",
              "          element.innerHTML = '';\n",
              "          dataTable['output_type'] = 'display_data';\n",
              "          await google.colab.output.renderOutput(dataTable, element);\n",
              "          const docLink = document.createElement('div');\n",
              "          docLink.innerHTML = docLinkHtml;\n",
              "          element.appendChild(docLink);\n",
              "        }\n",
              "      </script>\n",
              "    </div>\n",
              "  </div>\n",
              "  "
            ]
          },
          "metadata": {},
          "execution_count": 23
        }
      ]
    },
    {
      "cell_type": "code",
      "source": [
        "sleeps_df"
      ],
      "metadata": {
        "colab": {
          "base_uri": "https://localhost:8080/",
          "height": 424
        },
        "id": "gy07DMHoYrZv",
        "outputId": "48c1191f-9bce-4038-f1da-2ad47285899f"
      },
      "execution_count": 24,
      "outputs": [
        {
          "output_type": "execute_result",
          "data": {
            "text/plain": [
              "           id             timezone  model  model_id  \\\n",
              "0    75434668  America/Los_Angeles     16        93   \n",
              "1     2215104  America/Los_Angeles     16        93   \n",
              "2    38712131  America/Los_Angeles     16        93   \n",
              "3    60969723  America/Los_Angeles     16        93   \n",
              "4    58554051  America/Los_Angeles     16        93   \n",
              "..        ...                  ...    ...       ...   \n",
              "102  13715843  America/Los_Angeles     16        93   \n",
              "103  41336362  America/Los_Angeles     16        93   \n",
              "104  34407373  America/Los_Angeles     16        93   \n",
              "105  47654887  America/Los_Angeles     16        93   \n",
              "106  58665877  America/Los_Angeles     16        93   \n",
              "\n",
              "                        hash_deviceid        date   startdate     enddate  \\\n",
              "0    d41d8cd98f00b204e9800998ecf8427e  2022-03-01  1646190000  1646211600   \n",
              "1    d41d8cd98f00b204e9800998ecf8427e  2022-03-02  1646283600  1646308800   \n",
              "2    d41d8cd98f00b204e9800998ecf8427e  2022-03-03  1646370000  1646395200   \n",
              "3    d41d8cd98f00b204e9800998ecf8427e  2022-03-04  1646456400  1646474400   \n",
              "4    d41d8cd98f00b204e9800998ecf8427e  2022-03-05  1646542800  1646568000   \n",
              "..                                ...         ...         ...         ...   \n",
              "102  d41d8cd98f00b204e9800998ecf8427e  2022-06-11  1655002800  1655017200   \n",
              "103  d41d8cd98f00b204e9800998ecf8427e  2022-06-12  1655096400  1655125200   \n",
              "104  d41d8cd98f00b204e9800998ecf8427e  2022-06-13  1655197200  1655211600   \n",
              "105  d41d8cd98f00b204e9800998ecf8427e  2022-06-14  1655276400  1655301600   \n",
              "106  d41d8cd98f00b204e9800998ecf8427e  2022-06-15  1655359200  1655373600   \n",
              "\n",
              "                                                  data     created    modified  \n",
              "0    {'wakeupduration': 1915, 'wakeupcount': 1, 'du...  1646211600  1646211600  \n",
              "1    {'wakeupduration': 1308, 'wakeupcount': 0, 'du...  1646308800  1646308800  \n",
              "2    {'wakeupduration': 1306, 'wakeupcount': 0, 'du...  1646395200  1646395200  \n",
              "3    {'wakeupduration': 449, 'wakeupcount': 1, 'dur...  1646474400  1646474400  \n",
              "4    {'wakeupduration': 1672, 'wakeupcount': 3, 'du...  1646568000  1646568000  \n",
              "..                                                 ...         ...         ...  \n",
              "102  {'wakeupduration': 2341, 'wakeupcount': 2, 'du...  1655017200  1655017200  \n",
              "103  {'wakeupduration': 1925, 'wakeupcount': 2, 'du...  1655125200  1655125200  \n",
              "104  {'wakeupduration': 1025, 'wakeupcount': 2, 'du...  1655211600  1655211600  \n",
              "105  {'wakeupduration': 2321, 'wakeupcount': 1, 'du...  1655301600  1655301600  \n",
              "106  {'wakeupduration': 2935, 'wakeupcount': 2, 'du...  1655373600  1655373600  \n",
              "\n",
              "[107 rows x 11 columns]"
            ],
            "text/html": [
              "\n",
              "  <div id=\"df-d3213cc2-56e7-439b-9a7f-e6b384166044\">\n",
              "    <div class=\"colab-df-container\">\n",
              "      <div>\n",
              "<style scoped>\n",
              "    .dataframe tbody tr th:only-of-type {\n",
              "        vertical-align: middle;\n",
              "    }\n",
              "\n",
              "    .dataframe tbody tr th {\n",
              "        vertical-align: top;\n",
              "    }\n",
              "\n",
              "    .dataframe thead th {\n",
              "        text-align: right;\n",
              "    }\n",
              "</style>\n",
              "<table border=\"1\" class=\"dataframe\">\n",
              "  <thead>\n",
              "    <tr style=\"text-align: right;\">\n",
              "      <th></th>\n",
              "      <th>id</th>\n",
              "      <th>timezone</th>\n",
              "      <th>model</th>\n",
              "      <th>model_id</th>\n",
              "      <th>hash_deviceid</th>\n",
              "      <th>date</th>\n",
              "      <th>startdate</th>\n",
              "      <th>enddate</th>\n",
              "      <th>data</th>\n",
              "      <th>created</th>\n",
              "      <th>modified</th>\n",
              "    </tr>\n",
              "  </thead>\n",
              "  <tbody>\n",
              "    <tr>\n",
              "      <th>0</th>\n",
              "      <td>75434668</td>\n",
              "      <td>America/Los_Angeles</td>\n",
              "      <td>16</td>\n",
              "      <td>93</td>\n",
              "      <td>d41d8cd98f00b204e9800998ecf8427e</td>\n",
              "      <td>2022-03-01</td>\n",
              "      <td>1646190000</td>\n",
              "      <td>1646211600</td>\n",
              "      <td>{'wakeupduration': 1915, 'wakeupcount': 1, 'du...</td>\n",
              "      <td>1646211600</td>\n",
              "      <td>1646211600</td>\n",
              "    </tr>\n",
              "    <tr>\n",
              "      <th>1</th>\n",
              "      <td>2215104</td>\n",
              "      <td>America/Los_Angeles</td>\n",
              "      <td>16</td>\n",
              "      <td>93</td>\n",
              "      <td>d41d8cd98f00b204e9800998ecf8427e</td>\n",
              "      <td>2022-03-02</td>\n",
              "      <td>1646283600</td>\n",
              "      <td>1646308800</td>\n",
              "      <td>{'wakeupduration': 1308, 'wakeupcount': 0, 'du...</td>\n",
              "      <td>1646308800</td>\n",
              "      <td>1646308800</td>\n",
              "    </tr>\n",
              "    <tr>\n",
              "      <th>2</th>\n",
              "      <td>38712131</td>\n",
              "      <td>America/Los_Angeles</td>\n",
              "      <td>16</td>\n",
              "      <td>93</td>\n",
              "      <td>d41d8cd98f00b204e9800998ecf8427e</td>\n",
              "      <td>2022-03-03</td>\n",
              "      <td>1646370000</td>\n",
              "      <td>1646395200</td>\n",
              "      <td>{'wakeupduration': 1306, 'wakeupcount': 0, 'du...</td>\n",
              "      <td>1646395200</td>\n",
              "      <td>1646395200</td>\n",
              "    </tr>\n",
              "    <tr>\n",
              "      <th>3</th>\n",
              "      <td>60969723</td>\n",
              "      <td>America/Los_Angeles</td>\n",
              "      <td>16</td>\n",
              "      <td>93</td>\n",
              "      <td>d41d8cd98f00b204e9800998ecf8427e</td>\n",
              "      <td>2022-03-04</td>\n",
              "      <td>1646456400</td>\n",
              "      <td>1646474400</td>\n",
              "      <td>{'wakeupduration': 449, 'wakeupcount': 1, 'dur...</td>\n",
              "      <td>1646474400</td>\n",
              "      <td>1646474400</td>\n",
              "    </tr>\n",
              "    <tr>\n",
              "      <th>4</th>\n",
              "      <td>58554051</td>\n",
              "      <td>America/Los_Angeles</td>\n",
              "      <td>16</td>\n",
              "      <td>93</td>\n",
              "      <td>d41d8cd98f00b204e9800998ecf8427e</td>\n",
              "      <td>2022-03-05</td>\n",
              "      <td>1646542800</td>\n",
              "      <td>1646568000</td>\n",
              "      <td>{'wakeupduration': 1672, 'wakeupcount': 3, 'du...</td>\n",
              "      <td>1646568000</td>\n",
              "      <td>1646568000</td>\n",
              "    </tr>\n",
              "    <tr>\n",
              "      <th>...</th>\n",
              "      <td>...</td>\n",
              "      <td>...</td>\n",
              "      <td>...</td>\n",
              "      <td>...</td>\n",
              "      <td>...</td>\n",
              "      <td>...</td>\n",
              "      <td>...</td>\n",
              "      <td>...</td>\n",
              "      <td>...</td>\n",
              "      <td>...</td>\n",
              "      <td>...</td>\n",
              "    </tr>\n",
              "    <tr>\n",
              "      <th>102</th>\n",
              "      <td>13715843</td>\n",
              "      <td>America/Los_Angeles</td>\n",
              "      <td>16</td>\n",
              "      <td>93</td>\n",
              "      <td>d41d8cd98f00b204e9800998ecf8427e</td>\n",
              "      <td>2022-06-11</td>\n",
              "      <td>1655002800</td>\n",
              "      <td>1655017200</td>\n",
              "      <td>{'wakeupduration': 2341, 'wakeupcount': 2, 'du...</td>\n",
              "      <td>1655017200</td>\n",
              "      <td>1655017200</td>\n",
              "    </tr>\n",
              "    <tr>\n",
              "      <th>103</th>\n",
              "      <td>41336362</td>\n",
              "      <td>America/Los_Angeles</td>\n",
              "      <td>16</td>\n",
              "      <td>93</td>\n",
              "      <td>d41d8cd98f00b204e9800998ecf8427e</td>\n",
              "      <td>2022-06-12</td>\n",
              "      <td>1655096400</td>\n",
              "      <td>1655125200</td>\n",
              "      <td>{'wakeupduration': 1925, 'wakeupcount': 2, 'du...</td>\n",
              "      <td>1655125200</td>\n",
              "      <td>1655125200</td>\n",
              "    </tr>\n",
              "    <tr>\n",
              "      <th>104</th>\n",
              "      <td>34407373</td>\n",
              "      <td>America/Los_Angeles</td>\n",
              "      <td>16</td>\n",
              "      <td>93</td>\n",
              "      <td>d41d8cd98f00b204e9800998ecf8427e</td>\n",
              "      <td>2022-06-13</td>\n",
              "      <td>1655197200</td>\n",
              "      <td>1655211600</td>\n",
              "      <td>{'wakeupduration': 1025, 'wakeupcount': 2, 'du...</td>\n",
              "      <td>1655211600</td>\n",
              "      <td>1655211600</td>\n",
              "    </tr>\n",
              "    <tr>\n",
              "      <th>105</th>\n",
              "      <td>47654887</td>\n",
              "      <td>America/Los_Angeles</td>\n",
              "      <td>16</td>\n",
              "      <td>93</td>\n",
              "      <td>d41d8cd98f00b204e9800998ecf8427e</td>\n",
              "      <td>2022-06-14</td>\n",
              "      <td>1655276400</td>\n",
              "      <td>1655301600</td>\n",
              "      <td>{'wakeupduration': 2321, 'wakeupcount': 1, 'du...</td>\n",
              "      <td>1655301600</td>\n",
              "      <td>1655301600</td>\n",
              "    </tr>\n",
              "    <tr>\n",
              "      <th>106</th>\n",
              "      <td>58665877</td>\n",
              "      <td>America/Los_Angeles</td>\n",
              "      <td>16</td>\n",
              "      <td>93</td>\n",
              "      <td>d41d8cd98f00b204e9800998ecf8427e</td>\n",
              "      <td>2022-06-15</td>\n",
              "      <td>1655359200</td>\n",
              "      <td>1655373600</td>\n",
              "      <td>{'wakeupduration': 2935, 'wakeupcount': 2, 'du...</td>\n",
              "      <td>1655373600</td>\n",
              "      <td>1655373600</td>\n",
              "    </tr>\n",
              "  </tbody>\n",
              "</table>\n",
              "<p>107 rows × 11 columns</p>\n",
              "</div>\n",
              "      <button class=\"colab-df-convert\" onclick=\"convertToInteractive('df-d3213cc2-56e7-439b-9a7f-e6b384166044')\"\n",
              "              title=\"Convert this dataframe to an interactive table.\"\n",
              "              style=\"display:none;\">\n",
              "        \n",
              "  <svg xmlns=\"http://www.w3.org/2000/svg\" height=\"24px\"viewBox=\"0 0 24 24\"\n",
              "       width=\"24px\">\n",
              "    <path d=\"M0 0h24v24H0V0z\" fill=\"none\"/>\n",
              "    <path d=\"M18.56 5.44l.94 2.06.94-2.06 2.06-.94-2.06-.94-.94-2.06-.94 2.06-2.06.94zm-11 1L8.5 8.5l.94-2.06 2.06-.94-2.06-.94L8.5 2.5l-.94 2.06-2.06.94zm10 10l.94 2.06.94-2.06 2.06-.94-2.06-.94-.94-2.06-.94 2.06-2.06.94z\"/><path d=\"M17.41 7.96l-1.37-1.37c-.4-.4-.92-.59-1.43-.59-.52 0-1.04.2-1.43.59L10.3 9.45l-7.72 7.72c-.78.78-.78 2.05 0 2.83L4 21.41c.39.39.9.59 1.41.59.51 0 1.02-.2 1.41-.59l7.78-7.78 2.81-2.81c.8-.78.8-2.07 0-2.86zM5.41 20L4 18.59l7.72-7.72 1.47 1.35L5.41 20z\"/>\n",
              "  </svg>\n",
              "      </button>\n",
              "      \n",
              "  <style>\n",
              "    .colab-df-container {\n",
              "      display:flex;\n",
              "      flex-wrap:wrap;\n",
              "      gap: 12px;\n",
              "    }\n",
              "\n",
              "    .colab-df-convert {\n",
              "      background-color: #E8F0FE;\n",
              "      border: none;\n",
              "      border-radius: 50%;\n",
              "      cursor: pointer;\n",
              "      display: none;\n",
              "      fill: #1967D2;\n",
              "      height: 32px;\n",
              "      padding: 0 0 0 0;\n",
              "      width: 32px;\n",
              "    }\n",
              "\n",
              "    .colab-df-convert:hover {\n",
              "      background-color: #E2EBFA;\n",
              "      box-shadow: 0px 1px 2px rgba(60, 64, 67, 0.3), 0px 1px 3px 1px rgba(60, 64, 67, 0.15);\n",
              "      fill: #174EA6;\n",
              "    }\n",
              "\n",
              "    [theme=dark] .colab-df-convert {\n",
              "      background-color: #3B4455;\n",
              "      fill: #D2E3FC;\n",
              "    }\n",
              "\n",
              "    [theme=dark] .colab-df-convert:hover {\n",
              "      background-color: #434B5C;\n",
              "      box-shadow: 0px 1px 3px 1px rgba(0, 0, 0, 0.15);\n",
              "      filter: drop-shadow(0px 1px 2px rgba(0, 0, 0, 0.3));\n",
              "      fill: #FFFFFF;\n",
              "    }\n",
              "  </style>\n",
              "\n",
              "      <script>\n",
              "        const buttonEl =\n",
              "          document.querySelector('#df-d3213cc2-56e7-439b-9a7f-e6b384166044 button.colab-df-convert');\n",
              "        buttonEl.style.display =\n",
              "          google.colab.kernel.accessAllowed ? 'block' : 'none';\n",
              "\n",
              "        async function convertToInteractive(key) {\n",
              "          const element = document.querySelector('#df-d3213cc2-56e7-439b-9a7f-e6b384166044');\n",
              "          const dataTable =\n",
              "            await google.colab.kernel.invokeFunction('convertToInteractive',\n",
              "                                                     [key], {});\n",
              "          if (!dataTable) return;\n",
              "\n",
              "          const docLinkHtml = 'Like what you see? Visit the ' +\n",
              "            '<a target=\"_blank\" href=https://colab.research.google.com/notebooks/data_table.ipynb>data table notebook</a>'\n",
              "            + ' to learn more about interactive tables.';\n",
              "          element.innerHTML = '';\n",
              "          dataTable['output_type'] = 'display_data';\n",
              "          await google.colab.output.renderOutput(dataTable, element);\n",
              "          const docLink = document.createElement('div');\n",
              "          docLink.innerHTML = docLinkHtml;\n",
              "          element.appendChild(docLink);\n",
              "        }\n",
              "      </script>\n",
              "    </div>\n",
              "  </div>\n",
              "  "
            ]
          },
          "metadata": {},
          "execution_count": 24
        }
      ]
    },
    {
      "cell_type": "markdown",
      "source": [
        "Now that we've got dataframes with data, we can see the data they have. In particular, we have a ton of measurements from a non-ScanWatch device, so we'll get rid of those. Note that it is theoretically possible to have another ScanWatch device (and maybe the model name will be `ScanWatch2`, or something different), but we were unable to test this, so if you switch between devices you might want to be careful here."
      ],
      "metadata": {
        "id": "CyvkzE-mSfuR"
      }
    },
    {
      "cell_type": "code",
      "source": [
        "hr_df = hr_df.drop(np.where(hr_df.model != 'ScanWatch')[0])\n",
        "hr_df"
      ],
      "metadata": {
        "colab": {
          "base_uri": "https://localhost:8080/",
          "height": 424
        },
        "id": "SNpMhIa7u4Cj",
        "outputId": "2e764712-10a2-44be-f4b4-8907d3550387"
      },
      "execution_count": 25,
      "outputs": [
        {
          "output_type": "execute_result",
          "data": {
            "text/plain": [
              "                 datetime  heart_rate      model  model_id  \\\n",
              "1000  2022-03-01 00:00:00          84  ScanWatch        93   \n",
              "1001  2022-03-01 00:10:00          92  ScanWatch        93   \n",
              "1002  2022-03-01 00:20:00          91  ScanWatch        93   \n",
              "1003  2022-03-01 00:30:00          86  ScanWatch        93   \n",
              "1004  2022-03-01 00:40:00          87  ScanWatch        93   \n",
              "...                   ...         ...        ...       ...   \n",
              "15478 2022-06-16 23:00:00          93  ScanWatch        93   \n",
              "15479 2022-06-16 23:10:00          89  ScanWatch        93   \n",
              "15480 2022-06-16 23:20:00          91  ScanWatch        93   \n",
              "15481 2022-06-16 23:30:00          87  ScanWatch        93   \n",
              "15482 2022-06-16 23:40:00          86  ScanWatch        93   \n",
              "\n",
              "                               deviceid  \n",
              "1000   d41d8cd98f00b204e9800998ecf8427e  \n",
              "1001   d41d8cd98f00b204e9800998ecf8427e  \n",
              "1002   d41d8cd98f00b204e9800998ecf8427e  \n",
              "1003   d41d8cd98f00b204e9800998ecf8427e  \n",
              "1004   d41d8cd98f00b204e9800998ecf8427e  \n",
              "...                                 ...  \n",
              "15478  d41d8cd98f00b204e9800998ecf8427e  \n",
              "15479  d41d8cd98f00b204e9800998ecf8427e  \n",
              "15480  d41d8cd98f00b204e9800998ecf8427e  \n",
              "15481  d41d8cd98f00b204e9800998ecf8427e  \n",
              "15482  d41d8cd98f00b204e9800998ecf8427e  \n",
              "\n",
              "[14483 rows x 5 columns]"
            ],
            "text/html": [
              "\n",
              "  <div id=\"df-d9cc70a0-6fc1-4cfd-9a44-c078b8773b87\">\n",
              "    <div class=\"colab-df-container\">\n",
              "      <div>\n",
              "<style scoped>\n",
              "    .dataframe tbody tr th:only-of-type {\n",
              "        vertical-align: middle;\n",
              "    }\n",
              "\n",
              "    .dataframe tbody tr th {\n",
              "        vertical-align: top;\n",
              "    }\n",
              "\n",
              "    .dataframe thead th {\n",
              "        text-align: right;\n",
              "    }\n",
              "</style>\n",
              "<table border=\"1\" class=\"dataframe\">\n",
              "  <thead>\n",
              "    <tr style=\"text-align: right;\">\n",
              "      <th></th>\n",
              "      <th>datetime</th>\n",
              "      <th>heart_rate</th>\n",
              "      <th>model</th>\n",
              "      <th>model_id</th>\n",
              "      <th>deviceid</th>\n",
              "    </tr>\n",
              "  </thead>\n",
              "  <tbody>\n",
              "    <tr>\n",
              "      <th>1000</th>\n",
              "      <td>2022-03-01 00:00:00</td>\n",
              "      <td>84</td>\n",
              "      <td>ScanWatch</td>\n",
              "      <td>93</td>\n",
              "      <td>d41d8cd98f00b204e9800998ecf8427e</td>\n",
              "    </tr>\n",
              "    <tr>\n",
              "      <th>1001</th>\n",
              "      <td>2022-03-01 00:10:00</td>\n",
              "      <td>92</td>\n",
              "      <td>ScanWatch</td>\n",
              "      <td>93</td>\n",
              "      <td>d41d8cd98f00b204e9800998ecf8427e</td>\n",
              "    </tr>\n",
              "    <tr>\n",
              "      <th>1002</th>\n",
              "      <td>2022-03-01 00:20:00</td>\n",
              "      <td>91</td>\n",
              "      <td>ScanWatch</td>\n",
              "      <td>93</td>\n",
              "      <td>d41d8cd98f00b204e9800998ecf8427e</td>\n",
              "    </tr>\n",
              "    <tr>\n",
              "      <th>1003</th>\n",
              "      <td>2022-03-01 00:30:00</td>\n",
              "      <td>86</td>\n",
              "      <td>ScanWatch</td>\n",
              "      <td>93</td>\n",
              "      <td>d41d8cd98f00b204e9800998ecf8427e</td>\n",
              "    </tr>\n",
              "    <tr>\n",
              "      <th>1004</th>\n",
              "      <td>2022-03-01 00:40:00</td>\n",
              "      <td>87</td>\n",
              "      <td>ScanWatch</td>\n",
              "      <td>93</td>\n",
              "      <td>d41d8cd98f00b204e9800998ecf8427e</td>\n",
              "    </tr>\n",
              "    <tr>\n",
              "      <th>...</th>\n",
              "      <td>...</td>\n",
              "      <td>...</td>\n",
              "      <td>...</td>\n",
              "      <td>...</td>\n",
              "      <td>...</td>\n",
              "    </tr>\n",
              "    <tr>\n",
              "      <th>15478</th>\n",
              "      <td>2022-06-16 23:00:00</td>\n",
              "      <td>93</td>\n",
              "      <td>ScanWatch</td>\n",
              "      <td>93</td>\n",
              "      <td>d41d8cd98f00b204e9800998ecf8427e</td>\n",
              "    </tr>\n",
              "    <tr>\n",
              "      <th>15479</th>\n",
              "      <td>2022-06-16 23:10:00</td>\n",
              "      <td>89</td>\n",
              "      <td>ScanWatch</td>\n",
              "      <td>93</td>\n",
              "      <td>d41d8cd98f00b204e9800998ecf8427e</td>\n",
              "    </tr>\n",
              "    <tr>\n",
              "      <th>15480</th>\n",
              "      <td>2022-06-16 23:20:00</td>\n",
              "      <td>91</td>\n",
              "      <td>ScanWatch</td>\n",
              "      <td>93</td>\n",
              "      <td>d41d8cd98f00b204e9800998ecf8427e</td>\n",
              "    </tr>\n",
              "    <tr>\n",
              "      <th>15481</th>\n",
              "      <td>2022-06-16 23:30:00</td>\n",
              "      <td>87</td>\n",
              "      <td>ScanWatch</td>\n",
              "      <td>93</td>\n",
              "      <td>d41d8cd98f00b204e9800998ecf8427e</td>\n",
              "    </tr>\n",
              "    <tr>\n",
              "      <th>15482</th>\n",
              "      <td>2022-06-16 23:40:00</td>\n",
              "      <td>86</td>\n",
              "      <td>ScanWatch</td>\n",
              "      <td>93</td>\n",
              "      <td>d41d8cd98f00b204e9800998ecf8427e</td>\n",
              "    </tr>\n",
              "  </tbody>\n",
              "</table>\n",
              "<p>14483 rows × 5 columns</p>\n",
              "</div>\n",
              "      <button class=\"colab-df-convert\" onclick=\"convertToInteractive('df-d9cc70a0-6fc1-4cfd-9a44-c078b8773b87')\"\n",
              "              title=\"Convert this dataframe to an interactive table.\"\n",
              "              style=\"display:none;\">\n",
              "        \n",
              "  <svg xmlns=\"http://www.w3.org/2000/svg\" height=\"24px\"viewBox=\"0 0 24 24\"\n",
              "       width=\"24px\">\n",
              "    <path d=\"M0 0h24v24H0V0z\" fill=\"none\"/>\n",
              "    <path d=\"M18.56 5.44l.94 2.06.94-2.06 2.06-.94-2.06-.94-.94-2.06-.94 2.06-2.06.94zm-11 1L8.5 8.5l.94-2.06 2.06-.94-2.06-.94L8.5 2.5l-.94 2.06-2.06.94zm10 10l.94 2.06.94-2.06 2.06-.94-2.06-.94-.94-2.06-.94 2.06-2.06.94z\"/><path d=\"M17.41 7.96l-1.37-1.37c-.4-.4-.92-.59-1.43-.59-.52 0-1.04.2-1.43.59L10.3 9.45l-7.72 7.72c-.78.78-.78 2.05 0 2.83L4 21.41c.39.39.9.59 1.41.59.51 0 1.02-.2 1.41-.59l7.78-7.78 2.81-2.81c.8-.78.8-2.07 0-2.86zM5.41 20L4 18.59l7.72-7.72 1.47 1.35L5.41 20z\"/>\n",
              "  </svg>\n",
              "      </button>\n",
              "      \n",
              "  <style>\n",
              "    .colab-df-container {\n",
              "      display:flex;\n",
              "      flex-wrap:wrap;\n",
              "      gap: 12px;\n",
              "    }\n",
              "\n",
              "    .colab-df-convert {\n",
              "      background-color: #E8F0FE;\n",
              "      border: none;\n",
              "      border-radius: 50%;\n",
              "      cursor: pointer;\n",
              "      display: none;\n",
              "      fill: #1967D2;\n",
              "      height: 32px;\n",
              "      padding: 0 0 0 0;\n",
              "      width: 32px;\n",
              "    }\n",
              "\n",
              "    .colab-df-convert:hover {\n",
              "      background-color: #E2EBFA;\n",
              "      box-shadow: 0px 1px 2px rgba(60, 64, 67, 0.3), 0px 1px 3px 1px rgba(60, 64, 67, 0.15);\n",
              "      fill: #174EA6;\n",
              "    }\n",
              "\n",
              "    [theme=dark] .colab-df-convert {\n",
              "      background-color: #3B4455;\n",
              "      fill: #D2E3FC;\n",
              "    }\n",
              "\n",
              "    [theme=dark] .colab-df-convert:hover {\n",
              "      background-color: #434B5C;\n",
              "      box-shadow: 0px 1px 3px 1px rgba(0, 0, 0, 0.15);\n",
              "      filter: drop-shadow(0px 1px 2px rgba(0, 0, 0, 0.3));\n",
              "      fill: #FFFFFF;\n",
              "    }\n",
              "  </style>\n",
              "\n",
              "      <script>\n",
              "        const buttonEl =\n",
              "          document.querySelector('#df-d9cc70a0-6fc1-4cfd-9a44-c078b8773b87 button.colab-df-convert');\n",
              "        buttonEl.style.display =\n",
              "          google.colab.kernel.accessAllowed ? 'block' : 'none';\n",
              "\n",
              "        async function convertToInteractive(key) {\n",
              "          const element = document.querySelector('#df-d9cc70a0-6fc1-4cfd-9a44-c078b8773b87');\n",
              "          const dataTable =\n",
              "            await google.colab.kernel.invokeFunction('convertToInteractive',\n",
              "                                                     [key], {});\n",
              "          if (!dataTable) return;\n",
              "\n",
              "          const docLinkHtml = 'Like what you see? Visit the ' +\n",
              "            '<a target=\"_blank\" href=https://colab.research.google.com/notebooks/data_table.ipynb>data table notebook</a>'\n",
              "            + ' to learn more about interactive tables.';\n",
              "          element.innerHTML = '';\n",
              "          dataTable['output_type'] = 'display_data';\n",
              "          await google.colab.output.renderOutput(dataTable, element);\n",
              "          const docLink = document.createElement('div');\n",
              "          docLink.innerHTML = docLinkHtml;\n",
              "          element.appendChild(docLink);\n",
              "        }\n",
              "      </script>\n",
              "    </div>\n",
              "  </div>\n",
              "  "
            ]
          },
          "metadata": {},
          "execution_count": 25
        }
      ]
    },
    {
      "cell_type": "markdown",
      "source": [
        "And now we have eliminated irrelevant rows!"
      ],
      "metadata": {
        "id": "oa_socCEve3m"
      }
    },
    {
      "cell_type": "markdown",
      "source": [
        "# 4. Data Exporting\n",
        "\n",
        "In this section, we export all of this data to formats compatible with popular scientific computing software (R, Excel, Google Sheets, Matlab). Specifically, we will first export to JSON, which can be read by R and Matlab. Then, we will export to CSV, which can be consumed by Excel, Google Sheets, and every other popular programming language.\n",
        "\n",
        "## Exporting to JSON (R, Matlab, etc.), CSV, and XLSX (Excel, Google Sheets, R, Matlab, etc.)\n",
        "\n",
        "Exporting to all these formats is fairly simple since we return a Pandas DataFrame. We export each datatype separately (JSON only) and also export a complete version that includes all simultaneously."
      ],
      "metadata": {
        "id": "eag-47xkhUhP"
      }
    },
    {
      "cell_type": "code",
      "source": [
        "#@title Select which format to export data!\n",
        "# set which format you prefer to export\n",
        "use_JSON = True #@param {type:\"boolean\"}\n",
        "use_CSV = True #@param {type:\"boolean\"}\n",
        "use_Excel = True #@param {type:\"boolean\"}\n",
        "\n",
        "if use_JSON:\n",
        "  for column in hr_df.columns:\n",
        "    column_list = hr_df[column].tolist()\n",
        "\n",
        "    # If the first column contains Timestamp objects, convert to strings\n",
        "    if isinstance(column_list[0], pd.Timestamp):\n",
        "        column_list = [x.strftime(\"%Y-%m-%d %H:%M:%S\") for x in column_list]\n",
        "\n",
        "    # Write the list to a JSON file with its corresponding type as the title\n",
        "    filename = \"hr_\" + column + \".json\"\n",
        "    with open(filename, 'w') as f:\n",
        "        json.dump(column_list, f)\n",
        "  for column in sleeps_df.columns:\n",
        "    column_list = sleeps_df[column].tolist()\n",
        "\n",
        "    # If the first column contains Timestamp objects, convert to strings\n",
        "    if isinstance(column_list[5], pd.Timestamp):\n",
        "        column_list = [x.strftime(\"%Y-%m-%d %H:%M:%S\") for x in column_list]\n",
        "\n",
        "    # Write the list to a JSON file with its corresponding type as the title\n",
        "    filename = \"sleeps_\" + column + \".json\"\n",
        "    with open(filename, 'w') as f:\n",
        "        json.dump(column_list, f)\n",
        "\n",
        "  # Convert both dfs to dictionary and make sure TimeStamps are strings\n",
        "  heart_df_JSON = hr_df\n",
        "  heart_df_JSON.loc[:, 'datetime'] = heart_df_JSON['datetime'].apply(lambda x: str(x))\n",
        "  heart_df_JSON = heart_df_JSON.to_dict(orient='records')\n",
        "  sleep_df_JSON = sleeps_df\n",
        "  sleep_df_JSON = sleep_df_JSON.to_dict(orient='records')\n",
        "\n",
        "  # Write both dictionaries to a JSON file\n",
        "  with open('hr_data.json', 'w') as outfile:\n",
        "      json.dump(heart_df_JSON, outfile)\n",
        "  with open('sleeps_data.json', 'w') as outfile:\n",
        "      json.dump(sleep_df_JSON, outfile)\n",
        "if use_CSV:\n",
        "  # Write both the dataframes to a CSV file\n",
        "  hr_df.to_csv(\"hr.csv\", index=False)\n",
        "  sleeps_df.to_csv(\"sleeps.csv\", index=False)\n",
        "if use_Excel:\n",
        "  # Write both the dataframes to an Excel file\n",
        "  hr_df.to_excel(\"hr.xlsx\", index=False)\n",
        "  sleeps_df.to_excel(\"sleeps.xlsx\", index=False)"
      ],
      "metadata": {
        "id": "hFgq34z5z2bz"
      },
      "execution_count": 26,
      "outputs": []
    },
    {
      "cell_type": "markdown",
      "source": [
        "Feel free to open the file viewer (see left pane) to look at the outputs!"
      ],
      "metadata": {
        "id": "mGblzhRN02GI"
      }
    },
    {
      "cell_type": "markdown",
      "source": [
        "# 5. Adherence\n",
        "In this section, we will simulate non-adherence over longer periods of time from the participant (day-level and week-level).\n",
        "\n",
        "Then, we will detect this non-adherence and give a Pandas DataFrame that concisely describes when the participant had the watch on and off throughout the entirety of the time period, allowing you to calculate measurement consistency, etc. We designate separate adherences for heart rate and sleep as the ser can have varying usage for sleep vs. wearing it in the daytime for heart rate measurements.\n",
        "\n",
        "We will first delete a certain % of blocks either at the day level or week level, with user input. However, you can also select whether you want to only detect adherence by selecting the detect adherence only option for real data."
      ],
      "metadata": {
        "id": "EWhDo3su1VGT"
      }
    },
    {
      "cell_type": "code",
      "source": [
        "#@title Non-adherence simulation and detection\n",
        "import random as random\n",
        "block_level = \"day\" #@param [\"day\", \"week\"]\n",
        "hr_nonadherence_percent = 0.1 #@param {type:\"slider\", min:0, max:1, step:0.01}\n",
        "sleep_nonadherence_percent = 0.26 #@param {type:\"slider\", min:0, max:1, step:0.01}\n",
        "detect_adherence_only = False #@param {type:\"boolean\"}\n",
        "\n",
        "def remove_dates(dates, percent, by_week):\n",
        "    \"\"\"\n",
        "    Removes a percentage of dates by week or day.\n",
        "    \n",
        "    :param dates: list of datetime objects representing the dates to be processed\n",
        "    :param percent: float representing the percentage of dates to be removed\n",
        "    :param by_week: string indicating whether to remove dates by week (True) or by day (False)\n",
        "    :return: list of datetime objects representing the remaining dates after removal\n",
        "    \"\"\"\n",
        "    # Sort the dates in ascending order\n",
        "    dates_sorted = sorted(dates)\n",
        "\n",
        "    # Define the step size for removal based on the by_week parameter\n",
        "    step_size = 7 if by_week == \"week\" else 1\n",
        "    len_dates_sorted = len(dates_sorted)\n",
        "    \n",
        "    # Calculate the number of dates to be removed based on the percentage\n",
        "    num_dates_to_remove = int(int(len_dates_sorted / step_size) * percent)\n",
        "    \n",
        "    list_indices = []\n",
        "    while num_dates_to_remove > 0:\n",
        "      random_index = random.randint(0, len_dates_sorted)\n",
        "      for i in range(random_index, random_index + step_size):\n",
        "        list_indices.append(i)\n",
        "      num_dates_to_remove-=1\n",
        "\n",
        "    # create a new list that excludes the elements at the specified indices\n",
        "    new_dates_sorted = [date for i, date in enumerate(dates_sorted) if i not in list_indices]\n",
        "    # Return the remaining dates\n",
        "    return new_dates_sorted\n",
        "\n",
        "hrs_adherence = hr_df\n",
        "hrs_adherence['datetime'] = pd.to_datetime(hrs_adherence['datetime'], format='%Y-%m-%d %H:%M:%S')\n",
        "sleep_adherence = sleeps_df\n",
        "\n",
        "if not detect_adherence_only:\n",
        "  if block_level == \"day\":\n",
        "      block_length = 1\n",
        "  elif block_level == \"week\":\n",
        "      block_length = 7\n",
        "\n",
        "  hr_unique_dates = hrs_adherence['datetime'].dt.date.unique()\n",
        "  hr_num_blocks_to_keep = remove_dates(hr_unique_dates, hr_nonadherence_percent, block_level)\n",
        "  sleep_num_blocks = len(sleeps_df['date'].tolist()) # length of entries in DF using the date column\n",
        "  sleep_num_blocks_to_keep = int(sleep_nonadherence_percent * sleep_num_blocks)\n",
        "  print(hr_num_blocks_to_keep)\n",
        "\n",
        "  hrs_adherence = hrs_adherence.reset_index(drop=True) # reset the index\n",
        "  hr_date_mask = hrs_adherence['datetime'].dt.date.isin(hr_num_blocks_to_keep)\n",
        "  sleep_adherence = sleep_adherence.reset_index(drop=True) # reset the index\n",
        "  sleep_idxes = np.random.choice(np.arange(sleep_num_blocks), replace=False, size=sleep_num_blocks_to_keep)\n",
        "  hr_rows_to_remove = hrs_adherence[hr_date_mask].index\n",
        "  hrs_adherence = hrs_adherence.drop(hr_rows_to_remove)\n",
        "  sleep_adherence = sleep_adherence.drop(sleep_idxes.tolist())\n",
        "  "
      ],
      "metadata": {
        "colab": {
          "base_uri": "https://localhost:8080/"
        },
        "id": "yTs6tAE-3fx_",
        "outputId": "3a5c26d8-e89e-46ed-ddaa-ee53d8386b74"
      },
      "execution_count": 27,
      "outputs": [
        {
          "output_type": "stream",
          "name": "stdout",
          "text": [
            "[datetime.date(2022, 3, 1), datetime.date(2022, 3, 2), datetime.date(2022, 3, 3), datetime.date(2022, 3, 4), datetime.date(2022, 3, 5), datetime.date(2022, 3, 7), datetime.date(2022, 3, 8), datetime.date(2022, 3, 9), datetime.date(2022, 3, 10), datetime.date(2022, 3, 11), datetime.date(2022, 3, 12), datetime.date(2022, 3, 13), datetime.date(2022, 3, 14), datetime.date(2022, 3, 15), datetime.date(2022, 3, 16), datetime.date(2022, 3, 17), datetime.date(2022, 3, 18), datetime.date(2022, 3, 19), datetime.date(2022, 3, 20), datetime.date(2022, 3, 21), datetime.date(2022, 3, 22), datetime.date(2022, 3, 23), datetime.date(2022, 3, 24), datetime.date(2022, 3, 25), datetime.date(2022, 3, 26), datetime.date(2022, 3, 27), datetime.date(2022, 3, 28), datetime.date(2022, 3, 29), datetime.date(2022, 3, 30), datetime.date(2022, 3, 31), datetime.date(2022, 4, 1), datetime.date(2022, 4, 2), datetime.date(2022, 4, 4), datetime.date(2022, 4, 5), datetime.date(2022, 4, 6), datetime.date(2022, 4, 7), datetime.date(2022, 4, 8), datetime.date(2022, 4, 9), datetime.date(2022, 4, 10), datetime.date(2022, 4, 11), datetime.date(2022, 4, 12), datetime.date(2022, 4, 13), datetime.date(2022, 4, 14), datetime.date(2022, 4, 15), datetime.date(2022, 4, 16), datetime.date(2022, 4, 17), datetime.date(2022, 4, 18), datetime.date(2022, 4, 20), datetime.date(2022, 4, 22), datetime.date(2022, 4, 24), datetime.date(2022, 4, 25), datetime.date(2022, 4, 26), datetime.date(2022, 4, 27), datetime.date(2022, 4, 28), datetime.date(2022, 4, 29), datetime.date(2022, 4, 30), datetime.date(2022, 5, 1), datetime.date(2022, 5, 3), datetime.date(2022, 5, 4), datetime.date(2022, 5, 6), datetime.date(2022, 5, 7), datetime.date(2022, 5, 8), datetime.date(2022, 5, 9), datetime.date(2022, 5, 10), datetime.date(2022, 5, 11), datetime.date(2022, 5, 12), datetime.date(2022, 5, 13), datetime.date(2022, 5, 14), datetime.date(2022, 5, 15), datetime.date(2022, 5, 16), datetime.date(2022, 5, 17), datetime.date(2022, 5, 18), datetime.date(2022, 5, 19), datetime.date(2022, 5, 20), datetime.date(2022, 5, 21), datetime.date(2022, 5, 22), datetime.date(2022, 5, 23), datetime.date(2022, 5, 24), datetime.date(2022, 5, 25), datetime.date(2022, 5, 26), datetime.date(2022, 5, 27), datetime.date(2022, 5, 28), datetime.date(2022, 5, 29), datetime.date(2022, 5, 30), datetime.date(2022, 5, 31), datetime.date(2022, 6, 1), datetime.date(2022, 6, 2), datetime.date(2022, 6, 3), datetime.date(2022, 6, 4), datetime.date(2022, 6, 5), datetime.date(2022, 6, 7), datetime.date(2022, 6, 8), datetime.date(2022, 6, 10), datetime.date(2022, 6, 11), datetime.date(2022, 6, 12), datetime.date(2022, 6, 13), datetime.date(2022, 6, 14), datetime.date(2022, 6, 15), datetime.date(2022, 6, 16)]\n"
          ]
        }
      ]
    },
    {
      "cell_type": "markdown",
      "source": [
        "And now we simulated having significantly fewer datapoints! This will give us a more realistic situation, where participants may take off their device for days or weeks at a time. \n",
        "\n",
        "Now let's detect non-adherence. We will return a Pandas DataFrame sampled everyday for sleep and every 10 minutes for heart rate."
      ],
      "metadata": {
        "id": "_IhzVZIn3kOS"
      }
    },
    {
      "cell_type": "code",
      "source": [
        "hr_start_date = hr_df.iloc[0]['datetime']\n",
        "hr_end_date = hr_df.iloc[-1]['datetime']\n",
        "\n",
        "sleep_start_date = sleeps_df.iloc[0]['date']\n",
        "sleep_end_date = sleeps_df.iloc[-1]['date']\n",
        "\n",
        "hr_ts_col = pd.date_range(hr_start_date, hr_end_date, freq=\"600s\")\n",
        "sleep_ts_col = pd.date_range(sleep_start_date, sleep_end_date, freq=\"D\", normalize=True)\n",
        "hr_using_arr = np.zeros(len(hr_ts_col))\n",
        "sleep_using_arr = np.zeros(len(sleep_ts_col))\n",
        "\n",
        "for i, dt in enumerate(hrs_adherence['datetime']):\n",
        "    ts = pd.Timestamp(pd.to_datetime(dt))\n",
        "    idxes = np.where(hr_ts_col == ts)[0]\n",
        "    if len(idxes) >= 1:\n",
        "      hr_using_arr[idxes[0]] = 1\n",
        "\n",
        "for i, dt in enumerate(sleep_adherence['date']):\n",
        "    ts = pd.Timestamp(pd.to_datetime(dt))\n",
        "    idxes = np.where(sleep_ts_col == ts)[0]\n",
        "    if len(idxes) >= 1:\n",
        "      sleep_using_arr[idxes[0]] = 1\n",
        "\n",
        "sleep_adherence_detect = pd.DataFrame()\n",
        "hr_adherence_detect = pd.DataFrame()\n",
        "sleep_adherence_detect['timestamp'] = sleep_ts_col\n",
        "hr_adherence_detect['timestamp'] = hr_ts_col\n",
        "sleep_adherence_detect['is_using'] = sleep_using_arr.astype('bool')\n",
        "hr_adherence_detect['is_using'] = hr_using_arr.astype('bool')"
      ],
      "metadata": {
        "id": "ZFUIyYzn3qii"
      },
      "execution_count": 28,
      "outputs": []
    },
    {
      "cell_type": "markdown",
      "source": [
        "We can plot this out, and we get adherence at a daily frequency throughout the entirety of the data collection period."
      ],
      "metadata": {
        "id": "oSSzLt3r3vAX"
      }
    },
    {
      "cell_type": "code",
      "source": [
        "#@title HR Adherence Plot\n",
        "plt.figure(figsize=(12, 6))\n",
        "plt.plot(hr_adherence_detect.timestamp, hr_adherence_detect.is_using)\n"
      ],
      "metadata": {
        "id": "y0SvC7R6QPVd",
        "colab": {
          "base_uri": "https://localhost:8080/",
          "height": 392
        },
        "outputId": "b3498bfc-43f7-45a0-a21e-75cff495ca7a"
      },
      "execution_count": 29,
      "outputs": [
        {
          "output_type": "execute_result",
          "data": {
            "text/plain": [
              "[<matplotlib.lines.Line2D at 0x7f7215da78b0>]"
            ]
          },
          "metadata": {},
          "execution_count": 29
        },
        {
          "output_type": "display_data",
          "data": {
            "text/plain": [
              "<Figure size 864x432 with 1 Axes>"
            ],
            "image/png": "[encoded data removed]"
          },
          "metadata": {
            "needs_background": "light"
          }
        }
      ]
    },
    {
      "cell_type": "code",
      "source": [
        "#@title Sleep Adherence Plot\n",
        "plt.figure(figsize=(12, 6))\n",
        "plt.plot(sleep_adherence_detect.timestamp, sleep_adherence_detect.is_using, color='Red')\n"
      ],
      "metadata": {
        "id": "sODKLIHIQd2y",
        "colab": {
          "base_uri": "https://localhost:8080/",
          "height": 392
        },
        "outputId": "f517e6c3-05b7-4190-f3d4-9fcbdff980c8"
      },
      "execution_count": 30,
      "outputs": [
        {
          "output_type": "execute_result",
          "data": {
            "text/plain": [
              "[<matplotlib.lines.Line2D at 0x7f7214769ee0>]"
            ]
          },
          "metadata": {},
          "execution_count": 30
        },
        {
          "output_type": "display_data",
          "data": {
            "text/plain": [
              "<Figure size 864x432 with 1 Axes>"
            ],
            "image/png": "[encoded data removed]"
          },
          "metadata": {
            "needs_background": "light"
          }
        }
      ]
    },
    {
      "cell_type": "markdown",
      "source": [
        "We can also turn these into a list of start and stop points."
      ],
      "metadata": {
        "id": "J3nguoz359AD"
      }
    },
    {
      "cell_type": "code",
      "source": [
        "#@title HR Start/Stop Points\n",
        "from itertools import groupby\n",
        "\n",
        "def contiguous_regions(a):\n",
        "    i = 0\n",
        "    res = []\n",
        "\n",
        "    for k, g in groupby(a):\n",
        "        l = len(list(g))\n",
        "        if k:\n",
        "            res.append((i,i+l))\n",
        "        i += l\n",
        "\n",
        "    return res\n",
        "\n",
        "start_stops = []\n",
        "for x in contiguous_regions(hr_adherence_detect.is_using):\n",
        "    if x[0] >= 0 and x[0] < len(hr_adherence_detect) and x[1] >= 0 and x[1] < len(hr_adherence_detect):\n",
        "        start_stops.append((hr_adherence_detect.timestamp[x[0]], hr_adherence_detect.timestamp[x[1]]))\n",
        "start_stops"
      ],
      "metadata": {
        "id": "Sliudg2gQozS",
        "colab": {
          "base_uri": "https://localhost:8080/"
        },
        "outputId": "b9219a81-51a7-4d18-e7ec-017bcc51450f"
      },
      "execution_count": 31,
      "outputs": [
        {
          "output_type": "execute_result",
          "data": {
            "text/plain": [
              "[(Timestamp('2022-03-06 00:00:00'), Timestamp('2022-03-06 01:30:00')),\n",
              " (Timestamp('2022-03-06 02:00:00'), Timestamp('2022-03-06 02:50:00')),\n",
              " (Timestamp('2022-03-06 03:00:00'), Timestamp('2022-03-06 05:20:00')),\n",
              " (Timestamp('2022-03-06 05:30:00'), Timestamp('2022-03-06 06:10:00')),\n",
              " (Timestamp('2022-03-06 06:20:00'), Timestamp('2022-03-06 07:00:00')),\n",
              " (Timestamp('2022-03-06 07:10:00'), Timestamp('2022-03-06 08:20:00')),\n",
              " (Timestamp('2022-03-06 08:30:00'), Timestamp('2022-03-06 09:50:00')),\n",
              " (Timestamp('2022-03-06 10:00:00'), Timestamp('2022-03-06 20:30:00')),\n",
              " (Timestamp('2022-03-06 20:40:00'), Timestamp('2022-03-06 22:10:00')),\n",
              " (Timestamp('2022-03-06 22:20:00'), Timestamp('2022-03-06 23:20:00')),\n",
              " (Timestamp('2022-03-06 23:40:00'), Timestamp('2022-03-06 23:50:00')),\n",
              " (Timestamp('2022-04-03 00:00:00'), Timestamp('2022-04-03 01:20:00')),\n",
              " (Timestamp('2022-04-03 01:30:00'), Timestamp('2022-04-03 01:40:00')),\n",
              " (Timestamp('2022-04-03 01:50:00'), Timestamp('2022-04-03 04:20:00')),\n",
              " (Timestamp('2022-04-03 04:30:00'), Timestamp('2022-04-03 06:30:00')),\n",
              " (Timestamp('2022-04-03 06:40:00'), Timestamp('2022-04-03 08:10:00')),\n",
              " (Timestamp('2022-04-03 08:20:00'), Timestamp('2022-04-03 08:50:00')),\n",
              " (Timestamp('2022-04-03 09:00:00'), Timestamp('2022-04-03 20:20:00')),\n",
              " (Timestamp('2022-04-03 20:30:00'), Timestamp('2022-04-03 23:10:00')),\n",
              " (Timestamp('2022-04-03 23:20:00'), Timestamp('2022-04-04 00:00:00')),\n",
              " (Timestamp('2022-04-19 00:00:00'), Timestamp('2022-04-19 00:20:00')),\n",
              " (Timestamp('2022-04-19 00:30:00'), Timestamp('2022-04-19 00:50:00')),\n",
              " (Timestamp('2022-04-19 01:10:00'), Timestamp('2022-04-19 01:50:00')),\n",
              " (Timestamp('2022-04-19 02:10:00'), Timestamp('2022-04-19 02:30:00')),\n",
              " (Timestamp('2022-04-19 02:40:00'), Timestamp('2022-04-19 02:50:00')),\n",
              " (Timestamp('2022-04-19 03:00:00'), Timestamp('2022-04-19 04:00:00')),\n",
              " (Timestamp('2022-04-19 04:10:00'), Timestamp('2022-04-19 04:20:00')),\n",
              " (Timestamp('2022-04-19 04:30:00'), Timestamp('2022-04-19 04:40:00')),\n",
              " (Timestamp('2022-04-19 04:50:00'), Timestamp('2022-04-19 06:30:00')),\n",
              " (Timestamp('2022-04-19 06:40:00'), Timestamp('2022-04-19 07:00:00')),\n",
              " (Timestamp('2022-04-19 07:10:00'), Timestamp('2022-04-19 22:00:00')),\n",
              " (Timestamp('2022-04-19 22:10:00'), Timestamp('2022-04-19 23:30:00')),\n",
              " (Timestamp('2022-04-19 23:40:00'), Timestamp('2022-04-20 00:00:00')),\n",
              " (Timestamp('2022-04-21 00:10:00'), Timestamp('2022-04-21 00:30:00')),\n",
              " (Timestamp('2022-04-21 00:40:00'), Timestamp('2022-04-21 04:40:00')),\n",
              " (Timestamp('2022-04-21 04:50:00'), Timestamp('2022-04-21 07:00:00')),\n",
              " (Timestamp('2022-04-21 07:10:00'), Timestamp('2022-04-21 09:30:00')),\n",
              " (Timestamp('2022-04-21 09:40:00'), Timestamp('2022-04-21 23:10:00')),\n",
              " (Timestamp('2022-04-21 23:20:00'), Timestamp('2022-04-22 00:00:00')),\n",
              " (Timestamp('2022-04-23 00:10:00'), Timestamp('2022-04-23 00:30:00')),\n",
              " (Timestamp('2022-04-23 00:40:00'), Timestamp('2022-04-23 01:20:00')),\n",
              " (Timestamp('2022-04-23 01:30:00'), Timestamp('2022-04-23 01:40:00')),\n",
              " (Timestamp('2022-04-23 01:50:00'), Timestamp('2022-04-23 02:00:00')),\n",
              " (Timestamp('2022-04-23 02:10:00'), Timestamp('2022-04-23 02:20:00')),\n",
              " (Timestamp('2022-04-23 02:50:00'), Timestamp('2022-04-23 03:40:00')),\n",
              " (Timestamp('2022-04-23 03:50:00'), Timestamp('2022-04-23 05:40:00')),\n",
              " (Timestamp('2022-04-23 05:50:00'), Timestamp('2022-04-23 22:40:00')),\n",
              " (Timestamp('2022-04-23 22:50:00'), Timestamp('2022-04-23 23:00:00')),\n",
              " (Timestamp('2022-04-23 23:10:00'), Timestamp('2022-04-24 00:00:00')),\n",
              " (Timestamp('2022-05-02 00:00:00'), Timestamp('2022-05-02 00:20:00')),\n",
              " (Timestamp('2022-05-02 00:30:00'), Timestamp('2022-05-02 01:20:00')),\n",
              " (Timestamp('2022-05-02 01:30:00'), Timestamp('2022-05-02 01:50:00')),\n",
              " (Timestamp('2022-05-02 02:10:00'), Timestamp('2022-05-02 06:30:00')),\n",
              " (Timestamp('2022-05-02 06:40:00'), Timestamp('2022-05-02 06:50:00')),\n",
              " (Timestamp('2022-05-02 07:00:00'), Timestamp('2022-05-02 07:10:00')),\n",
              " (Timestamp('2022-05-02 07:20:00'), Timestamp('2022-05-02 08:30:00')),\n",
              " (Timestamp('2022-05-02 08:40:00'), Timestamp('2022-05-02 20:30:00')),\n",
              " (Timestamp('2022-05-02 20:40:00'), Timestamp('2022-05-02 20:50:00')),\n",
              " (Timestamp('2022-05-02 21:00:00'), Timestamp('2022-05-02 21:50:00')),\n",
              " (Timestamp('2022-05-02 22:00:00'), Timestamp('2022-05-02 22:10:00')),\n",
              " (Timestamp('2022-05-02 22:20:00'), Timestamp('2022-05-02 22:40:00')),\n",
              " (Timestamp('2022-05-02 22:50:00'), Timestamp('2022-05-03 00:00:00')),\n",
              " (Timestamp('2022-05-05 00:30:00'), Timestamp('2022-05-05 01:20:00')),\n",
              " (Timestamp('2022-05-05 01:30:00'), Timestamp('2022-05-05 04:50:00')),\n",
              " (Timestamp('2022-05-05 05:00:00'), Timestamp('2022-05-05 05:40:00')),\n",
              " (Timestamp('2022-05-05 05:50:00'), Timestamp('2022-05-05 07:50:00')),\n",
              " (Timestamp('2022-05-05 08:00:00'), Timestamp('2022-05-05 22:20:00')),\n",
              " (Timestamp('2022-05-05 22:30:00'), Timestamp('2022-05-05 22:50:00')),\n",
              " (Timestamp('2022-05-05 23:00:00'), Timestamp('2022-05-06 00:00:00')),\n",
              " (Timestamp('2022-06-06 00:00:00'), Timestamp('2022-06-06 00:20:00')),\n",
              " (Timestamp('2022-06-06 00:40:00'), Timestamp('2022-06-06 02:50:00')),\n",
              " (Timestamp('2022-06-06 03:10:00'), Timestamp('2022-06-06 05:10:00')),\n",
              " (Timestamp('2022-06-06 05:20:00'), Timestamp('2022-06-06 08:00:00')),\n",
              " (Timestamp('2022-06-06 08:10:00'), Timestamp('2022-06-06 08:20:00')),\n",
              " (Timestamp('2022-06-06 08:30:00'), Timestamp('2022-06-06 08:50:00')),\n",
              " (Timestamp('2022-06-06 09:00:00'), Timestamp('2022-06-06 20:30:00')),\n",
              " (Timestamp('2022-06-06 20:40:00'), Timestamp('2022-06-06 20:50:00')),\n",
              " (Timestamp('2022-06-06 21:00:00'), Timestamp('2022-06-06 21:10:00')),\n",
              " (Timestamp('2022-06-06 21:20:00'), Timestamp('2022-06-07 00:00:00')),\n",
              " (Timestamp('2022-06-09 00:10:00'), Timestamp('2022-06-09 02:00:00')),\n",
              " (Timestamp('2022-06-09 02:10:00'), Timestamp('2022-06-09 02:50:00')),\n",
              " (Timestamp('2022-06-09 03:00:00'), Timestamp('2022-06-09 03:40:00')),\n",
              " (Timestamp('2022-06-09 04:00:00'), Timestamp('2022-06-09 08:20:00')),\n",
              " (Timestamp('2022-06-09 08:50:00'), Timestamp('2022-06-09 09:10:00')),\n",
              " (Timestamp('2022-06-09 09:30:00'), Timestamp('2022-06-09 21:40:00')),\n",
              " (Timestamp('2022-06-09 21:50:00'), Timestamp('2022-06-09 22:20:00')),\n",
              " (Timestamp('2022-06-09 22:30:00'), Timestamp('2022-06-09 23:10:00')),\n",
              " (Timestamp('2022-06-09 23:20:00'), Timestamp('2022-06-09 23:40:00')),\n",
              " (Timestamp('2022-06-09 23:50:00'), Timestamp('2022-06-10 00:00:00'))]"
            ]
          },
          "metadata": {},
          "execution_count": 31
        }
      ]
    },
    {
      "cell_type": "code",
      "source": [
        "#@title Sleep Start/Stop Points\n",
        "from itertools import groupby\n",
        "\n",
        "def contiguous_regions(a):\n",
        "    i = 0\n",
        "    res = []\n",
        "\n",
        "    for k, g in groupby(a):\n",
        "        l = len(list(g))\n",
        "        if k:\n",
        "            res.append((i,i+l))\n",
        "        i += l\n",
        "\n",
        "    return res\n",
        "\n",
        "start_stops = []\n",
        "for x in contiguous_regions(sleep_adherence_detect.is_using):\n",
        "    if x[0] >= 0 and x[0] < len(sleep_adherence_detect) and x[1] >= 0 and x[1] < len(sleep_adherence_detect):\n",
        "        start_stops.append((sleep_adherence_detect.timestamp[x[0]], sleep_adherence_detect.timestamp[x[1]]))\n",
        "start_stops"
      ],
      "metadata": {
        "id": "JnlmY73DQ8sB",
        "colab": {
          "base_uri": "https://localhost:8080/"
        },
        "outputId": "cef33a92-4e8c-448f-8a59-27ace8ae382b"
      },
      "execution_count": 32,
      "outputs": [
        {
          "output_type": "execute_result",
          "data": {
            "text/plain": [
              "[(Timestamp('2022-03-01 00:00:00'), Timestamp('2022-03-03 00:00:00')),\n",
              " (Timestamp('2022-03-04 00:00:00'), Timestamp('2022-03-05 00:00:00')),\n",
              " (Timestamp('2022-03-06 00:00:00'), Timestamp('2022-03-09 00:00:00')),\n",
              " (Timestamp('2022-03-11 00:00:00'), Timestamp('2022-03-12 00:00:00')),\n",
              " (Timestamp('2022-03-14 00:00:00'), Timestamp('2022-03-19 00:00:00')),\n",
              " (Timestamp('2022-03-20 00:00:00'), Timestamp('2022-03-30 00:00:00')),\n",
              " (Timestamp('2022-04-01 00:00:00'), Timestamp('2022-04-08 00:00:00')),\n",
              " (Timestamp('2022-04-09 00:00:00'), Timestamp('2022-04-12 00:00:00')),\n",
              " (Timestamp('2022-04-13 00:00:00'), Timestamp('2022-04-15 00:00:00')),\n",
              " (Timestamp('2022-04-17 00:00:00'), Timestamp('2022-04-19 00:00:00')),\n",
              " (Timestamp('2022-04-20 00:00:00'), Timestamp('2022-04-24 00:00:00')),\n",
              " (Timestamp('2022-04-25 00:00:00'), Timestamp('2022-04-26 00:00:00')),\n",
              " (Timestamp('2022-04-27 00:00:00'), Timestamp('2022-04-28 00:00:00')),\n",
              " (Timestamp('2022-04-30 00:00:00'), Timestamp('2022-05-08 00:00:00')),\n",
              " (Timestamp('2022-05-09 00:00:00'), Timestamp('2022-05-14 00:00:00')),\n",
              " (Timestamp('2022-05-15 00:00:00'), Timestamp('2022-05-18 00:00:00')),\n",
              " (Timestamp('2022-05-19 00:00:00'), Timestamp('2022-05-23 00:00:00')),\n",
              " (Timestamp('2022-05-24 00:00:00'), Timestamp('2022-05-28 00:00:00')),\n",
              " (Timestamp('2022-05-29 00:00:00'), Timestamp('2022-06-05 00:00:00')),\n",
              " (Timestamp('2022-06-06 00:00:00'), Timestamp('2022-06-09 00:00:00')),\n",
              " (Timestamp('2022-06-11 00:00:00'), Timestamp('2022-06-12 00:00:00'))]"
            ]
          },
          "metadata": {},
          "execution_count": 32
        }
      ]
    },
    {
      "cell_type": "markdown",
      "source": [
        "# 6. Data Visualization\n",
        "\n",
        "In this section, you'll expect to see a couple plots from the Health Mate mobile app reproduced.\n",
        "\n",
        "# 6.1: Heart rate single day\n",
        "First, we'll reproduce the below plot you can find in the Health Mate mobile app that displays heart rate data over the course of a single day. This plot is super helpful because it allows you to view the heart rate signal at a very granular level, and see how it varies over the course of a few hours.\n",
        "\n",
        "<img src=\"https://imgur.com/w7Z9G9X.png\"></img>\n",
        "\n",
        "*Above is a plot taken from the official Withings mobile app.*"
      ],
      "metadata": {
        "id": "V-9IFYQAk9JZ"
      }
    },
    {
      "cell_type": "code",
      "source": [
        "#@title Enter date\n",
        "date = \"2022-05-20\" #@param {type:\"date\"}\n",
        "from matplotlib.ticker import FormatStrFormatter\n",
        "import matplotlib.dates as dates\n",
        "import matplotlib.transforms\n",
        "\n",
        "from dateutil import tz\n",
        "from scipy.interpolate import make_interp_spline\n",
        "from datetime import timedelta\n",
        "\n",
        "# measurements are taken every 10 minutes, displayed on app every 30\n",
        "HEART_RATE_RECORDING_LENGTH = 30 * 60\n",
        "\n",
        "with plt.style.context('dark_background'):\n",
        "    # get the start and end times as timestamps by using the datetime library\n",
        "    start_ts = datetime.strptime(date + ' 00:00:00-07:00', '%Y-%m-%d %H:%M:%S%z').timestamp()\n",
        "    #end_ts = datetime.strptime(date + ' 23:59:59-07:00', '%Y-%m-%d %H:%M:%S%z').timestamp()\n",
        "    end_ts = start_ts + 24 * 3600 + 30 * 60  # 00:30 the next day\n",
        "    #end_ts = datetime.strptime('2022-05-25 00:30:00-07:00', '%Y-%m-%d %H:%M:%S%z').timestamp()\n",
        "\n",
        "    # now find the indices in hr_df.timestamp that match as closely as possible\n",
        "    start_idx = np.argmin(np.abs(hr_df.datetime.apply(lambda x: x.timestamp()) - start_ts))\n",
        "    end_idx = np.argmin(np.abs(hr_df.datetime.apply(lambda x: x.timestamp()) - end_ts))\n",
        "\n",
        "    x = hr_df.datetime.iloc[start_idx:end_idx]\n",
        "    y = hr_df.heart_rate.iloc[start_idx:end_idx]\n",
        "\n",
        "    # make it not as bumpy with gaussian filter. note that this does not reproduce\n",
        "    # the curve exactly, as I'm not sure what smoothing algorithm they used...\n",
        "    y = gaussian_filter(y, sigma=3)\n",
        "\n",
        "    fig = plt.figure(figsize=(18,6), facecolor='black')\n",
        "\n",
        "    x_timestamp = np.array([x_.timestamp() for x_ in x])\n",
        "\n",
        "    # get the gaps. we include [6] as well because when you do np.diff,\n",
        "    # it actually leaves out exactly one element\n",
        "    differences = np.concatenate((np.diff(x_timestamp), [60 * 10]))\n",
        "\n",
        "    # interpret a gap (i.e. when a user takes off the device for some prolonged\n",
        "    # period of time) as any two measurements that are taken more than\n",
        "    # 6 * 2 = 12 seconds apart, to account for minor variations around 6s\n",
        "    gap_idxes = np.where(differences > HEART_RATE_RECORDING_LENGTH * 2)[0]\n",
        "\n",
        "    # get the sleeps\n",
        "    sleep_idxes = []\n",
        "    for lower, upper in zip(sleeps_df.startdate, sleeps_df.enddate):\n",
        "        if lower < start_ts or upper > end_ts:\n",
        "            continue\n",
        "        # get the location in the timestamp array that is closest to `lower`\n",
        "        lower_idx = np.argmin(np.abs((x_timestamp - lower) - 0))\n",
        "        # get the location in the timestamp array that is closest to `upper`\n",
        "        upper_idx = np.argmin(np.abs((x_timestamp - upper) - 0))\n",
        "\n",
        "        sleep_idxes.append((lower_idx, upper_idx))\n",
        "\n",
        "    # first, we just plot the entire thing\n",
        "    plt.plot(x, y, linewidth=3, color='#85a6f7')\n",
        "\n",
        "    # now we overlay sleeps\n",
        "    for sleep_start, sleep_end in sleep_idxes:\n",
        "        plt.plot(x[sleep_start:sleep_end], y[sleep_start:sleep_end], linewidth=3, color='#3E414C')\n",
        "\n",
        "        plt.axvline(x=x.iloc[sleep_start], linestyle='--', linewidth=1.5, color='#2F303A')\n",
        "\n",
        "        plt.axvline(x=x.iloc[sleep_end], linestyle='--', linewidth=1.5, color='#2F303A')\n",
        "\n",
        "    # now we overlay gaps by overlaying with white\n",
        "    for gap_idx in gap_idxes:\n",
        "        plt.plot(x[gap_idx:gap_idx+2], y[gap_idx:gap_idx+2], linewidth=5, color='black')\n",
        "\n",
        "    plt.ylim(40, 180)\n",
        "    plt.xlim(x.iloc[0], x.iloc[-1] - pd.Timedelta(minutes=30))\n",
        "\n",
        "    datetimes = [\n",
        "        datetime.strptime(date + ' 00:00:00-0700', '%Y-%m-%d %H:%M:%S%z'),\n",
        "        datetime.strptime(date + ' 04:00:00-0700', '%Y-%m-%d %H:%M:%S%z'),\n",
        "        datetime.strptime(date + ' 08:00:00-0700', '%Y-%m-%d %H:%M:%S%z'),\n",
        "        datetime.strptime(date + ' 12:00:00-0700', '%Y-%m-%d %H:%M:%S%z'),\n",
        "        datetime.strptime(date + ' 16:00:00-0700', '%Y-%m-%d %H:%M:%S%z'),\n",
        "        datetime.strptime(date + ' 20:00:00-0700', '%Y-%m-%d %H:%M:%S%z'),\n",
        "        datetime.strptime(date + ' 00:00:00-0700', '%Y-%m-%d %H:%M:%S%z') + timedelta(days=1)\n",
        "    ]\n",
        "\n",
        "    plt.xticks(ticks=datetimes, labels=['12AM', '4AM', '8AM', '12PM', '4PM', '8PM', '12AM'])\n",
        "\n",
        "    # get the y-axis ticks to appear on the right\n",
        "    plt.gca().yaxis.tick_right()\n",
        "\n",
        "    #plt.gca().grid(axis='x', color='#2F303A')\n",
        "    plt.gca().grid(axis='y', color='#2F303A', which='major')\n",
        "\n",
        "    # hide x-axis and make the xtick labels 16 size\n",
        "    plt.tick_params(\n",
        "        axis='x',          # changes apply to the x-axis\n",
        "        which='both',      # both major and minor ticks are affected\n",
        "        bottom=False,      # ticks along the bottom edge are off\n",
        "        labelsize=16,\n",
        "        labelcolor='silver'\n",
        "    )\n",
        "\n",
        "    # hide y-axis and make the ytick labels 16 size\n",
        "    plt.tick_params(\n",
        "        axis='y',          # changes apply to the x-axis\n",
        "        which='both',      # both major and minor ticks are affected\n",
        "        right=False,      # ticks along the bottom edge are off\n",
        "        labelsize=16,\n",
        "        labelcolor='silver'\n",
        "    )\n",
        "\n",
        "    # add offset to y-axis tick labels to make them appear above gridlines\n",
        "    # instead of to the side\n",
        "    # https://stackoverflow.com/questions/28615887/how-to-move-a-tick-label-in-matplotlib\n",
        "    dx = -50/72.; dy = 15/72. \n",
        "    offset = matplotlib.transforms.ScaledTranslation(dx, dy, fig.dpi_scale_trans)\n",
        "    for label in plt.gca().yaxis.get_majorticklabels():\n",
        "        label.set_transform(label.get_transform() + offset)\n",
        "        \n",
        "    title_text = datetime.strftime(datetime.strptime(date, '%Y-%m-%d'), '%A, %B %d')\n",
        "\n",
        "    plt.title(title_text, fontsize=25, pad=40)\n",
        "    # turn off all borders\n",
        "    plt.gca().spines['left'].set_visible(False)\n",
        "    plt.gca().spines['right'].set_visible(False)\n",
        "    plt.gca().spines['top'].set_visible(False)\n",
        "    plt.gca().spines['bottom'].set_visible(False)"
      ],
      "metadata": {
        "colab": {
          "base_uri": "https://localhost:8080/",
          "height": 438
        },
        "cellView": "form",
        "id": "yuhua2DjadxQ",
        "outputId": "8b1de56d-2b44-4c4f-abd8-14f018253373"
      },
      "execution_count": 33,
      "outputs": [
        {
          "output_type": "display_data",
          "data": {
            "text/plain": [
              "<Figure size 1296x432 with 1 Axes>"
            ],
            "image/png": "[encoded data removed]"
          },
          "metadata": {}
        }
      ]
    },
    {
      "cell_type": "markdown",
      "source": [
        "*Above is a plot we created ourselves!*\n",
        "\n",
        "## 6.2: Sleeps over the course of a week\n",
        "\n",
        "Now let's try to reproduce the plot below, which shows when and how long the user sleeps every day of the week. This is super cool because we can look at the user's sleeping patterns for an entire week at a glance, instead of having to sift through rows in a dataframe! We can do this by poking deeper into the [Matplotlib architecture](https://www.aosabook.org/en/matplotlib.html) into the Artist layer and directly adding rounded rectangles to the plot.\n",
        "\n",
        "<img src=\"https://imgur.com/tV3K4wB.png\"></img>\n",
        "\n",
        "*The above plot is taken directly from the mobile app.*"
      ],
      "metadata": {
        "id": "JvSoAF9JntAl"
      }
    },
    {
      "cell_type": "code",
      "source": [
        "#@title Insert start of week (must be a Monday) and timezone name\n",
        "\n",
        "week_start = \"2022-05-23\" #@param {type:\"date\"}\n",
        "timezone_name = \"America/Los_Angeles\" #@param {type:\"string\"}\n",
        "\n",
        "from matplotlib.ticker import FormatStrFormatter\n",
        "import matplotlib.dates as dates\n",
        "import matplotlib.transforms\n",
        "import matplotlib.patches as patches\n",
        "from matplotlib.ticker import (MultipleLocator, FormatStrFormatter,\n",
        "                               AutoMinorLocator)\n",
        "\n",
        "from dateutil import tz\n",
        "from scipy.interpolate import make_interp_spline\n",
        "\n",
        "from datetime import timezone\n",
        "import pytz\n",
        "\n",
        "def timestamp_to_hour_min(timestamp, tz_name='America/Los_Angeles'):\n",
        "    # convert timezone to '%H:%M' in local timezone\n",
        "\n",
        "    local_tz = pytz.timezone(tz_name)\n",
        "    return datetime.fromtimestamp(int(timestamp)).replace(tzinfo=timezone.utc).astimezone(local_tz).strftime('%H:%M')\n",
        "\n",
        "def hour_min_to_vert_pos(hour_min):\n",
        "    num_mins = (int(hour_min.split(':')[0]) * 60 + int(hour_min.split(':')[1]))\n",
        "    vert_dist = (16 * 60 - num_mins) / (16 * 60)\n",
        "\n",
        "    return vert_dist\n",
        "\n",
        "# measurements are taken every 10 minutes, displayed on app every 30\n",
        "HEART_RATE_RECORDING_LENGTH = 30 * 60\n",
        "\n",
        "NUM_DAYS = 7\n",
        "RECT_WIDTH = 0.02\n",
        "RECTS_START = 0.1\n",
        "RECTS_END = 0.9\n",
        "\n",
        "# add on timezone\n",
        "timezone_offset = datetime.now(pytz.timezone(timezone_name)).strftime('%z')\n",
        "week_start = week_start + timezone_offset\n",
        "week_start_ts = datetime.strptime(week_start, '%Y-%m-%d%z').timestamp()\n",
        "\n",
        "with plt.style.context('dark_background'):\n",
        "    fig, ax = plt.subplots(figsize=(18,6), facecolor='black')\n",
        "\n",
        "    for day_num in range(NUM_DAYS):\n",
        "        rect_center_pos = RECTS_START + day_num / (NUM_DAYS-1) * (RECTS_END - RECTS_START)\n",
        "        # zorder to ensure it is drawn behind rect\n",
        "        plt.axvline(x=rect_center_pos, linestyle='--', linewidth=1.5, color='#2F303A', zorder=0)\n",
        "\n",
        "        # rounded rectangles\n",
        "        # https://stackoverflow.com/questions/58425392/bar-chart-with-rounded-corners-in-matplotlib\n",
        "\n",
        "        # subtract 4 hours because we want to capture sleeps that start from 8pm\n",
        "        # and onward\n",
        "        day_ts = week_start_ts + day_num * 24 * 3600 - 4 * 3600\n",
        "\n",
        "        row = sleeps_df[np.logical_and(sleeps_df.startdate >= day_ts, sleeps_df.enddate <= day_ts + 24 * 3600)]\n",
        "\n",
        "        # get the one with the longest sleep, this is how withings does it\n",
        "        # source: https://support.withings.com/hc/en-us/community/posts/360026177173-Naps-don-t-count-for-sleep-tracking\n",
        "        try:\n",
        "            row = row.iloc[np.argmax(row.enddate - row.startdate)]\n",
        "        except ValueError:\n",
        "            continue\n",
        "\n",
        "        # do a shift by 4 hours to account for difference b/w\n",
        "        # 8PM and 12AM, a bit of a hack\n",
        "        row.startdate += 4 * 3600\n",
        "        row.enddate += 4 * 3600\n",
        "\n",
        "        start, end = timestamp_to_hour_min(row.startdate, tz_name=timezone_name), timestamp_to_hour_min(row.enddate, tz_name=timezone_name)\n",
        "\n",
        "        top_pos, bottom_pos = hour_min_to_vert_pos(start), hour_min_to_vert_pos(end)\n",
        "\n",
        "        if row.data['sleep_score'] < 50:\n",
        "            color = '#ff7455'\n",
        "        elif row.data['sleep_score'] < 75:\n",
        "            color = '#FEDF00'\n",
        "        else:\n",
        "            color = '#24ffa4'\n",
        "\n",
        "        rect = patches.FancyBboxPatch((rect_center_pos - RECT_WIDTH / 2, bottom_pos),\n",
        "                                      RECT_WIDTH, top_pos - bottom_pos,\n",
        "                                      boxstyle=\"round,pad=-0.0040,rounding_size=0.015\",\n",
        "                                      linewidth=3, fc=color, ec='none')\n",
        "\n",
        "        ax.add_patch(rect)\n",
        "\n",
        "    plt.xticks(ticks=np.linspace(0.1,0.9,NUM_DAYS), labels=['Mon', 'Tue', 'Wed', 'Thu', 'Fri', 'Sat', 'Sun'])\n",
        "    plt.yticks(ticks=np.linspace(0, 1, 5), labels=['12PM', '8AM', '4AM', '12AM', '8PM'])\n",
        "\n",
        "    # get the y-axis ticks to appear on the right\n",
        "    plt.gca().yaxis.tick_right()\n",
        "\n",
        "    plt.gca().yaxis.set_minor_locator(AutoMinorLocator(n=2))\n",
        "    plt.gca().grid(axis='y', color='#2F303A', which='both')\n",
        "\n",
        "    # hide x-axis and make the xtick labels 16 size\n",
        "    plt.tick_params(\n",
        "        axis='x',          # changes apply to the x-axis\n",
        "        which='both',      # both major and minor ticks are affected\n",
        "        bottom=False,      # ticks along the bottom edge are off\n",
        "        labelsize=16,\n",
        "        labelcolor='silver'\n",
        "    )\n",
        "\n",
        "    # hide y-axis and make the ytick labels 16 size\n",
        "    plt.tick_params(\n",
        "        axis='y',          # changes apply to the x-axis\n",
        "        which='both',      # both major and minor ticks are affected\n",
        "        right=False,      # ticks along the bottom edge are off\n",
        "        labelsize=16,\n",
        "        labelcolor='silver'\n",
        "    )\n",
        "\n",
        "    # add offset to y-axis tick labels to make them appear above gridlines\n",
        "    # instead of to the side\n",
        "    # https://stackoverflow.com/questions/28615887/how-to-move-a-tick-label-in-matplotlib\n",
        "    dx = -50/72.; dy = 15/72. \n",
        "    offset = matplotlib.transforms.ScaledTranslation(dx, dy, fig.dpi_scale_trans)\n",
        "    for label in plt.gca().yaxis.get_majorticklabels():\n",
        "        label.set_transform(label.get_transform() + offset)\n",
        "\n",
        "    start_day_fmted = datetime.strftime(datetime.strptime(week_start, '%Y-%m-%d%z'), '%b %d')\n",
        "    end_day_fmted = datetime.strftime(datetime.strptime(week_start, '%Y-%m-%d%z') + timedelta(days=6), '%b %d')\n",
        "    plt.title(f'{start_day_fmted} - {end_day_fmted}', size=20, pad=40)\n",
        "\n",
        "    plt.gca().set_axisbelow(True)\n",
        "    # turn off all borders\n",
        "    plt.gca().spines['left'].set_visible(False)\n",
        "    plt.gca().spines['right'].set_visible(False)\n",
        "    plt.gca().spines['top'].set_visible(False)\n",
        "    plt.gca().spines['bottom'].set_visible(False)"
      ],
      "metadata": {
        "colab": {
          "base_uri": "https://localhost:8080/",
          "height": 434
        },
        "id": "rQvaa5iHyNpT",
        "outputId": "8489866d-e607-4c88-c178-69e1ba6c6abd"
      },
      "execution_count": 34,
      "outputs": [
        {
          "output_type": "display_data",
          "data": {
            "text/plain": [
              "<Figure size 1296x432 with 1 Axes>"
            ],
            "image/png": "[encoded data removed]"
          },
          "metadata": {}
        }
      ]
    },
    {
      "cell_type": "markdown",
      "source": [
        "Looks like we were able to pretty accurately reproduce the same things you can see in the mobile app by querying the public API!"
      ],
      "metadata": {
        "id": "8nZinF_BrNqf"
      }
    },
    {
      "cell_type": "markdown",
      "source": [
        "# 7. Advanced Visualization\n",
        "\n",
        "Now we'll do some more advanced plotting that at times features hardcore matplotlib hacking with the benefit of aesthetic quality."
      ],
      "metadata": {
        "id": "pFt3Q8GGSxYe"
      }
    },
    {
      "cell_type": "markdown",
      "source": [
        "## 7.1: Sleepmat Calendar of Usage\n",
        "\n",
        "Now what if we want to check when the user has consistently tracked their sleep? For example, which days of the month has the user used the SleepMat, and how long did they sleep? It would be cool to see the trends unfold visually over the course of multiple months. \n",
        "\n",
        "Fortunately, this idea is easy to execute with the use of [`july`](https://github.com/e-hulten/july/), a custom library that allows us to create beautiful calendar plots. We can then plot the sleep duration as a proxy for SleepMat usage. "
      ],
      "metadata": {
        "id": "kVg3JJHusIVA"
      }
    },
    {
      "cell_type": "code",
      "source": [
        "#@title Plot the SleepMat Usage Across the Calendar\n",
        "start_date = \"2022-01-01\" #@param {type:\"date\"}\n",
        "end_date = \"2022-06-01\" #@param {type:\"date\"}\n",
        "\n",
        "dates = pd.date_range(start_date, end_date)\n",
        "sleeps_df['Sleep duration (hours)'] = (sleeps_df['enddate'] - sleeps_df['startdate']) / 3600\n",
        "july.calendar_plot(sleeps_df['date'], sleeps_df['Sleep duration (hours)'], value_label=True, weeknum_label=False, title=False)\n",
        "plt.suptitle('SleepMat Usage with Sleep Duration in Hours', fontsize=\"x-large\", y=1.03)\n",
        "plt.show()  # suppress output from above line"
      ],
      "metadata": {
        "colab": {
          "base_uri": "https://localhost:8080/",
          "height": 322
        },
        "id": "mngpYERcwrIT",
        "outputId": "464026ba-a3e8-49c0-b8e3-875378968b2b"
      },
      "execution_count": 35,
      "outputs": [
        {
          "output_type": "display_data",
          "data": {
            "text/plain": [
              "<Figure size 1400x400 with 4 Axes>"
            ],
            "image/png": "[encoded data removed]"
          },
          "metadata": {
            "needs_background": "light"
          }
        }
      ]
    },
    {
      "cell_type": "markdown",
      "source": [
        "## 7.2: Sleep Fluctuation by Weekday/Month\n",
        "Although by default, our app gives us information about the exact sleeptimes that happen in a week and month timeframe, it is definitely necessary to look at how sleep duration varies on different weekdays/months within a longer timeframe. In our example, since we have a short timeframe, the violin plots will mimic the plots from section 6."
      ],
      "metadata": {
        "id": "J2BYEzyBS9jY"
      }
    },
    {
      "cell_type": "code",
      "source": [
        "#@title Plot sleep duration by weekday\n",
        "\n",
        "sleeps_df['date'] = pd.to_datetime(sleeps_df['date'])\n",
        "sleeps_df['Day of the Week'] = sleeps_df.date.apply(lambda x: x.strftime('%A'))\n",
        "\n",
        "plt.figure(figsize=(14,8))\n",
        "plt.ylim(2, 9)\n",
        "sns.boxplot(x='Day of the Week', y='Sleep duration (hours)', data=sleeps_df)\n",
        "plt.title('Sleep Duration by Day of the Week')"
      ],
      "metadata": {
        "id": "dmvCvbgCUb6D",
        "colab": {
          "base_uri": "https://localhost:8080/",
          "height": 762
        },
        "outputId": "3cf5d687-2bc0-45ba-c8aa-211022ba5611"
      },
      "execution_count": 36,
      "outputs": [
        {
          "output_type": "execute_result",
          "data": {
            "text/plain": [
              "Text(0.5, 1.0, 'Sleep Duration by Day of the Week')"
            ]
          },
          "metadata": {},
          "execution_count": 36
        },
        {
          "output_type": "display_data",
          "data": {
            "text/plain": [
              "<Figure size 1400x800 with 1 Axes>"
            ],
            "image/png": "[encoded data removed]"
          },
          "metadata": {
            "needs_background": "light"
          }
        }
      ]
    },
    {
      "cell_type": "code",
      "source": [
        "#@title Plot sleep duration by month\n",
        "sleeps_df['Month'] = pd.to_datetime(sleeps_df['startdate'], unit='s').dt.month_name()\n",
        "\n",
        "plt.figure(figsize=(14,8))\n",
        "plt.ylim(2, 9)\n",
        "sns.boxplot(x='Month', y='Sleep duration (hours)', data=sleeps_df)\n",
        "plt.title('Sleep Duration by Month')"
      ],
      "metadata": {
        "colab": {
          "base_uri": "https://localhost:8080/",
          "height": 762
        },
        "id": "akIZqImNydLA",
        "outputId": "43d0f479-8b01-4c78-9681-92f77e7fa00f",
        "cellView": "form"
      },
      "execution_count": 37,
      "outputs": [
        {
          "output_type": "execute_result",
          "data": {
            "text/plain": [
              "Text(0.5, 1.0, 'Sleep Duration by Month')"
            ]
          },
          "metadata": {},
          "execution_count": 37
        },
        {
          "output_type": "display_data",
          "data": {
            "text/plain": [
              "<Figure size 1400x800 with 1 Axes>"
            ],
            "image/png": "[encoded data removed]"
          },
          "metadata": {
            "needs_background": "light"
          }
        }
      ]
    },
    {
      "cell_type": "markdown",
      "source": [
        "Neat! We can now observe any anomalies and try to investigate the causes."
      ],
      "metadata": {
        "id": "QoBdnDzQtF01"
      }
    },
    {
      "cell_type": "markdown",
      "source": [
        "# 8. Outlier Detection and Data Cleaning \n",
        "In this section, we will perform some data cleaning and detect outliers in our extracted data in order to impute them. Since we want to perform data analysis on our heart rate and sleep, we need to get the daily sleep duration and average our heart rate. \n",
        "\n",
        "First, later on we will normalize out heart rate per sleep session by getting the median heart rate. \n"
      ],
      "metadata": {
        "id": "Q4fNZydhzp_U"
      }
    },
    {
      "cell_type": "code",
      "source": [
        "#@title Set date range and timezone\n",
        "start = \"2020-01-01\" #@param {type:\"date\"}\n",
        "end = \"2022-05-22\" #@param {type:\"date\"}\n",
        "timezone = \"US/Pacific\" #@param {type:\"string\"}\n",
        "params_all = {\n",
        "    'start': f'{start}T00:00:00.000Z',\n",
        "    'end': f'{end}T00:00:00.000Z'\n",
        "}"
      ],
      "metadata": {
        "id": "zRpWAQGCQEq4"
      },
      "execution_count": 38,
      "outputs": []
    },
    {
      "cell_type": "markdown",
      "source": [
        "Now we get the length of each sleep in hours."
      ],
      "metadata": {
        "id": "w2CMZKfCQvix"
      }
    },
    {
      "cell_type": "code",
      "source": [
        "sleeps_df['Length (hours)'] = (sleeps_df.enddate - sleeps_df.startdate) / 3600"
      ],
      "metadata": {
        "id": "HFkRjV-VQGBK"
      },
      "execution_count": 39,
      "outputs": []
    },
    {
      "cell_type": "markdown",
      "source": [
        "Next we get the median heart rate for each sleep."
      ],
      "metadata": {
        "id": "KLRbqHa6RwVI"
      }
    },
    {
      "cell_type": "code",
      "source": [
        "measurement_timestamps = hr_df.datetime.apply(lambda x: x.timestamp())\n",
        "\n",
        "all_heart_rates = []\n",
        "median_heart_rates = []\n",
        "\n",
        "for sleep_start, sleep_end in zip(sleeps_df.startdate, sleeps_df.enddate):\n",
        "    idxes = np.where(np.logical_and(measurement_timestamps > sleep_start, measurement_timestamps < sleep_end))[0]\n",
        "\n",
        "    heart_rates = np.array(hr_df.iloc[idxes].heart_rate)\n",
        "\n",
        "    all_heart_rates.append(heart_rates)\n",
        "    median_heart_rates.append(np.median(heart_rates))\n",
        "\n",
        "sleeps_df['Median heart rate'] = median_heart_rates\n",
        "\n",
        "# eliminate any nan's\n",
        "filtered_sleeps = sleeps_df[~np.isnan(sleeps_df['Median heart rate'])]"
      ],
      "metadata": {
        "id": "z4RmI5SHRIV2"
      },
      "execution_count": 40,
      "outputs": []
    },
    {
      "cell_type": "markdown",
      "source": [
        "Since there are currently no outliers in our data (by construction, since it is simulated to have none), we will manually inject a couple, just to demo that we can deal with outliers here."
      ],
      "metadata": {
        "id": "ZN3aHzaCXLF-"
      }
    },
    {
      "cell_type": "code",
      "source": [
        "import copy\n",
        "outlier = copy.deepcopy(sleeps_df.iloc[0])\n",
        "outlier['Length (hours)'] = 8\n",
        "outlier['Median heart rate'] = 120\n",
        "\n",
        "filtered_sleeps = filtered_sleeps.append(outlier, ignore_index=True)"
      ],
      "metadata": {
        "id": "XHUSYXGozp_W",
        "colab": {
          "base_uri": "https://localhost:8080/"
        },
        "outputId": "8f9ff33e-0183-4e4f-d0ed-bc2c8ecbea52"
      },
      "execution_count": 41,
      "outputs": [
        {
          "output_type": "stream",
          "name": "stderr",
          "text": [
            "<ipython-input-41-119a4f799c1f>:6: FutureWarning: The frame.append method is deprecated and will be removed from pandas in a future version. Use pandas.concat instead.\n",
            "  filtered_sleeps = filtered_sleeps.append(outlier, ignore_index=True)\n"
          ]
        }
      ]
    },
    {
      "cell_type": "markdown",
      "source": [
        "Now that we know that there is at least one outlier in this dataset, let's implement a system based on a normal distribution to automatically detect and remove outliers like this, based on the method described [here](https://medium.com/analytics-vidhya/outlier-detection-with-multivariate-normal-distribution-in-python-480033ba3a8a)."
      ],
      "metadata": {
        "id": "RdBNBO09zp_X"
      }
    },
    {
      "cell_type": "code",
      "source": [
        "from scipy.stats import multivariate_normal\n",
        "\n",
        "# calculate the covariance matrix\n",
        "data = np.stack((filtered_sleeps['Length (hours)'], filtered_sleeps['Median heart rate']), axis=0)\n",
        "covariance_matrix = np.cov(data)\n",
        "\n",
        "# calculating the mean\n",
        "mean_values = [np.mean(filtered_sleeps['Length (hours)']),np.mean(filtered_sleeps['Median heart rate'])]\n",
        "\n",
        "# multivariate normal distribution\n",
        "model = multivariate_normal(cov=covariance_matrix,mean=mean_values)\n",
        "data = np.stack((filtered_sleeps['Length (hours)'], filtered_sleeps['Median heart rate']),axis=1)\n",
        "\n",
        "# finding the outliers\n",
        "# any point with a probability lower than the threshold value is considered an outlier and removed \n",
        "threshold = 1.0e-05\n",
        "outlier = model.pdf(data).reshape(-1) < threshold\n",
        "\n",
        "new_data = copy.deepcopy(data)\n",
        "\n",
        "for i, boolean in enumerate(outlier):\n",
        "  if boolean:\n",
        "    print(data[i], \" is an outlier\")\n",
        "    print(np.where(np.logical_and(data[:,0] == data[i,0], data[:,1] == data[i,1]))[0].item(0))\n",
        "    # delete outliers\n",
        "    new_data = np.delete(new_data, np.where(np.logical_and(data[:,0] == data[i,0], data[:,1] == data[i,1]))[0].item(0),axis=0)\n",
        "\n",
        "# plot new graph with outliers removed\n",
        "# new_data[:,0] correspond to the new lengths, and new_data[:,1] correspond to the new values\n",
        "p = sns.jointplot(x=new_data[:,0], y=new_data[:,1], kind='reg')"
      ],
      "metadata": {
        "colab": {
          "base_uri": "https://localhost:8080/",
          "height": 637
        },
        "outputId": "b3ab8acf-11f1-4d16-c13a-492a4796b6b8",
        "id": "tOe4r8sBzp_X"
      },
      "execution_count": 42,
      "outputs": [
        {
          "output_type": "stream",
          "name": "stdout",
          "text": [
            "[  8. 120.]  is an outlier\n",
            "107\n"
          ]
        },
        {
          "output_type": "display_data",
          "data": {
            "text/plain": [
              "<Figure size 600x600 with 3 Axes>"
            ],
            "image/png": "[encoded data removed]"
          },
          "metadata": {
            "needs_background": "light"
          }
        }
      ]
    },
    {
      "cell_type": "markdown",
      "source": [
        "As we can see, our outlier detection system found the outlier and excluded it from our dataset, as needed."
      ],
      "metadata": {
        "id": "HACZAek4zp_Y"
      }
    },
    {
      "cell_type": "markdown",
      "source": [
        "\n",
        "\n",
        "# 9. Statistical Data Analysis\n",
        "\n",
        "Data isn't much without some analysis, so we're going to do some in this section.\n",
        "\n",
        "DISCLAIMER: the analyses below may not be 100% biologically or scientifically grounded; the code is here to assist in your process, if you are interested in asking these kinds of questions.\n",
        "\n",
        "## 9.1: Heart rate vs. sleep period length\n",
        "\n",
        "Maybe the heart rate is correlated with how long a particular sleep period was. Let's see if this hypothesis is true."
      ],
      "metadata": {
        "id": "NXDQ8BW5PbgQ"
      }
    },
    {
      "cell_type": "markdown",
      "source": [
        "Using our previous section's data of median heart rate per sleep session, let's make a quick plot to get some intuition. Here we just use [seaborn](https://seaborn.pydata.org/), as it's very quick to get beautiful plots out with minimal effort."
      ],
      "metadata": {
        "id": "fdgqfEL9R0ES"
      }
    },
    {
      "cell_type": "code",
      "source": [
        "#@title Density Plot of Sleep Duration vs. Median HR\n",
        "sns.kdeplot(x='Length (hours)', y='Median heart rate', data=sleeps_df, color = 'red')\n",
        "\n",
        "# get the current Axes object\n",
        "ax = plt.gca()\n",
        "\n",
        "# set the title of the plot and format it\n",
        "ax.set_title(\"Sleep Duration vs. Median Heart Rate Density Distribution\", fontsize=16, fontweight=\"bold\", color=\"blue\", pad=20)\n",
        "\n",
        "# display the plot\n",
        "plt.show()"
      ],
      "metadata": {
        "colab": {
          "base_uri": "https://localhost:8080/",
          "height": 431
        },
        "id": "oAobSTTI1kZz",
        "outputId": "6cf969ce-6b95-4bad-9e55-cfcb7d3af34b"
      },
      "execution_count": 43,
      "outputs": [
        {
          "output_type": "display_data",
          "data": {
            "text/plain": [
              "<Figure size 600x400 with 1 Axes>"
            ],
            "image/png": "[encoded data removed]"
          },
          "metadata": {
            "needs_background": "light"
          }
        }
      ]
    },
    {
      "cell_type": "code",
      "source": [
        "#@title Joint Plot of Sleep Duration vs. Median HR\n",
        "p = sns.jointplot(x='Length (hours)', y='Median heart rate', data=sleeps_df, kind='reg')"
      ],
      "metadata": {
        "colab": {
          "base_uri": "https://localhost:8080/",
          "height": 601
        },
        "id": "e1aGy9iBRmJR",
        "outputId": "8c52c96b-34c0-4dc6-c93f-b505dfbab68c"
      },
      "execution_count": 44,
      "outputs": [
        {
          "output_type": "display_data",
          "data": {
            "text/plain": [
              "<Figure size 600x600 with 3 Axes>"
            ],
            "image/png": "[encoded data removed]"
          },
          "metadata": {
            "needs_background": "light"
          }
        }
      ]
    },
    {
      "cell_type": "markdown",
      "source": [
        "As we can see from the scatterplot above, it looks like there might be a correlation there. Let's compute $R^2$ just to see exactly how correlated.\n",
        "\n",
        "We'll follow [this documentation](https://docs.scipy.org/doc/scipy-0.15.1/reference/generated/scipy.stats.linregress.html) and perform a linear regression to obtain the coefficient of determination."
      ],
      "metadata": {
        "id": "iTUONdMRSqf3"
      }
    },
    {
      "cell_type": "code",
      "source": [
        "from scipy import stats\n",
        "slope, intercept, r_value, p_value, std_err = stats.linregress(sleeps_df['Length (hours)'], sleeps_df['Median heart rate'])\n",
        "\n",
        "print(f'Slope: {slope:.3g}')\n",
        "print(f'Coefficient of determination: {r_value**2:.3g}')\n",
        "print(f'p-value: {p_value:.3g}')"
      ],
      "metadata": {
        "colab": {
          "base_uri": "https://localhost:8080/"
        },
        "id": "H5dJPADyRZ5h",
        "outputId": "c70e02ee-307f-401f-c779-4e516617b193"
      },
      "execution_count": 45,
      "outputs": [
        {
          "output_type": "stream",
          "name": "stdout",
          "text": [
            "Slope: -0.702\n",
            "Coefficient of determination: 0.89\n",
            "p-value: 4.49e-52\n"
          ]
        }
      ]
    },
    {
      "cell_type": "markdown",
      "source": [
        "We also see that the p-value, which is determined by scipy to be the two-sided p-value for a hypothesis test whose null hypothesis is that the slope is zero (that median heart rate has no correlation with sleep period length), is significant (<0.05). \n",
        "\n",
        "So given this evidence from this particular data, perhaps length of a sleep period is correlated with your heart rate."
      ],
      "metadata": {
        "id": "Vjbyo5j_S10f"
      }
    }
  ]
}
