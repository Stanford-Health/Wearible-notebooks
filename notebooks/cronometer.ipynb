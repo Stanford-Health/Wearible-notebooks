{
 "cells": [
  {
   "cell_type": "code",
   "execution_count": 7,
   "metadata": {},
   "outputs": [
    {
     "name": "stdout",
     "output_type": "stream",
     "text": [
      "Collecting git+https://github.com/Stanford-Health/wearipedia\n",
      "  Cloning https://github.com/Stanford-Health/wearipedia to /private/var/folders/4q/pymtr0qd38d5nlrw_myxq5r00000gn/T/pip-req-build-tqsvx12y\n",
      "  Running command git clone --filter=blob:none --quiet https://github.com/Stanford-Health/wearipedia /private/var/folders/4q/pymtr0qd38d5nlrw_myxq5r00000gn/T/pip-req-build-tqsvx12y\n",
      "  Resolved https://github.com/Stanford-Health/wearipedia to commit bf7d7dccd940216d62284191c033f0cc8ea53aca\n",
      "  Installing build dependencies ... \u001b[?25ldone\n",
      "\u001b[?25h  Getting requirements to build wheel ... \u001b[?25ldone\n",
      "\u001b[?25h  Preparing metadata (pyproject.toml) ... \u001b[?25ldone\n",
      "\u001b[?25hRequirement already satisfied: beautifulsoup4<5.0.0,>=4.12.2 in /Users/saarth/anaconda3/lib/python3.11/site-packages (from wearipedia==0.1.2) (4.12.2)\n",
      "Requirement already satisfied: fbm<0.4.0,>=0.3.0 in /Users/saarth/anaconda3/lib/python3.11/site-packages (from wearipedia==0.1.2) (0.3.0)\n",
      "Requirement already satisfied: garminconnect<0.2.0,>=0.1.48 in /Users/saarth/anaconda3/lib/python3.11/site-packages (from wearipedia==0.1.2) (0.1.55)\n",
      "Requirement already satisfied: jupyter<2.0.0,>=1.0.0 in /Users/saarth/anaconda3/lib/python3.11/site-packages (from wearipedia==0.1.2) (1.0.0)\n",
      "Requirement already satisfied: myfitnesspal<3.0.0,>=2.0.1 in /Users/saarth/anaconda3/lib/python3.11/site-packages (from wearipedia==0.1.2) (2.0.1)\n",
      "Requirement already satisfied: pandas<2.0,>=1.1 in /Users/saarth/anaconda3/lib/python3.11/site-packages (from wearipedia==0.1.2) (1.5.3)\n",
      "Requirement already satisfied: polyline<3.0.0,>=2.0.0 in /Users/saarth/anaconda3/lib/python3.11/site-packages (from wearipedia==0.1.2) (2.0.1)\n",
      "Requirement already satisfied: rich<13.0.0,>=12.6.0 in /Users/saarth/anaconda3/lib/python3.11/site-packages (from wearipedia==0.1.2) (12.6.0)\n",
      "Requirement already satisfied: scipy<2.0,>=1.6 in /Users/saarth/anaconda3/lib/python3.11/site-packages (from wearipedia==0.1.2) (1.11.1)\n",
      "Requirement already satisfied: tqdm<5.0.0,>=4.64.1 in /Users/saarth/anaconda3/lib/python3.11/site-packages (from wearipedia==0.1.2) (4.65.0)\n",
      "Requirement already satisfied: typer<0.7.0,>=0.6.1 in /Users/saarth/anaconda3/lib/python3.11/site-packages (from typer[all]<0.7.0,>=0.6.1->wearipedia==0.1.2) (0.6.1)\n",
      "Requirement already satisfied: wget<4.0,>=3.2 in /Users/saarth/anaconda3/lib/python3.11/site-packages (from wearipedia==0.1.2) (3.2)\n",
      "Requirement already satisfied: soupsieve>1.2 in /Users/saarth/anaconda3/lib/python3.11/site-packages (from beautifulsoup4<5.0.0,>=4.12.2->wearipedia==0.1.2) (2.4)\n",
      "Requirement already satisfied: numpy in /Users/saarth/anaconda3/lib/python3.11/site-packages (from fbm<0.4.0,>=0.3.0->wearipedia==0.1.2) (1.24.3)\n",
      "Requirement already satisfied: requests in /Users/saarth/anaconda3/lib/python3.11/site-packages (from garminconnect<0.2.0,>=0.1.48->wearipedia==0.1.2) (2.31.0)\n",
      "Requirement already satisfied: cloudscraper in /Users/saarth/anaconda3/lib/python3.11/site-packages (from garminconnect<0.2.0,>=0.1.48->wearipedia==0.1.2) (1.2.71)\n",
      "Requirement already satisfied: notebook in /Users/saarth/anaconda3/lib/python3.11/site-packages (from jupyter<2.0.0,>=1.0.0->wearipedia==0.1.2) (6.5.4)\n",
      "Requirement already satisfied: qtconsole in /Users/saarth/anaconda3/lib/python3.11/site-packages (from jupyter<2.0.0,>=1.0.0->wearipedia==0.1.2) (5.4.2)\n",
      "Requirement already satisfied: jupyter-console in /Users/saarth/anaconda3/lib/python3.11/site-packages (from jupyter<2.0.0,>=1.0.0->wearipedia==0.1.2) (6.6.3)\n",
      "Requirement already satisfied: nbconvert in /Users/saarth/anaconda3/lib/python3.11/site-packages (from jupyter<2.0.0,>=1.0.0->wearipedia==0.1.2) (6.5.4)\n",
      "Requirement already satisfied: ipykernel in /Users/saarth/anaconda3/lib/python3.11/site-packages (from jupyter<2.0.0,>=1.0.0->wearipedia==0.1.2) (6.25.0)\n",
      "Requirement already satisfied: ipywidgets in /Users/saarth/anaconda3/lib/python3.11/site-packages (from jupyter<2.0.0,>=1.0.0->wearipedia==0.1.2) (7.8.1)\n",
      "Requirement already satisfied: blessed<2.0,>=1.8.5 in /Users/saarth/anaconda3/lib/python3.11/site-packages (from myfitnesspal<3.0.0,>=2.0.1->wearipedia==0.1.2) (1.20.0)\n",
      "Requirement already satisfied: browser-cookie3<1,>=0.16.1 in /Users/saarth/anaconda3/lib/python3.11/site-packages (from myfitnesspal<3.0.0,>=2.0.1->wearipedia==0.1.2) (0.19.1)\n",
      "Requirement already satisfied: lxml<5,>=4.2.5 in /Users/saarth/anaconda3/lib/python3.11/site-packages (from myfitnesspal<3.0.0,>=2.0.1->wearipedia==0.1.2) (4.9.3)\n",
      "Requirement already satisfied: measurement<4.0,>=3.2.0 in /Users/saarth/anaconda3/lib/python3.11/site-packages (from myfitnesspal<3.0.0,>=2.0.1->wearipedia==0.1.2) (3.2.2)\n",
      "Requirement already satisfied: python-dateutil<3,>=2.4 in /Users/saarth/anaconda3/lib/python3.11/site-packages (from myfitnesspal<3.0.0,>=2.0.1->wearipedia==0.1.2) (2.8.2)\n",
      "Requirement already satisfied: pytz>=2020.1 in /Users/saarth/anaconda3/lib/python3.11/site-packages (from pandas<2.0,>=1.1->wearipedia==0.1.2) (2023.3.post1)\n",
      "Requirement already satisfied: commonmark<0.10.0,>=0.9.0 in /Users/saarth/anaconda3/lib/python3.11/site-packages (from rich<13.0.0,>=12.6.0->wearipedia==0.1.2) (0.9.1)\n",
      "Requirement already satisfied: pygments<3.0.0,>=2.6.0 in /Users/saarth/anaconda3/lib/python3.11/site-packages (from rich<13.0.0,>=12.6.0->wearipedia==0.1.2) (2.15.1)\n",
      "Requirement already satisfied: click<9.0.0,>=7.1.1 in /Users/saarth/anaconda3/lib/python3.11/site-packages (from typer<0.7.0,>=0.6.1->typer[all]<0.7.0,>=0.6.1->wearipedia==0.1.2) (8.1.7)\n",
      "Requirement already satisfied: colorama<0.5.0,>=0.4.3 in /Users/saarth/anaconda3/lib/python3.11/site-packages (from typer[all]<0.7.0,>=0.6.1->wearipedia==0.1.2) (0.4.6)\n",
      "Requirement already satisfied: shellingham<2.0.0,>=1.3.0 in /Users/saarth/anaconda3/lib/python3.11/site-packages (from typer[all]<0.7.0,>=0.6.1->wearipedia==0.1.2) (1.5.4)\n",
      "Requirement already satisfied: wcwidth>=0.1.4 in /Users/saarth/anaconda3/lib/python3.11/site-packages (from blessed<2.0,>=1.8.5->myfitnesspal<3.0.0,>=2.0.1->wearipedia==0.1.2) (0.2.5)\n",
      "Requirement already satisfied: six>=1.9.0 in /Users/saarth/anaconda3/lib/python3.11/site-packages (from blessed<2.0,>=1.8.5->myfitnesspal<3.0.0,>=2.0.1->wearipedia==0.1.2) (1.16.0)\n",
      "Requirement already satisfied: lz4 in /Users/saarth/anaconda3/lib/python3.11/site-packages (from browser-cookie3<1,>=0.16.1->myfitnesspal<3.0.0,>=2.0.1->wearipedia==0.1.2) (4.3.2)\n",
      "Requirement already satisfied: pycryptodomex in /Users/saarth/anaconda3/lib/python3.11/site-packages (from browser-cookie3<1,>=0.16.1->myfitnesspal<3.0.0,>=2.0.1->wearipedia==0.1.2) (3.19.0)\n",
      "Requirement already satisfied: sympy in /Users/saarth/anaconda3/lib/python3.11/site-packages (from measurement<4.0,>=3.2.0->myfitnesspal<3.0.0,>=2.0.1->wearipedia==0.1.2) (1.11.1)\n",
      "Requirement already satisfied: charset-normalizer<4,>=2 in /Users/saarth/anaconda3/lib/python3.11/site-packages (from requests->garminconnect<0.2.0,>=0.1.48->wearipedia==0.1.2) (2.0.4)\n",
      "Requirement already satisfied: idna<4,>=2.5 in /Users/saarth/anaconda3/lib/python3.11/site-packages (from requests->garminconnect<0.2.0,>=0.1.48->wearipedia==0.1.2) (3.4)\n",
      "Requirement already satisfied: urllib3<3,>=1.21.1 in /Users/saarth/anaconda3/lib/python3.11/site-packages (from requests->garminconnect<0.2.0,>=0.1.48->wearipedia==0.1.2) (2.0.7)\n",
      "Requirement already satisfied: certifi>=2017.4.17 in /Users/saarth/anaconda3/lib/python3.11/site-packages (from requests->garminconnect<0.2.0,>=0.1.48->wearipedia==0.1.2) (2023.7.22)\n",
      "Requirement already satisfied: pyparsing>=2.4.7 in /Users/saarth/anaconda3/lib/python3.11/site-packages (from cloudscraper->garminconnect<0.2.0,>=0.1.48->wearipedia==0.1.2) (3.0.9)\n",
      "Requirement already satisfied: requests-toolbelt>=0.9.1 in /Users/saarth/anaconda3/lib/python3.11/site-packages (from cloudscraper->garminconnect<0.2.0,>=0.1.48->wearipedia==0.1.2) (1.0.0)\n",
      "Requirement already satisfied: appnope in /Users/saarth/anaconda3/lib/python3.11/site-packages (from ipykernel->jupyter<2.0.0,>=1.0.0->wearipedia==0.1.2) (0.1.2)\n",
      "Requirement already satisfied: comm>=0.1.1 in /Users/saarth/anaconda3/lib/python3.11/site-packages (from ipykernel->jupyter<2.0.0,>=1.0.0->wearipedia==0.1.2) (0.2.0)\n",
      "Requirement already satisfied: debugpy>=1.6.5 in /Users/saarth/anaconda3/lib/python3.11/site-packages (from ipykernel->jupyter<2.0.0,>=1.0.0->wearipedia==0.1.2) (1.6.7)\n",
      "Requirement already satisfied: ipython>=7.23.1 in /Users/saarth/anaconda3/lib/python3.11/site-packages (from ipykernel->jupyter<2.0.0,>=1.0.0->wearipedia==0.1.2) (8.15.0)\n",
      "Requirement already satisfied: jupyter-client>=6.1.12 in /Users/saarth/anaconda3/lib/python3.11/site-packages (from ipykernel->jupyter<2.0.0,>=1.0.0->wearipedia==0.1.2) (8.6.0)\n",
      "Requirement already satisfied: jupyter-core!=5.0.*,>=4.12 in /Users/saarth/anaconda3/lib/python3.11/site-packages (from ipykernel->jupyter<2.0.0,>=1.0.0->wearipedia==0.1.2) (5.3.0)\n",
      "Requirement already satisfied: matplotlib-inline>=0.1 in /Users/saarth/anaconda3/lib/python3.11/site-packages (from ipykernel->jupyter<2.0.0,>=1.0.0->wearipedia==0.1.2) (0.1.6)\n",
      "Requirement already satisfied: nest-asyncio in /Users/saarth/anaconda3/lib/python3.11/site-packages (from ipykernel->jupyter<2.0.0,>=1.0.0->wearipedia==0.1.2) (1.5.6)\n",
      "Requirement already satisfied: packaging in /Users/saarth/anaconda3/lib/python3.11/site-packages (from ipykernel->jupyter<2.0.0,>=1.0.0->wearipedia==0.1.2) (23.1)\n",
      "Requirement already satisfied: psutil in /Users/saarth/anaconda3/lib/python3.11/site-packages (from ipykernel->jupyter<2.0.0,>=1.0.0->wearipedia==0.1.2) (5.9.0)\n",
      "Requirement already satisfied: pyzmq>=20 in /Users/saarth/anaconda3/lib/python3.11/site-packages (from ipykernel->jupyter<2.0.0,>=1.0.0->wearipedia==0.1.2) (23.2.0)\n",
      "Requirement already satisfied: tornado>=6.1 in /Users/saarth/anaconda3/lib/python3.11/site-packages (from ipykernel->jupyter<2.0.0,>=1.0.0->wearipedia==0.1.2) (6.3.2)\n",
      "Requirement already satisfied: traitlets>=5.4.0 in /Users/saarth/anaconda3/lib/python3.11/site-packages (from ipykernel->jupyter<2.0.0,>=1.0.0->wearipedia==0.1.2) (5.7.1)\n",
      "Requirement already satisfied: ipython-genutils~=0.2.0 in /Users/saarth/anaconda3/lib/python3.11/site-packages (from ipywidgets->jupyter<2.0.0,>=1.0.0->wearipedia==0.1.2) (0.2.0)\n",
      "Requirement already satisfied: widgetsnbextension~=3.6.6 in /Users/saarth/anaconda3/lib/python3.11/site-packages (from ipywidgets->jupyter<2.0.0,>=1.0.0->wearipedia==0.1.2) (3.6.6)\n"
     ]
    },
    {
     "name": "stdout",
     "output_type": "stream",
     "text": [
      "Requirement already satisfied: jupyterlab-widgets<3,>=1.0.0 in /Users/saarth/anaconda3/lib/python3.11/site-packages (from ipywidgets->jupyter<2.0.0,>=1.0.0->wearipedia==0.1.2) (1.1.7)\n",
      "Requirement already satisfied: prompt-toolkit>=3.0.30 in /Users/saarth/anaconda3/lib/python3.11/site-packages (from jupyter-console->jupyter<2.0.0,>=1.0.0->wearipedia==0.1.2) (3.0.36)\n",
      "Requirement already satisfied: bleach in /Users/saarth/anaconda3/lib/python3.11/site-packages (from nbconvert->jupyter<2.0.0,>=1.0.0->wearipedia==0.1.2) (4.1.0)\n",
      "Requirement already satisfied: defusedxml in /Users/saarth/anaconda3/lib/python3.11/site-packages (from nbconvert->jupyter<2.0.0,>=1.0.0->wearipedia==0.1.2) (0.7.1)\n",
      "Requirement already satisfied: entrypoints>=0.2.2 in /Users/saarth/anaconda3/lib/python3.11/site-packages (from nbconvert->jupyter<2.0.0,>=1.0.0->wearipedia==0.1.2) (0.4)\n",
      "Requirement already satisfied: jinja2>=3.0 in /Users/saarth/anaconda3/lib/python3.11/site-packages (from nbconvert->jupyter<2.0.0,>=1.0.0->wearipedia==0.1.2) (3.1.3)\n",
      "Requirement already satisfied: jupyterlab-pygments in /Users/saarth/anaconda3/lib/python3.11/site-packages (from nbconvert->jupyter<2.0.0,>=1.0.0->wearipedia==0.1.2) (0.1.2)\n",
      "Requirement already satisfied: MarkupSafe>=2.0 in /Users/saarth/anaconda3/lib/python3.11/site-packages (from nbconvert->jupyter<2.0.0,>=1.0.0->wearipedia==0.1.2) (2.1.1)\n",
      "Requirement already satisfied: mistune<2,>=0.8.1 in /Users/saarth/anaconda3/lib/python3.11/site-packages (from nbconvert->jupyter<2.0.0,>=1.0.0->wearipedia==0.1.2) (0.8.4)\n",
      "Requirement already satisfied: nbclient>=0.5.0 in /Users/saarth/anaconda3/lib/python3.11/site-packages (from nbconvert->jupyter<2.0.0,>=1.0.0->wearipedia==0.1.2) (0.5.13)\n",
      "Requirement already satisfied: nbformat>=5.1 in /Users/saarth/anaconda3/lib/python3.11/site-packages (from nbconvert->jupyter<2.0.0,>=1.0.0->wearipedia==0.1.2) (5.9.2)\n",
      "Requirement already satisfied: pandocfilters>=1.4.1 in /Users/saarth/anaconda3/lib/python3.11/site-packages (from nbconvert->jupyter<2.0.0,>=1.0.0->wearipedia==0.1.2) (1.5.0)\n",
      "Requirement already satisfied: tinycss2 in /Users/saarth/anaconda3/lib/python3.11/site-packages (from nbconvert->jupyter<2.0.0,>=1.0.0->wearipedia==0.1.2) (1.2.1)\n",
      "Requirement already satisfied: argon2-cffi in /Users/saarth/anaconda3/lib/python3.11/site-packages (from notebook->jupyter<2.0.0,>=1.0.0->wearipedia==0.1.2) (21.3.0)\n",
      "Requirement already satisfied: Send2Trash>=1.8.0 in /Users/saarth/anaconda3/lib/python3.11/site-packages (from notebook->jupyter<2.0.0,>=1.0.0->wearipedia==0.1.2) (1.8.0)\n",
      "Requirement already satisfied: terminado>=0.8.3 in /Users/saarth/anaconda3/lib/python3.11/site-packages (from notebook->jupyter<2.0.0,>=1.0.0->wearipedia==0.1.2) (0.17.1)\n",
      "Requirement already satisfied: prometheus-client in /Users/saarth/anaconda3/lib/python3.11/site-packages (from notebook->jupyter<2.0.0,>=1.0.0->wearipedia==0.1.2) (0.14.1)\n",
      "Requirement already satisfied: nbclassic>=0.4.7 in /Users/saarth/anaconda3/lib/python3.11/site-packages (from notebook->jupyter<2.0.0,>=1.0.0->wearipedia==0.1.2) (0.5.5)\n",
      "Requirement already satisfied: qtpy>=2.0.1 in /Users/saarth/anaconda3/lib/python3.11/site-packages (from qtconsole->jupyter<2.0.0,>=1.0.0->wearipedia==0.1.2) (2.2.0)\n",
      "Requirement already satisfied: backcall in /Users/saarth/anaconda3/lib/python3.11/site-packages (from ipython>=7.23.1->ipykernel->jupyter<2.0.0,>=1.0.0->wearipedia==0.1.2) (0.2.0)\n",
      "Requirement already satisfied: decorator in /Users/saarth/anaconda3/lib/python3.11/site-packages (from ipython>=7.23.1->ipykernel->jupyter<2.0.0,>=1.0.0->wearipedia==0.1.2) (5.1.1)\n",
      "Requirement already satisfied: jedi>=0.16 in /Users/saarth/anaconda3/lib/python3.11/site-packages (from ipython>=7.23.1->ipykernel->jupyter<2.0.0,>=1.0.0->wearipedia==0.1.2) (0.18.1)\n",
      "Requirement already satisfied: pickleshare in /Users/saarth/anaconda3/lib/python3.11/site-packages (from ipython>=7.23.1->ipykernel->jupyter<2.0.0,>=1.0.0->wearipedia==0.1.2) (0.7.5)\n",
      "Requirement already satisfied: stack-data in /Users/saarth/anaconda3/lib/python3.11/site-packages (from ipython>=7.23.1->ipykernel->jupyter<2.0.0,>=1.0.0->wearipedia==0.1.2) (0.2.0)\n",
      "Requirement already satisfied: pexpect>4.3 in /Users/saarth/anaconda3/lib/python3.11/site-packages (from ipython>=7.23.1->ipykernel->jupyter<2.0.0,>=1.0.0->wearipedia==0.1.2) (4.8.0)\n",
      "Requirement already satisfied: platformdirs>=2.5 in /Users/saarth/anaconda3/lib/python3.11/site-packages (from jupyter-core!=5.0.*,>=4.12->ipykernel->jupyter<2.0.0,>=1.0.0->wearipedia==0.1.2) (3.10.0)\n",
      "Requirement already satisfied: jupyter-server>=1.8 in /Users/saarth/anaconda3/lib/python3.11/site-packages (from nbclassic>=0.4.7->notebook->jupyter<2.0.0,>=1.0.0->wearipedia==0.1.2) (1.23.4)\n",
      "Requirement already satisfied: notebook-shim>=0.1.0 in /Users/saarth/anaconda3/lib/python3.11/site-packages (from nbclassic>=0.4.7->notebook->jupyter<2.0.0,>=1.0.0->wearipedia==0.1.2) (0.2.2)\n",
      "Requirement already satisfied: fastjsonschema in /Users/saarth/anaconda3/lib/python3.11/site-packages (from nbformat>=5.1->nbconvert->jupyter<2.0.0,>=1.0.0->wearipedia==0.1.2) (2.16.2)\n",
      "Requirement already satisfied: jsonschema>=2.6 in /Users/saarth/anaconda3/lib/python3.11/site-packages (from nbformat>=5.1->nbconvert->jupyter<2.0.0,>=1.0.0->wearipedia==0.1.2) (4.17.3)\n",
      "Requirement already satisfied: ptyprocess in /Users/saarth/anaconda3/lib/python3.11/site-packages (from terminado>=0.8.3->notebook->jupyter<2.0.0,>=1.0.0->wearipedia==0.1.2) (0.7.0)\n",
      "Requirement already satisfied: argon2-cffi-bindings in /Users/saarth/anaconda3/lib/python3.11/site-packages (from argon2-cffi->notebook->jupyter<2.0.0,>=1.0.0->wearipedia==0.1.2) (21.2.0)\n",
      "Requirement already satisfied: webencodings in /Users/saarth/anaconda3/lib/python3.11/site-packages (from bleach->nbconvert->jupyter<2.0.0,>=1.0.0->wearipedia==0.1.2) (0.5.1)\n",
      "Requirement already satisfied: mpmath>=0.19 in /Users/saarth/anaconda3/lib/python3.11/site-packages (from sympy->measurement<4.0,>=3.2.0->myfitnesspal<3.0.0,>=2.0.1->wearipedia==0.1.2) (1.3.0)\n",
      "Requirement already satisfied: parso<0.9.0,>=0.8.0 in /Users/saarth/anaconda3/lib/python3.11/site-packages (from jedi>=0.16->ipython>=7.23.1->ipykernel->jupyter<2.0.0,>=1.0.0->wearipedia==0.1.2) (0.8.3)\n",
      "Requirement already satisfied: attrs>=17.4.0 in /Users/saarth/anaconda3/lib/python3.11/site-packages (from jsonschema>=2.6->nbformat>=5.1->nbconvert->jupyter<2.0.0,>=1.0.0->wearipedia==0.1.2) (22.1.0)\n",
      "Requirement already satisfied: pyrsistent!=0.17.0,!=0.17.1,!=0.17.2,>=0.14.0 in /Users/saarth/anaconda3/lib/python3.11/site-packages (from jsonschema>=2.6->nbformat>=5.1->nbconvert->jupyter<2.0.0,>=1.0.0->wearipedia==0.1.2) (0.18.0)\n",
      "Requirement already satisfied: anyio<4,>=3.1.0 in /Users/saarth/anaconda3/lib/python3.11/site-packages (from jupyter-server>=1.8->nbclassic>=0.4.7->notebook->jupyter<2.0.0,>=1.0.0->wearipedia==0.1.2) (3.5.0)\n",
      "Requirement already satisfied: websocket-client in /Users/saarth/anaconda3/lib/python3.11/site-packages (from jupyter-server>=1.8->nbclassic>=0.4.7->notebook->jupyter<2.0.0,>=1.0.0->wearipedia==0.1.2) (0.58.0)\n",
      "Requirement already satisfied: cffi>=1.0.1 in /Users/saarth/anaconda3/lib/python3.11/site-packages (from argon2-cffi-bindings->argon2-cffi->notebook->jupyter<2.0.0,>=1.0.0->wearipedia==0.1.2) (1.15.1)\n",
      "Requirement already satisfied: executing in /Users/saarth/anaconda3/lib/python3.11/site-packages (from stack-data->ipython>=7.23.1->ipykernel->jupyter<2.0.0,>=1.0.0->wearipedia==0.1.2) (0.8.3)\n",
      "Requirement already satisfied: asttokens in /Users/saarth/anaconda3/lib/python3.11/site-packages (from stack-data->ipython>=7.23.1->ipykernel->jupyter<2.0.0,>=1.0.0->wearipedia==0.1.2) (2.0.5)\n",
      "Requirement already satisfied: pure-eval in /Users/saarth/anaconda3/lib/python3.11/site-packages (from stack-data->ipython>=7.23.1->ipykernel->jupyter<2.0.0,>=1.0.0->wearipedia==0.1.2) (0.2.2)\n",
      "Requirement already satisfied: sniffio>=1.1 in /Users/saarth/anaconda3/lib/python3.11/site-packages (from anyio<4,>=3.1.0->jupyter-server>=1.8->nbclassic>=0.4.7->notebook->jupyter<2.0.0,>=1.0.0->wearipedia==0.1.2) (1.3.0)\n",
      "Requirement already satisfied: pycparser in /Users/saarth/anaconda3/lib/python3.11/site-packages (from cffi>=1.0.1->argon2-cffi-bindings->argon2-cffi->notebook->jupyter<2.0.0,>=1.0.0->wearipedia==0.1.2) (2.21)\n"
     ]
    },
    {
     "name": "stdout",
     "output_type": "stream",
     "text": [
      "Note: you may need to restart the kernel to use updated packages.\n"
     ]
    }
   ],
   "source": [
    "pip install git+https://github.com/Stanford-Health/wearipedia"
   ]
  },
  {
   "cell_type": "markdown",
   "metadata": {
    "id": "HPbhfm8BemdN"
   },
   "source": [
    "# Cronometer: Guide to data extraction and analysis"
   ]
  },
  {
   "cell_type": "markdown",
   "metadata": {
    "id": "NXqYLOxNeoX_"
   },
   "source": [
    "<img src='https://imgur.com/i6lFwtY.png' height=\"500\"> "
   ]
  },
  {
   "cell_type": "markdown",
   "metadata": {
    "id": "-0QR03kueqpK"
   },
   "source": [
    "A picture of the Cronometer Mobile Application\n",
    "\n"
   ]
  },
  {
   "cell_type": "markdown",
   "metadata": {
    "id": "2ZZHXApgesVP"
   },
   "source": [
    "Do you know that DIET stands for Did I Eat That? <br> <br>\n",
    "Jokes aside, in this notebook we will be doing just that. We will connect to the Cronometer API to analyze the participants nutritional and exercise habits."
   ]
  },
  {
   "cell_type": "markdown",
   "metadata": {
    "id": "tBNVIh27et3L"
   },
   "source": [
    "Cronometer is often regarded as the “[best nutrition app for Android and iOS](https://www.makeuseof.com/cronometer-health-app-android-ios/).” It lets you track your meals, count calories, identify gaps in your diet, and check your health metrics. It is also compatible with popular fitness devices like Fitbit, Strava, Withings, Garmin, Polar, Qardio and Oura. <br>\n",
    "\n",
    "Cronometer follows a fremium model offering a digital service accessible through its mobile applications (iOS and Android). Users also have an option to upgrade and unlock more advanced features like Custom Goals, Training Plans, Race Analysis, etc for a monthly fee of $8.99. <br>\n",
    "\n",
    "We've been using the cronometer application for the past few weeks and we will show you how to extract its data, visualize the participants data and compute correlations between multiple metrics. Cronometer does not have a public API, so we would reversed engineered the cornometer api within wearipedia in order to extract servings, daily-nutrition, exercises, notes, and biometrics. <br>\n",
    "\n"
   ]
  },
  {
   "cell_type": "markdown",
   "metadata": {
    "id": "bnb9q2Qiev_f"
   },
   "source": [
    "We will be able to extract the following parameters:\n",
    "\n",
    "Parameter Name  | Sampling Frequency \n",
    "-------------------|-----------------\n",
    "<b>Body Measurements</b> |  Per Entry \n",
    "Blood Pressure |   Per Entry / Day \n",
    "<b>Heart Rate</b> |  Per Entry / Day\n",
    "Oxygen Saturation |  Per Entry / Day \n",
    "VO2 Max |  Per Entry / Day\n",
    "Pulse Wave Velocity |  Per Entry / Day\n",
    "Labs/ Test Results |  Per Entry / Day\n",
    "Mood |  Per Entry / Day\n",
    "Sleep |  Per Entry / Day\n",
    "<b>Food Nutrition Breakdown</b> |  Per Serving\n",
    "<b>Exercise Minutes</b>  |  Per Exercise Entry\n",
    "<b>Exercise Calories Burned</b>  |  Per Exercise Entry\n",
    "<b>Daily Nutrition Breakdown</b> |  Per Day"
   ]
  },
  {
   "cell_type": "markdown",
   "metadata": {
    "id": "tAzDNzYjeyY4"
   },
   "source": [
    "In this guide, we sequentially cover the following **nine** topics to extract data from Cronometer servers:\n",
    "\n",
    "1. **Setup**<br>\n",
    "2. **Authentication and Authorization**<br>\n",
    "   - Requires only username and password, no OAuth.<br>\n",
    "3. **Data Extraction**<br>\n",
    "  - We get data via wearipedia in a couple lines of code<br>\n",
    "4. **Data Exporting**\n",
    "    - We export all of this data to file formats compatible by R, Excel, and MatLab.\n",
    "5. **Adherence**\n",
    "    - We simulate non-adherence by dynamically removing datapoints from our simulated data.\n",
    "6. **Visualization**\n",
    "    - We create a simple plot to visualize our data.\n",
    "7. **Advanced visualization**\n",
    "    - 7.1 Plotting the participants weight! <br>\n",
    "    - 7.2 Plotting participants Workout Minutes! <br>\n",
    "    - 7.3 Calorie Consumption Breakdown! <br>\n",
    "8. **Data Analysis** <br>\n",
    "  - 8.1  Analyzing correlation between Protein Content and Vitamin B content in food items! <br>\n",
    "9. **Outlier Detection** <br>\n",
    "  - 9.1 Highlighting Outliers!\n",
    "\n",
    "Disclaimer: this notebook is purely for educational purposes. All of the data currently stored in this notebook is purely *synthetic*, meaning randomly generated according to rules we created. Despite this, the end-to-end data extraction pipeline has been tested on our own data, meaning that if you enter your own email and password on your own Colab instance, you can visualize your own *real* data. That being said, we were unable to thoroughly test the timezone functionality, though, since we only have one account, so beware."
   ]
  },
  {
   "cell_type": "markdown",
   "metadata": {
    "id": "NilGl0FGe0gr"
   },
   "source": [
    "# 1. Setup\n",
    "\n",
    "## Participant Setup\n",
    "\n",
    "Dear Participant,\n",
    "\n",
    "Once you download the cronometer app, please set it up by following these resources:\n",
    "- Written guide: https://support.cronometer.com/hc/en-us/articles/360021677792-Mobile-Quick-Start-Guide\n",
    "- Video guide: https://www.youtube.com/watch?v=XyeXp_wo0to&ab_channel=Cronometer\n",
    "\n",
    "Make sure that your phone is logged to the cronometer app using the Cronometer login credentials (email and password) given to you by the data receiver.\n",
    "\n",
    "Best,\n",
    "\n",
    "Wearipedia\n",
    "\n",
    "## Data Receiver Setup\n",
    "\n",
    "Please follow the below steps:\n",
    "\n",
    "1. Create an email address for the participant, for example `foo@email.com`.\n",
    "2. Create a Cronometer account with the email `foo@email.com` and some random password.\n",
    "3. Keep `foo@email.com` and password stored somewhere safe.\n",
    "4. Request the participant to download the app and instruct them to follow the participant setup letter above.\n",
    "5. Install the `wearipedia` Python package to easily extract data from this app via the Cronometer API.\n"
   ]
  },
  {
   "cell_type": "code",
   "execution_count": 8,
   "metadata": {
    "colab": {
     "base_uri": "https://localhost:8080/"
    },
    "id": "JTwt3g0SeiiN",
    "outputId": "65f6683e-9dcb-40f8-e4e2-e9afa6bdf353"
   },
   "outputs": [
    {
     "name": "stdout",
     "output_type": "stream",
     "text": [
      "Requirement already satisfied: openpyxl in /Users/saarth/anaconda3/lib/python3.11/site-packages (3.0.10)\n",
      "Requirement already satisfied: et_xmlfile in /Users/saarth/anaconda3/lib/python3.11/site-packages (from openpyxl) (1.1.0)\n",
      "Found existing installation: seaborn 0.11.1\n",
      "Uninstalling seaborn-0.11.1:\n",
      "  Successfully uninstalled seaborn-0.11.1\n",
      "Collecting seaborn==0.11.1\n",
      "  Using cached seaborn-0.11.1-py3-none-any.whl (285 kB)\n",
      "Requirement already satisfied: numpy>=1.15 in /Users/saarth/anaconda3/lib/python3.11/site-packages (from seaborn==0.11.1) (1.24.3)\n",
      "Requirement already satisfied: scipy>=1.0 in /Users/saarth/anaconda3/lib/python3.11/site-packages (from seaborn==0.11.1) (1.11.1)\n",
      "Requirement already satisfied: pandas>=0.23 in /Users/saarth/anaconda3/lib/python3.11/site-packages (from seaborn==0.11.1) (1.5.3)\n",
      "Requirement already satisfied: matplotlib>=2.2 in /Users/saarth/anaconda3/lib/python3.11/site-packages (from seaborn==0.11.1) (3.7.2)\n",
      "Requirement already satisfied: contourpy>=1.0.1 in /Users/saarth/anaconda3/lib/python3.11/site-packages (from matplotlib>=2.2->seaborn==0.11.1) (1.0.5)\n",
      "Requirement already satisfied: cycler>=0.10 in /Users/saarth/anaconda3/lib/python3.11/site-packages (from matplotlib>=2.2->seaborn==0.11.1) (0.11.0)\n",
      "Requirement already satisfied: fonttools>=4.22.0 in /Users/saarth/anaconda3/lib/python3.11/site-packages (from matplotlib>=2.2->seaborn==0.11.1) (4.25.0)\n",
      "Requirement already satisfied: kiwisolver>=1.0.1 in /Users/saarth/anaconda3/lib/python3.11/site-packages (from matplotlib>=2.2->seaborn==0.11.1) (1.4.4)\n",
      "Requirement already satisfied: packaging>=20.0 in /Users/saarth/anaconda3/lib/python3.11/site-packages (from matplotlib>=2.2->seaborn==0.11.1) (23.1)\n",
      "Requirement already satisfied: pillow>=6.2.0 in /Users/saarth/anaconda3/lib/python3.11/site-packages (from matplotlib>=2.2->seaborn==0.11.1) (9.4.0)\n",
      "Requirement already satisfied: pyparsing<3.1,>=2.3.1 in /Users/saarth/anaconda3/lib/python3.11/site-packages (from matplotlib>=2.2->seaborn==0.11.1) (3.0.9)\n",
      "Requirement already satisfied: python-dateutil>=2.7 in /Users/saarth/anaconda3/lib/python3.11/site-packages (from matplotlib>=2.2->seaborn==0.11.1) (2.8.2)\n",
      "Requirement already satisfied: pytz>=2020.1 in /Users/saarth/anaconda3/lib/python3.11/site-packages (from pandas>=0.23->seaborn==0.11.1) (2023.3.post1)\n",
      "Requirement already satisfied: six>=1.5 in /Users/saarth/anaconda3/lib/python3.11/site-packages (from python-dateutil>=2.7->matplotlib>=2.2->seaborn==0.11.1) (1.16.0)\n",
      "Installing collected packages: seaborn\n",
      "Successfully installed seaborn-0.11.1\n"
     ]
    }
   ],
   "source": [
    "# !pip install wearipedia\n",
    "!pip install openpyxl\n",
    "!pip uninstall -y seaborn\n",
    "!pip install seaborn==0.11.1"
   ]
  },
  {
   "cell_type": "code",
   "execution_count": 9,
   "metadata": {},
   "outputs": [],
   "source": [
    "import os\n",
    "import pandas as pd\n",
    "import wearipedia\n",
    "import matplotlib.pyplot as plt\n",
    "import datetime\n",
    "from scipy import stats\n",
    "from sklearn.covariance import EllipticEnvelope\n",
    "import copy\n",
    "import seaborn as sns\n",
    "from matplotlib import font_manager as fm\n",
    "from matplotlib import lines as mlines\n",
    "from scipy.ndimage import gaussian_filter\n",
    "import matplotlib.dates as mdates\n",
    "import matplotlib.pyplot as plt\n",
    "from datetime import datetime, timedelta\n",
    "import numpy as np\n",
    "import json\n",
    "\n"
   ]
  },
  {
   "cell_type": "markdown",
   "metadata": {
    "id": "CCzIx1k1e6Qh"
   },
   "source": [
    "# 2. Authentication and Authorization\n",
    "\n",
    "To obtain access to data, authorization is required. All you'll need to do here is just put in your email and password for your Cronometer account. We'll use this username and password to extract the data in the sections below."
   ]
  },
  {
   "cell_type": "code",
   "execution_count": 10,
   "metadata": {
    "id": "INRAosqYe2yZ"
   },
   "outputs": [],
   "source": [
    "#@title Enter Cronometer login credentials\n",
    "email_address = \"xxxxxxx@gmail.com\" #@param {type:\"string\"}\n",
    "password = \"........#\" #@param {type:\"string\"}"
   ]
  },
  {
   "cell_type": "markdown",
   "metadata": {
    "id": "ZWVelqzHe-L2"
   },
   "source": [
    "# 3. Data Extraction\n",
    "\n",
    "Data can be extracted via [wearipedia](https://github.com/Stanford-Health/wearipedia/), our open-source Python package that unifies dozens of complex wearable device APIs into one simple, common interface.\n",
    "\n",
    "First, we'll set a date range and then extract all of the data within that date range. You can select whether you would like synthetic data or not with the checkbox."
   ]
  },
  {
   "cell_type": "code",
   "execution_count": 11,
   "metadata": {
    "id": "imNqkTSpe8GP"
   },
   "outputs": [],
   "source": [
    "#@title Enter start and end dates (in the format yyyy-mm-dd)\n",
    "\n",
    "#set start and end dates - this will give you all the data from 2000-01-01 (January 1st, 2000) to 2100-02-03 (February 3rd, 2100), for example\n",
    "start_date='2022-03-01' #@param {type:\"string\"}\n",
    "end_date='2022-09-17' #@param {type:\"string\"}\n",
    "synthetic = True #@param {type:\"boolean\"}"
   ]
  },
  {
   "cell_type": "code",
   "execution_count": 12,
   "metadata": {
    "id": "H-pWdzEzfAbN"
   },
   "outputs": [],
   "source": [
    "device = wearipedia.get_device(\"cronometer/cronometer\")\n",
    "\n",
    "if not synthetic:\n",
    "    device.authenticate({\"username\": email_address, \"password\": password})\n",
    "\n",
    "params = {\"start_date\": start_date, \"end_date\": end_date}"
   ]
  },
  {
   "cell_type": "markdown",
   "metadata": {},
   "source": [
    "We will first extract the daily summary of energy (calories) consumed in a day, as well as the consumption of different nutrients per day, such as vitamins, minerals, proteins, and carbohydrates."
   ]
  },
  {
   "cell_type": "code",
   "execution_count": 13,
   "metadata": {},
   "outputs": [
    {
     "data": {
      "text/html": [
       "<div>\n",
       "<style scoped>\n",
       "    .dataframe tbody tr th:only-of-type {\n",
       "        vertical-align: middle;\n",
       "    }\n",
       "\n",
       "    .dataframe tbody tr th {\n",
       "        vertical-align: top;\n",
       "    }\n",
       "\n",
       "    .dataframe thead th {\n",
       "        text-align: right;\n",
       "    }\n",
       "</style>\n",
       "<table border=\"1\" class=\"dataframe\">\n",
       "  <thead>\n",
       "    <tr style=\"text-align: right;\">\n",
       "      <th></th>\n",
       "      <th>Day</th>\n",
       "      <th>Energy (kcal)</th>\n",
       "      <th>Alcohol (g)</th>\n",
       "      <th>Caffeine (mg)</th>\n",
       "      <th>Water (g)</th>\n",
       "      <th>B1 (Thiamine) (mg)</th>\n",
       "      <th>B2 (Riboflavin) (mg)</th>\n",
       "      <th>B3 (Niacin) (mg)</th>\n",
       "      <th>B5 (Pantothenic Acid) (mg)</th>\n",
       "      <th>B6 (Pyridoxine) (mg)</th>\n",
       "      <th>...</th>\n",
       "      <th>Leucine (g)</th>\n",
       "      <th>Lysine (g)</th>\n",
       "      <th>Phenylalanine (g)</th>\n",
       "      <th>Protein (g)</th>\n",
       "      <th>Threonine (g)</th>\n",
       "      <th>Tryptophan (g)</th>\n",
       "      <th>Tyrosine (g)</th>\n",
       "      <th>Valine (g)</th>\n",
       "      <th>Methionine (g)</th>\n",
       "      <th>Completed</th>\n",
       "    </tr>\n",
       "  </thead>\n",
       "  <tbody>\n",
       "    <tr>\n",
       "      <th>0</th>\n",
       "      <td>2022-03-01</td>\n",
       "      <td>2895.26</td>\n",
       "      <td>0.60</td>\n",
       "      <td>333.38</td>\n",
       "      <td>3682.55</td>\n",
       "      <td>1.18</td>\n",
       "      <td>1.28</td>\n",
       "      <td>13.90</td>\n",
       "      <td>3.58</td>\n",
       "      <td>1.61</td>\n",
       "      <td>...</td>\n",
       "      <td>2.46</td>\n",
       "      <td>75.11</td>\n",
       "      <td>53.44</td>\n",
       "      <td>57.02</td>\n",
       "      <td>35.37</td>\n",
       "      <td>22.70</td>\n",
       "      <td>509.31</td>\n",
       "      <td>42.32</td>\n",
       "      <td>501.49</td>\n",
       "      <td>True</td>\n",
       "    </tr>\n",
       "    <tr>\n",
       "      <th>1</th>\n",
       "      <td>2022-03-02</td>\n",
       "      <td>3229.87</td>\n",
       "      <td>4.11</td>\n",
       "      <td>69.99</td>\n",
       "      <td>1132.89</td>\n",
       "      <td>1.29</td>\n",
       "      <td>1.30</td>\n",
       "      <td>16.18</td>\n",
       "      <td>4.41</td>\n",
       "      <td>1.69</td>\n",
       "      <td>...</td>\n",
       "      <td>2.59</td>\n",
       "      <td>82.46</td>\n",
       "      <td>54.52</td>\n",
       "      <td>2.86</td>\n",
       "      <td>38.67</td>\n",
       "      <td>15.91</td>\n",
       "      <td>522.66</td>\n",
       "      <td>46.50</td>\n",
       "      <td>498.23</td>\n",
       "      <td>True</td>\n",
       "    </tr>\n",
       "    <tr>\n",
       "      <th>2</th>\n",
       "      <td>2022-03-03</td>\n",
       "      <td>2524.79</td>\n",
       "      <td>5.80</td>\n",
       "      <td>393.77</td>\n",
       "      <td>3425.90</td>\n",
       "      <td>1.19</td>\n",
       "      <td>1.23</td>\n",
       "      <td>15.96</td>\n",
       "      <td>6.05</td>\n",
       "      <td>1.69</td>\n",
       "      <td>...</td>\n",
       "      <td>2.53</td>\n",
       "      <td>70.45</td>\n",
       "      <td>47.17</td>\n",
       "      <td>331.40</td>\n",
       "      <td>49.00</td>\n",
       "      <td>12.11</td>\n",
       "      <td>522.87</td>\n",
       "      <td>49.06</td>\n",
       "      <td>501.25</td>\n",
       "      <td>False</td>\n",
       "    </tr>\n",
       "    <tr>\n",
       "      <th>3</th>\n",
       "      <td>2022-03-04</td>\n",
       "      <td>1554.14</td>\n",
       "      <td>7.31</td>\n",
       "      <td>383.48</td>\n",
       "      <td>1039.07</td>\n",
       "      <td>1.19</td>\n",
       "      <td>1.25</td>\n",
       "      <td>14.49</td>\n",
       "      <td>5.62</td>\n",
       "      <td>1.70</td>\n",
       "      <td>...</td>\n",
       "      <td>2.49</td>\n",
       "      <td>82.50</td>\n",
       "      <td>52.42</td>\n",
       "      <td>115.05</td>\n",
       "      <td>46.91</td>\n",
       "      <td>15.67</td>\n",
       "      <td>479.65</td>\n",
       "      <td>45.05</td>\n",
       "      <td>501.52</td>\n",
       "      <td>False</td>\n",
       "    </tr>\n",
       "    <tr>\n",
       "      <th>4</th>\n",
       "      <td>2022-03-05</td>\n",
       "      <td>1797.66</td>\n",
       "      <td>1.32</td>\n",
       "      <td>353.96</td>\n",
       "      <td>3836.29</td>\n",
       "      <td>1.28</td>\n",
       "      <td>1.35</td>\n",
       "      <td>19.67</td>\n",
       "      <td>4.51</td>\n",
       "      <td>1.66</td>\n",
       "      <td>...</td>\n",
       "      <td>2.47</td>\n",
       "      <td>79.49</td>\n",
       "      <td>56.68</td>\n",
       "      <td>176.53</td>\n",
       "      <td>37.50</td>\n",
       "      <td>24.47</td>\n",
       "      <td>494.98</td>\n",
       "      <td>42.41</td>\n",
       "      <td>500.25</td>\n",
       "      <td>False</td>\n",
       "    </tr>\n",
       "  </tbody>\n",
       "</table>\n",
       "<p>5 rows × 53 columns</p>\n",
       "</div>"
      ],
      "text/plain": [
       "          Day  Energy (kcal)  Alcohol (g)  Caffeine (mg)  Water (g)  \\\n",
       "0  2022-03-01        2895.26         0.60         333.38    3682.55   \n",
       "1  2022-03-02        3229.87         4.11          69.99    1132.89   \n",
       "2  2022-03-03        2524.79         5.80         393.77    3425.90   \n",
       "3  2022-03-04        1554.14         7.31         383.48    1039.07   \n",
       "4  2022-03-05        1797.66         1.32         353.96    3836.29   \n",
       "\n",
       "   B1 (Thiamine) (mg)  B2 (Riboflavin) (mg)  B3 (Niacin) (mg)  \\\n",
       "0                1.18                  1.28             13.90   \n",
       "1                1.29                  1.30             16.18   \n",
       "2                1.19                  1.23             15.96   \n",
       "3                1.19                  1.25             14.49   \n",
       "4                1.28                  1.35             19.67   \n",
       "\n",
       "   B5 (Pantothenic Acid) (mg)  B6 (Pyridoxine) (mg)  ...  Leucine (g)  \\\n",
       "0                        3.58                  1.61  ...         2.46   \n",
       "1                        4.41                  1.69  ...         2.59   \n",
       "2                        6.05                  1.69  ...         2.53   \n",
       "3                        5.62                  1.70  ...         2.49   \n",
       "4                        4.51                  1.66  ...         2.47   \n",
       "\n",
       "   Lysine (g)  Phenylalanine (g)  Protein (g)  Threonine (g)  Tryptophan (g)  \\\n",
       "0       75.11              53.44        57.02          35.37           22.70   \n",
       "1       82.46              54.52         2.86          38.67           15.91   \n",
       "2       70.45              47.17       331.40          49.00           12.11   \n",
       "3       82.50              52.42       115.05          46.91           15.67   \n",
       "4       79.49              56.68       176.53          37.50           24.47   \n",
       "\n",
       "   Tyrosine (g)  Valine (g)  Methionine (g)  Completed  \n",
       "0        509.31       42.32          501.49       True  \n",
       "1        522.66       46.50          498.23       True  \n",
       "2        522.87       49.06          501.25      False  \n",
       "3        479.65       45.05          501.52      False  \n",
       "4        494.98       42.41          500.25      False  \n",
       "\n",
       "[5 rows x 53 columns]"
      ]
     },
     "execution_count": 13,
     "metadata": {},
     "output_type": "execute_result"
    }
   ],
   "source": [
    "dailySummary = device.get_data(\"dailySummary\", params=params)\n",
    "pd.DataFrame(dailySummary).head()"
   ]
  },
  {
   "cell_type": "markdown",
   "metadata": {},
   "source": [
    "We will first extract the nutrient summary of energy (calories) consumed per meal serving, as well as the consumption of different nutrients per day, such as vitamins, minerals, proteins, and carbohydrates."
   ]
  },
  {
   "cell_type": "code",
   "execution_count": 14,
   "metadata": {},
   "outputs": [
    {
     "data": {
      "text/html": [
       "<div>\n",
       "<style scoped>\n",
       "    .dataframe tbody tr th:only-of-type {\n",
       "        vertical-align: middle;\n",
       "    }\n",
       "\n",
       "    .dataframe tbody tr th {\n",
       "        vertical-align: top;\n",
       "    }\n",
       "\n",
       "    .dataframe thead th {\n",
       "        text-align: right;\n",
       "    }\n",
       "</style>\n",
       "<table border=\"1\" class=\"dataframe\">\n",
       "  <thead>\n",
       "    <tr style=\"text-align: right;\">\n",
       "      <th></th>\n",
       "      <th>Day</th>\n",
       "      <th>Food Name</th>\n",
       "      <th>Amount</th>\n",
       "      <th>Energy (kcal)</th>\n",
       "      <th>Alcohol (g)</th>\n",
       "      <th>Caffeine (mg)</th>\n",
       "      <th>Water (g)</th>\n",
       "      <th>B1 (Thiamine) (mg)</th>\n",
       "      <th>B2 (Riboflavin) (mg)</th>\n",
       "      <th>B3 (Niacin) (mg)</th>\n",
       "      <th>...</th>\n",
       "      <th>Leucine (g)</th>\n",
       "      <th>Lysine (g)</th>\n",
       "      <th>Methionine (g)</th>\n",
       "      <th>Phenylalanine (g)</th>\n",
       "      <th>Protein (g)</th>\n",
       "      <th>Threonine (g)</th>\n",
       "      <th>Tryptophan (g)</th>\n",
       "      <th>Tyrosine (g)</th>\n",
       "      <th>Valine (g)</th>\n",
       "      <th>Category</th>\n",
       "    </tr>\n",
       "  </thead>\n",
       "  <tbody>\n",
       "    <tr>\n",
       "      <th>0</th>\n",
       "      <td>2022-03-01</td>\n",
       "      <td>Chipotle, Black Beans</td>\n",
       "      <td>1.00 cup, whole pieces</td>\n",
       "      <td>196.16</td>\n",
       "      <td>0.0</td>\n",
       "      <td>0.0</td>\n",
       "      <td>122.04</td>\n",
       "      <td>0.34</td>\n",
       "      <td>0.09</td>\n",
       "      <td>0.79</td>\n",
       "      <td>...</td>\n",
       "      <td>0.94</td>\n",
       "      <td>0.81</td>\n",
       "      <td>0.18</td>\n",
       "      <td>0.64</td>\n",
       "      <td>11.95</td>\n",
       "      <td>0.50</td>\n",
       "      <td>0.14</td>\n",
       "      <td>0.34</td>\n",
       "      <td>0.62</td>\n",
       "      <td>Fast Foods</td>\n",
       "    </tr>\n",
       "    <tr>\n",
       "      <th>1</th>\n",
       "      <td>2022-03-02</td>\n",
       "      <td>Yam, Cooked, Boiled, Drained, or Baked, with Salt</td>\n",
       "      <td>300.00 g</td>\n",
       "      <td>342.00</td>\n",
       "      <td>NaN</td>\n",
       "      <td>NaN</td>\n",
       "      <td>210.39</td>\n",
       "      <td>0.28</td>\n",
       "      <td>0.08</td>\n",
       "      <td>1.66</td>\n",
       "      <td>...</td>\n",
       "      <td>0.28</td>\n",
       "      <td>0.17</td>\n",
       "      <td>0.06</td>\n",
       "      <td>0.21</td>\n",
       "      <td>4.47</td>\n",
       "      <td>0.16</td>\n",
       "      <td>0.04</td>\n",
       "      <td>0.12</td>\n",
       "      <td>0.18</td>\n",
       "      <td>Vegetables and Vegetable Products</td>\n",
       "    </tr>\n",
       "    <tr>\n",
       "      <th>2</th>\n",
       "      <td>2022-03-03</td>\n",
       "      <td>Lasagna, Homemade, Beef</td>\n",
       "      <td>100.00 g</td>\n",
       "      <td>160.89</td>\n",
       "      <td>0.0</td>\n",
       "      <td>0.0</td>\n",
       "      <td>81.24</td>\n",
       "      <td>0.21</td>\n",
       "      <td>0.17</td>\n",
       "      <td>1.42</td>\n",
       "      <td>...</td>\n",
       "      <td>0.89</td>\n",
       "      <td>0.74</td>\n",
       "      <td>0.23</td>\n",
       "      <td>0.48</td>\n",
       "      <td>10.55</td>\n",
       "      <td>0.45</td>\n",
       "      <td>0.15</td>\n",
       "      <td>0.41</td>\n",
       "      <td>0.56</td>\n",
       "      <td>Meals, Entrees, and Sidedishes</td>\n",
       "    </tr>\n",
       "    <tr>\n",
       "      <th>3</th>\n",
       "      <td>2022-03-04</td>\n",
       "      <td>Sausage, Pork, Fresh</td>\n",
       "      <td>3.00 medium link - breakfast size</td>\n",
       "      <td>195.00</td>\n",
       "      <td>0.0</td>\n",
       "      <td>0.0</td>\n",
       "      <td>29.93</td>\n",
       "      <td>0.15</td>\n",
       "      <td>0.11</td>\n",
       "      <td>3.67</td>\n",
       "      <td>...</td>\n",
       "      <td>0.82</td>\n",
       "      <td>0.74</td>\n",
       "      <td>0.26</td>\n",
       "      <td>0.40</td>\n",
       "      <td>11.12</td>\n",
       "      <td>0.37</td>\n",
       "      <td>0.11</td>\n",
       "      <td>0.31</td>\n",
       "      <td>0.53</td>\n",
       "      <td>Sausages and Luncheon Meats</td>\n",
       "    </tr>\n",
       "    <tr>\n",
       "      <th>4</th>\n",
       "      <td>2022-03-05</td>\n",
       "      <td>Whole Wheat Bread, Store Bought</td>\n",
       "      <td>2.00 medium slice</td>\n",
       "      <td>181.44</td>\n",
       "      <td>0.0</td>\n",
       "      <td>0.0</td>\n",
       "      <td>28.09</td>\n",
       "      <td>0.28</td>\n",
       "      <td>0.12</td>\n",
       "      <td>3.20</td>\n",
       "      <td>...</td>\n",
       "      <td>0.29</td>\n",
       "      <td>0.12</td>\n",
       "      <td>0.07</td>\n",
       "      <td>0.20</td>\n",
       "      <td>8.96</td>\n",
       "      <td>0.12</td>\n",
       "      <td>0.07</td>\n",
       "      <td>0.13</td>\n",
       "      <td>0.20</td>\n",
       "      <td>Baked Products</td>\n",
       "    </tr>\n",
       "  </tbody>\n",
       "</table>\n",
       "<p>5 rows × 55 columns</p>\n",
       "</div>"
      ],
      "text/plain": [
       "          Day                                          Food Name  \\\n",
       "0  2022-03-01                              Chipotle, Black Beans   \n",
       "1  2022-03-02  Yam, Cooked, Boiled, Drained, or Baked, with Salt   \n",
       "2  2022-03-03                            Lasagna, Homemade, Beef   \n",
       "3  2022-03-04                               Sausage, Pork, Fresh   \n",
       "4  2022-03-05                    Whole Wheat Bread, Store Bought   \n",
       "\n",
       "                              Amount  Energy (kcal)  Alcohol (g)  \\\n",
       "0             1.00 cup, whole pieces         196.16          0.0   \n",
       "1                           300.00 g         342.00          NaN   \n",
       "2                           100.00 g         160.89          0.0   \n",
       "3  3.00 medium link - breakfast size         195.00          0.0   \n",
       "4                  2.00 medium slice         181.44          0.0   \n",
       "\n",
       "   Caffeine (mg)  Water (g)  B1 (Thiamine) (mg)  B2 (Riboflavin) (mg)  \\\n",
       "0            0.0     122.04                0.34                  0.09   \n",
       "1            NaN     210.39                0.28                  0.08   \n",
       "2            0.0      81.24                0.21                  0.17   \n",
       "3            0.0      29.93                0.15                  0.11   \n",
       "4            0.0      28.09                0.28                  0.12   \n",
       "\n",
       "   B3 (Niacin) (mg)  ...  Leucine (g)  Lysine (g)  Methionine (g)  \\\n",
       "0              0.79  ...         0.94        0.81            0.18   \n",
       "1              1.66  ...         0.28        0.17            0.06   \n",
       "2              1.42  ...         0.89        0.74            0.23   \n",
       "3              3.67  ...         0.82        0.74            0.26   \n",
       "4              3.20  ...         0.29        0.12            0.07   \n",
       "\n",
       "   Phenylalanine (g)  Protein (g)  Threonine (g)  Tryptophan (g)  \\\n",
       "0               0.64        11.95           0.50            0.14   \n",
       "1               0.21         4.47           0.16            0.04   \n",
       "2               0.48        10.55           0.45            0.15   \n",
       "3               0.40        11.12           0.37            0.11   \n",
       "4               0.20         8.96           0.12            0.07   \n",
       "\n",
       "   Tyrosine (g)  Valine (g)                           Category  \n",
       "0          0.34        0.62                         Fast Foods  \n",
       "1          0.12        0.18  Vegetables and Vegetable Products  \n",
       "2          0.41        0.56     Meals, Entrees, and Sidedishes  \n",
       "3          0.31        0.53        Sausages and Luncheon Meats  \n",
       "4          0.13        0.20                     Baked Products  \n",
       "\n",
       "[5 rows x 55 columns]"
      ]
     },
     "execution_count": 14,
     "metadata": {},
     "output_type": "execute_result"
    }
   ],
   "source": [
    "servings = device.get_data(\"servings\", params=params)\n",
    "pd.DataFrame(servings).head()"
   ]
  },
  {
   "cell_type": "markdown",
   "metadata": {},
   "source": [
    "Next, we will extract data on exercises recorded in cronomterer with their duration and calories burned."
   ]
  },
  {
   "cell_type": "code",
   "execution_count": 15,
   "metadata": {},
   "outputs": [
    {
     "data": {
      "text/html": [
       "<div>\n",
       "<style scoped>\n",
       "    .dataframe tbody tr th:only-of-type {\n",
       "        vertical-align: middle;\n",
       "    }\n",
       "\n",
       "    .dataframe tbody tr th {\n",
       "        vertical-align: top;\n",
       "    }\n",
       "\n",
       "    .dataframe thead th {\n",
       "        text-align: right;\n",
       "    }\n",
       "</style>\n",
       "<table border=\"1\" class=\"dataframe\">\n",
       "  <thead>\n",
       "    <tr style=\"text-align: right;\">\n",
       "      <th></th>\n",
       "      <th>Day</th>\n",
       "      <th>Exercise</th>\n",
       "      <th>Minutes</th>\n",
       "      <th>Calories Burned</th>\n",
       "    </tr>\n",
       "  </thead>\n",
       "  <tbody>\n",
       "    <tr>\n",
       "      <th>0</th>\n",
       "      <td>2022-03-01</td>\n",
       "      <td>Volleyball</td>\n",
       "      <td>66.165803</td>\n",
       "      <td>-330.829013</td>\n",
       "    </tr>\n",
       "    <tr>\n",
       "      <th>1</th>\n",
       "      <td>2022-03-01</td>\n",
       "      <td>Active Energy Balance (Apple Health)</td>\n",
       "      <td>62.692991</td>\n",
       "      <td>-313.464955</td>\n",
       "    </tr>\n",
       "    <tr>\n",
       "      <th>2</th>\n",
       "      <td>2022-03-02</td>\n",
       "      <td>Basketball</td>\n",
       "      <td>56.827523</td>\n",
       "      <td>-284.137614</td>\n",
       "    </tr>\n",
       "    <tr>\n",
       "      <th>3</th>\n",
       "      <td>2022-03-02</td>\n",
       "      <td>Active Energy Balance (Apple Health)</td>\n",
       "      <td>80.784520</td>\n",
       "      <td>-403.922602</td>\n",
       "    </tr>\n",
       "    <tr>\n",
       "      <th>4</th>\n",
       "      <td>2022-03-03</td>\n",
       "      <td>Handball</td>\n",
       "      <td>57.367786</td>\n",
       "      <td>-229.471145</td>\n",
       "    </tr>\n",
       "  </tbody>\n",
       "</table>\n",
       "</div>"
      ],
      "text/plain": [
       "          Day                              Exercise    Minutes  \\\n",
       "0  2022-03-01                            Volleyball  66.165803   \n",
       "1  2022-03-01  Active Energy Balance (Apple Health)  62.692991   \n",
       "2  2022-03-02                            Basketball  56.827523   \n",
       "3  2022-03-02  Active Energy Balance (Apple Health)  80.784520   \n",
       "4  2022-03-03                              Handball  57.367786   \n",
       "\n",
       "   Calories Burned  \n",
       "0      -330.829013  \n",
       "1      -313.464955  \n",
       "2      -284.137614  \n",
       "3      -403.922602  \n",
       "4      -229.471145  "
      ]
     },
     "execution_count": 15,
     "metadata": {},
     "output_type": "execute_result"
    }
   ],
   "source": [
    "exercises = device.get_data(\"exercises\", params=params)\n",
    "pd.DataFrame(exercises).head()"
   ]
  },
  {
   "cell_type": "markdown",
   "metadata": {},
   "source": [
    "Lastly, we will be extracting biometric data like weight, heartrate, v02 max, etc that has been recorded with cronometer."
   ]
  },
  {
   "cell_type": "code",
   "execution_count": 16,
   "metadata": {},
   "outputs": [
    {
     "data": {
      "text/html": [
       "<div>\n",
       "<style scoped>\n",
       "    .dataframe tbody tr th:only-of-type {\n",
       "        vertical-align: middle;\n",
       "    }\n",
       "\n",
       "    .dataframe tbody tr th {\n",
       "        vertical-align: top;\n",
       "    }\n",
       "\n",
       "    .dataframe thead th {\n",
       "        text-align: right;\n",
       "    }\n",
       "</style>\n",
       "<table border=\"1\" class=\"dataframe\">\n",
       "  <thead>\n",
       "    <tr style=\"text-align: right;\">\n",
       "      <th></th>\n",
       "      <th>Day</th>\n",
       "      <th>Metric</th>\n",
       "      <th>Unit</th>\n",
       "      <th>Amount</th>\n",
       "    </tr>\n",
       "  </thead>\n",
       "  <tbody>\n",
       "    <tr>\n",
       "      <th>0</th>\n",
       "      <td>2022-03-01</td>\n",
       "      <td>Weight</td>\n",
       "      <td>kg</td>\n",
       "      <td>94.371378</td>\n",
       "    </tr>\n",
       "    <tr>\n",
       "      <th>1</th>\n",
       "      <td>2022-03-01</td>\n",
       "      <td>Heart Rate (Apple Health)</td>\n",
       "      <td>bpm</td>\n",
       "      <td>100.000000</td>\n",
       "    </tr>\n",
       "    <tr>\n",
       "      <th>2</th>\n",
       "      <td>2022-03-02</td>\n",
       "      <td>Weight</td>\n",
       "      <td>kg</td>\n",
       "      <td>95.566218</td>\n",
       "    </tr>\n",
       "    <tr>\n",
       "      <th>3</th>\n",
       "      <td>2022-03-02</td>\n",
       "      <td>Heart Rate (Apple Health)</td>\n",
       "      <td>bpm</td>\n",
       "      <td>129.000000</td>\n",
       "    </tr>\n",
       "    <tr>\n",
       "      <th>4</th>\n",
       "      <td>2022-03-03</td>\n",
       "      <td>Weight</td>\n",
       "      <td>kg</td>\n",
       "      <td>92.742544</td>\n",
       "    </tr>\n",
       "    <tr>\n",
       "      <th>...</th>\n",
       "      <td>...</td>\n",
       "      <td>...</td>\n",
       "      <td>...</td>\n",
       "      <td>...</td>\n",
       "    </tr>\n",
       "    <tr>\n",
       "      <th>395</th>\n",
       "      <td>2022-09-14</td>\n",
       "      <td>Heart Rate (Apple Health)</td>\n",
       "      <td>bpm</td>\n",
       "      <td>100.000000</td>\n",
       "    </tr>\n",
       "    <tr>\n",
       "      <th>396</th>\n",
       "      <td>2022-09-15</td>\n",
       "      <td>Weight</td>\n",
       "      <td>kg</td>\n",
       "      <td>94.039550</td>\n",
       "    </tr>\n",
       "    <tr>\n",
       "      <th>397</th>\n",
       "      <td>2022-09-15</td>\n",
       "      <td>Heart Rate (Apple Health)</td>\n",
       "      <td>bpm</td>\n",
       "      <td>123.000000</td>\n",
       "    </tr>\n",
       "    <tr>\n",
       "      <th>398</th>\n",
       "      <td>2022-09-16</td>\n",
       "      <td>Weight</td>\n",
       "      <td>kg</td>\n",
       "      <td>93.411710</td>\n",
       "    </tr>\n",
       "    <tr>\n",
       "      <th>399</th>\n",
       "      <td>2022-09-16</td>\n",
       "      <td>Heart Rate (Apple Health)</td>\n",
       "      <td>bpm</td>\n",
       "      <td>128.000000</td>\n",
       "    </tr>\n",
       "  </tbody>\n",
       "</table>\n",
       "<p>400 rows × 4 columns</p>\n",
       "</div>"
      ],
      "text/plain": [
       "            Day                     Metric Unit      Amount\n",
       "0    2022-03-01                     Weight   kg   94.371378\n",
       "1    2022-03-01  Heart Rate (Apple Health)  bpm  100.000000\n",
       "2    2022-03-02                     Weight   kg   95.566218\n",
       "3    2022-03-02  Heart Rate (Apple Health)  bpm  129.000000\n",
       "4    2022-03-03                     Weight   kg   92.742544\n",
       "..          ...                        ...  ...         ...\n",
       "395  2022-09-14  Heart Rate (Apple Health)  bpm  100.000000\n",
       "396  2022-09-15                     Weight   kg   94.039550\n",
       "397  2022-09-15  Heart Rate (Apple Health)  bpm  123.000000\n",
       "398  2022-09-16                     Weight   kg   93.411710\n",
       "399  2022-09-16  Heart Rate (Apple Health)  bpm  128.000000\n",
       "\n",
       "[400 rows x 4 columns]"
      ]
     },
     "execution_count": 16,
     "metadata": {},
     "output_type": "execute_result"
    }
   ],
   "source": [
    "biometrics = device.get_data(\"biometrics\", params=params)\n",
    "pd.DataFrame(biometrics)"
   ]
  },
  {
   "cell_type": "markdown",
   "metadata": {
    "id": "kA0mnAEtfjGw"
   },
   "source": [
    "# 4. Data Exporting\n",
    "\n",
    "In this section, we export all of this data to formats compatible with popular scientific computing software (R, Excel, Google Sheets, Matlab). Specifically, we will first export to JSON, which can be read by R and Matlab. Then, we will export to CSV, which can be consumed by Excel, Google Sheets, and every other popular programming language.\n",
    "\n",
    "## Exporting to JSON (R, Matlab, etc.)\n",
    "\n",
    "Exporting to JSON is fairly simple. We export each datatype separately and also export a complete version that includes all simultaneously."
   ]
  },
  {
   "cell_type": "code",
   "execution_count": 17,
   "metadata": {
    "id": "xwl4BMTrfEdG"
   },
   "outputs": [],
   "source": [
    "json.dump(dailySummary, open(\"dailySummary.json\", \"w\"))\n",
    "json.dump(servings, open(\"servings.json\", \"w\"))\n",
    "json.dump(exercises, open(\"exercises.json\", \"w\"))\n",
    "json.dump(biometrics, open(\"biometrics.json\", \"w\"))\n",
    "\n",
    "complete = {\n",
    "    \"dailySummary\": dailySummary,\n",
    "    \"servings\": servings,\n",
    "    \"exercises\": exercises,\n",
    "    \"biometrics\": biometrics\n",
    "}\n",
    "\n",
    "json.dump(complete, open(\"complete.json\", \"w\"))"
   ]
  },
  {
   "cell_type": "markdown",
   "metadata": {
    "id": "oHcdzBcMf6SU"
   },
   "source": [
    "Feel free to open the file viewer (see left pane) to look at the outputs!\n",
    "\n",
    "## Exporting to CSV and XLSX (Excel, Google Sheets, R, Matlab, etc.)\n",
    "\n",
    "Exporting to CSV/XLSX requires a bit more processing, since they enforce a pretty restrictive schema.\n",
    "\n",
    "We will thus export steps, heart rates, and breath rates all as separate files."
   ]
  },
  {
   "cell_type": "code",
   "execution_count": 18,
   "metadata": {
    "id": "8GH7eKrufa1l"
   },
   "outputs": [],
   "source": [
    "\n",
    "dailySummary_df = pd.DataFrame.from_dict(dailySummary)\n",
    "\n",
    "dailySummary_df.to_csv('dailySummary.csv')\n",
    "dailySummary_df.to_excel('dailySummary.xlsx')\n",
    "\n",
    "servings_df = pd.DataFrame.from_dict(servings)\n",
    "\n",
    "servings_df.to_csv('servings.csv', index=False)\n",
    "servings_df.to_excel('servings.xlsx', index=False)\n",
    "\n",
    "exercises_df = pd.DataFrame.from_dict(exercises)\n",
    "\n",
    "exercises_df.to_csv('exercises.csv', index=False)\n",
    "exercises_df.to_excel('exercises.xlsx', index=False)\n",
    "\n",
    "biometrics_df = pd.DataFrame.from_dict(biometrics)\n",
    "\n",
    "biometrics_df.to_csv('biometrics.csv', index=False)\n",
    "biometrics_df.to_excel('biometrics.xlsx', index=False)"
   ]
  },
  {
   "cell_type": "markdown",
   "metadata": {
    "id": "ZNRvGqso8Njy"
   },
   "source": [
    "Again, feel free to look at the output files and download them."
   ]
  },
  {
   "cell_type": "markdown",
   "metadata": {
    "id": "t1N2qX298Q52"
   },
   "source": [
    "# 5. Adherence\n",
    "\n",
    "The device simulator already automatically randomly deletes small chunks of the day. In this section, we will simulate non-adherence over longer periods of time from the participant (day-level and week-level).\n",
    "\n",
    "Then, we will detect this non-adherence and give a Pandas DataFrame that concisely describes when the participant has had their device on and off throughout the entirety of the time period, allowing you to calculate how long they've had it on/off etc.\n",
    "\n",
    "We will first delete a certain % of blocks either at the day level or week level, with user input."
   ]
  },
  {
   "cell_type": "code",
   "execution_count": 19,
   "metadata": {
    "id": "M7ezn7YL5z60"
   },
   "outputs": [],
   "source": [
    "#@title Non-adherence simulation\n",
    "block_level = \"day\" #@param [\"day\", \"week\"]\n",
    "adherence_percent = 0.89 #@param {type:\"slider\", min:0, max:1, step:0.01}"
   ]
  },
  {
   "cell_type": "code",
   "execution_count": 20,
   "metadata": {
    "id": "ZIuef9Rq8Zfr"
   },
   "outputs": [],
   "source": [
    "if block_level == \"day\":\n",
    "    block_length = 1\n",
    "elif block_level == \"week\":\n",
    "    block_length = 7\n",
    "\n",
    "# This function will randomly remove datapoints from the \n",
    "# data we have recieved from Cronometer based on the\n",
    "# adherence_percent\n",
    "\n",
    "def AdherenceSimulator(data):\n",
    "  num_blocks = len(data) // block_length\n",
    "  num_blocks_to_keep = int(adherence_percent * num_blocks)\n",
    "  idxes = np.random.choice(np.arange(num_blocks), replace=False, \n",
    "  size=num_blocks_to_keep)\n",
    "  adhered_data = []\n",
    "  for i in range(len(data)):\n",
    "      if i in idxes:\n",
    "          start = i * block_length\n",
    "          end = (i + 1) * block_length\n",
    "          for j in range(i,i+1):\n",
    "            adhered_data.append(data[j])\n",
    "  return adhered_data\n",
    "\n",
    "# Adding adherence for daily summary\n",
    "\n",
    "dailySummary = AdherenceSimulator(dailySummary)\n",
    "\n",
    "# Adding adherence for exercises\n",
    "\n",
    "exercises = AdherenceSimulator(exercises)\n",
    "\n",
    "# Adding adherence for biometrics\n",
    "\n",
    "biometrics = AdherenceSimulator(biometrics)\n",
    "\n",
    "# Adding adherence for servings\n",
    "\n",
    "servings = AdherenceSimulator(servings)"
   ]
  },
  {
   "cell_type": "markdown",
   "metadata": {
    "id": "gS7_OF1Zj53w"
   },
   "source": [
    "And now we have significantly fewer datapoints! This will give us a more realistic situation, where participants may take off their device for days or weeks at a time.\n",
    "\n",
    "Now let's detect non-adherence. We will return a Pandas DataFrame sampled at every day."
   ]
  },
  {
   "cell_type": "code",
   "execution_count": 21,
   "metadata": {
    "id": "Gf5Jp8HXjm0e"
   },
   "outputs": [],
   "source": [
    "dailySummary_df = pd.DataFrame.from_dict(dailySummary)\n",
    "servings_df = pd.DataFrame.from_dict(servings)\n",
    "exercises_df = pd.DataFrame.from_dict(exercises)\n",
    "biometrics_df = pd.DataFrame.from_dict(biometrics)"
   ]
  },
  {
   "cell_type": "markdown",
   "metadata": {
    "id": "FvsDKGzxnTAN"
   },
   "source": [
    "We can plot this out, and we get adherence at one-day frequency throughout the entirety of the data collection period. For this chart we will plot Energy consumed over the time period from the dailySummary dataframe."
   ]
  },
  {
   "cell_type": "code",
   "execution_count": 25,
   "metadata": {
    "colab": {
     "base_uri": "https://localhost:8080/",
     "height": 374
    },
    "id": "awU2gtJXmcnP",
    "outputId": "aab458f4-9509-420a-9b30-0873d70c3b5a"
   },
   "outputs": [
    {
     "data": {
      "image/png": "[encoded data removed]",
      "text/plain": [
       "<Figure size 1200x600 with 1 Axes>"
      ]
     },
     "metadata": {},
     "output_type": "display_data"
    }
   ],
   "source": [
    "dates = pd.date_range(start_date,end_date)\n",
    "\n",
    "energy = []\n",
    "\n",
    "for d in dates:\n",
    "  res = dailySummary_df[dailySummary_df.Day == datetime.strftime(d,\n",
    "  '%Y-%m-%d')]['Energy (kcal)']\n",
    "  if len(res) == 0:\n",
    "    energy.append(None)\n",
    "  else:\n",
    "    energy.append(res.iloc[0])\n",
    "\n",
    "plt.figure(figsize=(12, 6))\n",
    "plt.plot(dates, energy)\n",
    "plt.show()"
   ]
  },
  {
   "cell_type": "markdown",
   "metadata": {
    "id": "yOsrr4s0re5Y"
   },
   "source": [
    "# 6. Visualization\n",
    "\n",
    "We've extracted lots of data, but what does it look like?\n",
    "\n",
    "In this section, we will be visualizing our three kinds of data in a simple, customizable plot! This plot is intended to provide a starter example for plotting, whereas later examples emphasize deep control and aesthetics."
   ]
  },
  {
   "cell_type": "code",
   "execution_count": 26,
   "metadata": {
    "colab": {
     "base_uri": "https://localhost:8080/",
     "height": 521
    },
    "id": "LSj2hBfOp9sG",
    "outputId": "d4e69115-49c1-47a0-b0b2-7b234dffd879"
   },
   "outputs": [
    {
     "data": {
      "image/png": "[encoded data removed]",
      "text/plain": [
       "<Figure size 1500x800 with 1 Axes>"
      ]
     },
     "metadata": {},
     "output_type": "display_data"
    }
   ],
   "source": [
    "#@title Basic Plot\n",
    "feature = \"Heart Rate (Apple Health)\" #@param ['Heart Rate (Apple Health)', 'Weight']\n",
    "start_date = \"2022-03-04\" #@param {type:\"date\"}\n",
    "time_interval = \"full time\" #@param [\"one week\", \"full time\"]\n",
    "smoothness = 0.02 #@param {type:\"slider\", min:0, max:1, step:0.01}\n",
    "smooth_plot = True #@param {type:\"boolean\"}\n",
    "\n",
    "start_date = datetime.strptime(start_date, '%Y-%m-%d')\n",
    "\n",
    "if time_interval == \"one week\":\n",
    "    day_idxes = [i for i,d in enumerate(dates) if d >= start_date and d <= start_date + timedelta(days=7)]\n",
    "    end_date = start_date + timedelta(days=7)\n",
    "elif time_interval == \"full time\":\n",
    "    day_idxes = [i for i,d in enumerate(dates) if d >= start_date]\n",
    "    end_date = dates[-1]\n",
    "\n",
    "if feature == \"Weight\":\n",
    "    weights = biometrics_df[biometrics_df['Metric']=='Weight']\n",
    "    concat_weight = []\n",
    "    for i,d in enumerate(dates):\n",
    "        day = d.strftime('%Y-%m-%d')\n",
    "        if i in day_idxes:\n",
    "          weight = weights[weights['Day']==day]\n",
    "          if len(weight) != 0:\n",
    "              concat_weight += [(day,weight.iloc[0].Amount)]\n",
    "          else:\n",
    "              concat_weight += [(day,None)]\n",
    "    ts = [x[0] for x in concat_weight]\n",
    "\n",
    "    day_arr = [x[1] for x in concat_weight]\n",
    "\n",
    "    sigma = 200 * smoothness\n",
    "\n",
    "    title_fillin = \"Weight\"\n",
    "\n",
    "  \n",
    "if feature == 'Heart Rate (Apple Health)':\n",
    "    hrs = biometrics_df[biometrics_df['Metric']=='Heart Rate (Apple Health)']\n",
    "    concat_hr = []\n",
    "    for i,d in enumerate(dates):\n",
    "        day = d.strftime('%Y-%m-%d')\n",
    "        if i in day_idxes:\n",
    "          hr = hrs[hrs['Day']==day]\n",
    "          if len(hr) != 0:\n",
    "              concat_hr += [(day,hr.iloc[0].Amount)]\n",
    "          else:\n",
    "              concat_hr += [(day,None)]\n",
    "    ts = [x[0] for x in concat_hr]\n",
    "\n",
    "    day_arr = [x[1] for x in concat_hr]\n",
    "\n",
    "    sigma = 200 * smoothness\n",
    "\n",
    "    title_fillin = \"Weight\"\n",
    "\n",
    "\n",
    "with plt.style.context('ggplot'):\n",
    "    fig, ax = plt.subplots(figsize=(15, 8))\n",
    "\n",
    "    if smooth_plot:\n",
    "        def to_numpy(day_arr):\n",
    "            arr_nonone = [x for x in day_arr if x is not None]\n",
    "            mean_val = int(np.mean(arr_nonone))\n",
    "            for i,x in enumerate(day_arr):\n",
    "                if x is None:\n",
    "                    day_arr[i] = mean_val\n",
    "\n",
    "            return np.array(day_arr)\n",
    "\n",
    "        none_idxes = [i for i,x in enumerate(day_arr) if x is None]\n",
    "        day_arr = to_numpy(day_arr)\n",
    "        day_arr = list(gaussian_filter(day_arr, sigma=sigma))\n",
    "        for i, x in enumerate(day_arr):\n",
    "            if i in none_idxes:\n",
    "                day_arr[i] = None\n",
    "\n",
    "    plt.plot(ts, day_arr)\n",
    "    start_date_str = start_date.strftime('%Y-%m-%d')\n",
    "    end_date_str = end_date.strftime('%Y-%m-%d')\n",
    "    plt.title(f\"{title_fillin} from {start_date_str} to {end_date_str}\",\n",
    "              fontsize=20)\n",
    "    plt.xlabel(\"Date\")\n",
    "    plt.xticks(ts[::int(len(ts)/8)])\n",
    "    plt.ylabel(title_fillin)"
   ]
  },
  {
   "cell_type": "markdown",
   "metadata": {
    "id": "sTLxdx7QbIuR"
   },
   "source": [
    "This plot allows you to quickly scan your data at many different time scales (week and full) and for different kinds of measurements (heart rate and weight), which enables easy and fast data exploration.\n",
    "\n",
    "Furthermore, the smoothness parameter makes it easy to look for patterns in long-term trends."
   ]
  },
  {
   "cell_type": "markdown",
   "metadata": {
    "id": "4gr_LPn8b2tN"
   },
   "source": [
    "# 7. Advanced Visualization\n",
    "\n",
    "Now we'll do some more advanced plotting that at times features hardcore matplotlib hacking with the benefit of aesthetic quality."
   ]
  },
  {
   "cell_type": "markdown",
   "metadata": {
    "id": "LCiSRYkNtmJU"
   },
   "source": [
    "## 7.1 Calorie Consumption Breakdown"
   ]
  },
  {
   "cell_type": "markdown",
   "metadata": {
    "id": "WvUWBY4NttDK"
   },
   "source": [
    "Cronometer App is particularly known for its meal tracking features. If a user went onto their Trends, they will be able to see a day-wise calorie breakdown like the one shown below."
   ]
  },
  {
   "cell_type": "markdown",
   "metadata": {
    "id": "UGVFVuPJtvc0"
   },
   "source": [
    "<img src=\"https://i.imgur.com/Dl2V9wl.jpg\" width='500px'>"
   ]
  },
  {
   "cell_type": "markdown",
   "metadata": {
    "id": "Ksg25qDWxs5V"
   },
   "source": [
    "*Above is a plot from the mobile app itself!*"
   ]
  },
  {
   "cell_type": "markdown",
   "metadata": {
    "id": "MgEJedu-uF4g"
   },
   "source": [
    "This is a detailed breakdown which shows a user how many kilocalories they are consuming in Proteins, Carbohydrates, Fats and Alcohols. <br><br>\n",
    "\n",
    "The Cronometer API also gave us access to the participants daily nutrition data. This would enable us to exactly re-create this chart using Python."
   ]
  },
  {
   "cell_type": "code",
   "execution_count": 27,
   "metadata": {
    "id": "5Ao0hzVKtOH_"
   },
   "outputs": [],
   "source": [
    "#@title Enter the Start Date\n",
    "\n",
    "year_string = '2022' #@param {type:\"string\"}\n",
    "month_string = '07' #@param {type:\"string\"}\n",
    "day_string = '20' #@param{type:\"string\"}\n",
    "\n",
    "start_date = year_string+'-'+month_string+'-'+day_string\n"
   ]
  },
  {
   "cell_type": "code",
   "execution_count": 36,
   "metadata": {
    "cellView": "form",
    "colab": {
     "base_uri": "https://localhost:8080/",
     "height": 0
    },
    "id": "b3ogofJ4wxac",
    "outputId": "d933da40-cd90-47ed-e6df-89ea99a728b6"
   },
   "outputs": [
    {
     "data": {
      "image/png": "[encoded data removed]",
      "text/plain": [
       "<Figure size 700x1000 with 1 Axes>"
      ]
     },
     "metadata": {},
     "output_type": "display_data"
    }
   ],
   "source": [
    "\n",
    "#@title Enter the End Date and plotting\n",
    "\n",
    "year_string = '2022' #@param {type:\"string\"}\n",
    "month_string = '07' #@param {type:\"string\"}\n",
    "day_string = '27' #@param{type:\"string\"}\n",
    "\n",
    "end_date = year_string+'-'+month_string+'-'+day_string\n",
    "\n",
    "nutrition = dailySummary_df\n",
    "test = nutrition[nutrition.get('Day')>=start_date].get(['Day','Carbs (g)','Fat (g)','Protein (g)','Alcohol (g)','Energy (kcal)'])\n",
    "test = test[test.get('Day')<=end_date]\n",
    "\n",
    "def date_fixer(date):\n",
    "  # Creating a date time object for the date\n",
    "  date = datetime.strptime(date,'%Y-%m-%d')\n",
    "  # Returning the date in the required format\n",
    "  return str(date.strftime(\"%B\"))[:3]+' '+str(date.day)\n",
    "\n",
    "# Fixing the Date Values for the xticks in our chart\n",
    "test = test.assign(Date_formatted = test.get('Day').apply(lambda x: \n",
    "                        date_fixer(x).split()[1]+' '+date_fixer(x).split()[0]))\n",
    "\n",
    "# 1g Carbs is equal to 4 kcal\n",
    "test = test.assign(Carbs = test.get('Carbs (g)')*4)\n",
    "\n",
    "# 1g Proteins is equal to 4 kcal\n",
    "test = test.assign(Protein = test.get('Protein (g)')*4)\n",
    "\n",
    "# 1g Fats is equal to 9 kcal\n",
    "test = test.assign(Fat = test.get('Fat (g)')*9)\n",
    "\n",
    "# 1g Alcohol is equal to 7 kcal\n",
    "test = test.assign(Alcohol = test.get('Alcohol (g)')*7)\n",
    "\n",
    "# Creating a matplotlib plot of size 16,8 \n",
    "fig3 = plt.figure(figsize=(7,10),facecolor='#1C1D21')\n",
    "ax = fig3.gca()\n",
    "ax.set_facecolor('#1C1D21')\n",
    "ax.set_axisbelow(True)\n",
    "\n",
    "# Remove the outline and set background color\n",
    "ax.set_axisbelow(True)\n",
    "ax.spines['top'].set_visible(False)\n",
    "ax.spines['bottom'].set_visible(False)\n",
    "ax.spines['right'].set_visible(False)\n",
    "ax.spines['left'].set_visible(False)\n",
    "ax.set_facecolor('none')  # Set the axes background color\n",
    "\n",
    "\n",
    "# Adding header to the chart\n",
    "header_text = (test.iloc[0].get('Date_formatted')+', '+\n",
    "              test.iloc[-1].get('Day').split('-')[0]+' - '+\n",
    "              test.iloc[-1].get('Date_formatted')+', '+\n",
    "              test.iloc[0].get('Day').split('-')[0])\n",
    "plt.title('Energy Consumed (kcal)',y=1.06, color='white',fontsize=24)\n",
    "plt.suptitle(header_text,y=0.92, color='white',fontsize=16)\n",
    "\n",
    "# Setting grid\n",
    "plt.grid(axis='y', linewidth=2)\n",
    "plt.grid(axis='x', color=\"#a1a1a1\", linestyle='-', linewidth=0, alpha=0.2)\n",
    "\n",
    "\n",
    "# Plotting the values for Fats\n",
    "plt.bar(test.get('Day'),test.get('Fat'), color='#DB4B44', width=0.6,edgecolor=\"none\")\n",
    "\n",
    "# Plotting the values for Carbohydrates\n",
    "plt.bar(test.dropna().get('Day'),test.dropna().get('Carbs'),color='#529BE3',\n",
    "        width=0.6, bottom = list(test.dropna().get('Fat')),edgecolor=\"none\")\n",
    "\n",
    "# Plotting the values for Protein\n",
    "plt.bar(test.dropna().get('Day'),test.dropna().get('Protein'),color='#5C9851',\n",
    "        width=0.6, bottom = [l+w for l,w in zip(test.dropna().get('Fat'),\n",
    "                                                test.dropna().get('Carbs'))],edgecolor=\"none\")\n",
    "\n",
    "# Plotting the values for Alcohol\n",
    "plt.bar(test.dropna().get('Day'),test.dropna().get('Alcohol'),color='#F2C04F',\n",
    "        width=0.6, bottom = [l+w+b for l,w,b in zip(test.dropna().get('Fat'),\n",
    "                      test.dropna().get('Carbs'),test.dropna().get('Alcohol'))],edgecolor=\"none\")\n",
    "\n",
    "\n",
    "# Setting x and y ticks\n",
    "plt.xticks(test.get('Day')[::3],list(test.get('Date_formatted'))[::3], \n",
    "           color='white', fontsize= 12)\n",
    "plt.yticks([0,250,500,750,1000,1250,1500,1750,2000,2250],\n",
    "           fontsize= 12, color='white')\n",
    "\n",
    "#Plotting the legend\n",
    "rect1 = mlines.Line2D([], [], marker=None, markersize=30, linewidth=5,\n",
    "                      color=\"#DB4B44\")\n",
    "rect2 = mlines.Line2D([], [], marker=None, markersize=30, linewidth=5,\n",
    "                      color=\"#529BE3\")\n",
    "rect3 = mlines.Line2D([], [], marker=None, markersize=30, linewidth=5,\n",
    "                      color=\"#5C9851\")\n",
    "rect4 = mlines.Line2D([], [], marker='None', markersize=30, linewidth=5,\n",
    "                      color=\"#F2C04F\")\n",
    "leg = ax.legend((rect1, rect2,rect3,rect4), (\"Fat (kcal)\", \n",
    "          \"Carbohydrates (kcal)\", \"Protein (kcal)\", \"Alcohol (kcal)\"),\n",
    "          bbox_to_anchor=(0.5,-0.2), loc=\"center\", frameon=False, ncol=2,\n",
    "          markerscale=1.5, fontsize=16 , labelspacing=1)\n",
    "\n",
    "# Setting color for all the labels to white\n",
    "for text in leg.get_texts():\n",
    "  text.set_color(\"white\")\n",
    "\n",
    "\n",
    "# Showing the chart\n",
    "plt.show()\n"
   ]
  },
  {
   "cell_type": "markdown",
   "metadata": {
    "id": "TmBGPvD4xd_T"
   },
   "source": [
    "*^ Above is a plot we created ourselves!*\n"
   ]
  },
  {
   "cell_type": "markdown",
   "metadata": {
    "id": "_KyItag2cSiF"
   },
   "source": [
    "## 7.2 Plotting the participants weight!\n",
    "\n",
    "If the participant has a weighing device that connects with Cronometer/Apple Health automatically or the user has been manually entering their weight in the Cronometer app, they can go to the Trends tab on the Cronometer app to see a graph for their weight over time. Below is a screenshot from the Cronometer app that shows a user's weight.\n",
    "\n",
    "<img src=\"https://i.imgur.com/kkqum56.jpg\" width=\"500px\">"
   ]
  },
  {
   "cell_type": "markdown",
   "metadata": {
    "id": "4A_EIgbFcnBf"
   },
   "source": [
    "*Above is a plot from the mobile app itself!*"
   ]
  },
  {
   "cell_type": "code",
   "execution_count": 37,
   "metadata": {
    "colab": {
     "base_uri": "https://localhost:8080/",
     "height": 0
    },
    "id": "Bdcn94ataXmt",
    "outputId": "d2229b21-bffd-43d8-b62a-8927ff320ea3"
   },
   "outputs": [
    {
     "data": {
      "image/png": "[encoded data removed]",
      "text/plain": [
       "<Figure size 1400x800 with 1 Axes>"
      ]
     },
     "metadata": {},
     "output_type": "display_data"
    }
   ],
   "source": [
    "#@title Set date range for the chart above\n",
    "\n",
    "start = \"2022-07-20\" #@param {type:\"date\"}\n",
    "end = \"2022-07-26\" #@param {type:\"date\"}\n",
    "\n",
    "# Creating a datetime object for the start date\n",
    "start_date = datetime.strptime(start,'%Y-%m-%d')\n",
    "start_date_string =(str(start_date.strftime(\"%B\"))+' '+\n",
    "                    str(start_date.day)+', '+str(start_date.year))\n",
    "\n",
    "# Creating a datetime object for our end date\n",
    "end_date = datetime.strptime(end,'%Y-%m-%d')\n",
    "end_date_string =(str(end_date.strftime(\"%B\"))+' '+\n",
    "                    str(end_date.day)+', '+str(end_date.year))\n",
    "\n",
    "# Finding a list of all dates between start and end date\n",
    "dates = list(pd.date_range(start_date,end_date,freq='d'))\n",
    "dates = [datetime.strftime(d,'%Y-%m-%d') for d in dates]\n",
    "\n",
    "def date_fixer(date):\n",
    "  # Creating a date time object for the date\n",
    "  date = datetime.strptime(date,'%Y-%m-%d')\n",
    "  # Returning the date in the required format\n",
    "  return str(date.strftime(\"%B\"))[:3]+' '+str(date.day)\n",
    "\n",
    "# Getting only the weights values\n",
    "weights = biometrics_df[biometrics_df.get('Metric')=='Weight']\n",
    "\n",
    "datefixer = lambda x: datetime.strptime(x,'%Y-%m-%d')\n",
    "\n",
    "weights = weights.assign(Day=weights.get('Day').apply(datefixer))\n",
    "\n",
    "# Assigning the date_fixer function for getting the required xticks\n",
    "xticks_fixed = [date_fixer(d) for d in dates]\n",
    "\n",
    "weights = weights[weights.get('Day')>=start_date]\n",
    "weights = weights[weights.get('Day')<=end_date]\n",
    "\n",
    "weights =  weights.assign(Day=weights.get('Day').apply(lambda x: str(x)[:10]))\n",
    "\n",
    "# Initializing the figure\n",
    "fig1 = plt.figure(figsize=(14,8),facecolor='#20242A')\n",
    "ax = fig1.gca()\n",
    "ax.set_facecolor('#20242A')\n",
    "\n",
    "# Plotting the Data\n",
    "plt.plot(weights.get('Day'),weights.get('Amount'),color='#AE9EBD')\n",
    "\n",
    "# Adding grids\n",
    "plt.grid(axis=\"y\",lw=2,color='white')\n",
    "plt.grid(axis='x', alpha=0)\n",
    "\n",
    "# Setting x and y ticks\n",
    "plt.yticks(range(int(np.floor(np.min(list(weights.get('Amount'))))),\n",
    "         int(np.ceil(np.max(list(weights.get('Amount')))+2))),color='white',\n",
    "         fontsize = 20)\n",
    "plt.xticks(dates[::2],xticks_fixed[::2],color='white', fontsize = 20, )\n",
    "\n",
    "# Setting y limits for the graph\n",
    "plt.ylim(np.floor(np.min(list(weights.get('Amount')))),\n",
    "         np.ceil(np.max(list(weights.get('Amount')))+1))\n",
    "\n",
    "\n",
    "# Removing the spines on top, left and right\n",
    "ax.spines['top'].set_visible(False)\n",
    "ax.spines['right'].set_visible(False)\n",
    "ax.spines['left'].set_visible(False)\n",
    "ax.spines['bottom'].set_visible(False)\n",
    "\n",
    "# Adding the weight footer\n",
    "plt.text(0.175,0,'Weight',transform=fig1.transFigure, color='white',\n",
    "         horizontalalignment='center',fontsize=30,\n",
    "         family='sans-serif')\n",
    "plt.text(0.265,-0.05, start_date_string+\" - \"+end_date_string, \n",
    "         transform=fig1.transFigure, color='white',horizontalalignment='center'\n",
    "         ,fontsize=20, fontweight=550, family='sans-serif')\n",
    "# Displaying the graph\n",
    "plt.show()"
   ]
  },
  {
   "cell_type": "markdown",
   "metadata": {
    "id": "oigDYwG4hfzM"
   },
   "source": [
    "*^ Above is a plot we created ourselves!*"
   ]
  },
  {
   "cell_type": "markdown",
   "metadata": {
    "id": "Hz3gqRAMhntc"
   },
   "source": [
    "## 7.3 Plotting participants Workout Minutes"
   ]
  },
  {
   "cell_type": "markdown",
   "metadata": {
    "id": "zfdtJ5KaibQS"
   },
   "source": [
    "If the participant wears an Apple Watch or uses another compatible device, they can go onto the Fitness App to find their average workout minutes in a chart like the one below."
   ]
  },
  {
   "cell_type": "markdown",
   "metadata": {
    "id": "ENYyEkDUid2t"
   },
   "source": [
    "<img src=\"https://i.imgur.com/fmwCGoj.jpg\">"
   ]
  },
  {
   "cell_type": "markdown",
   "metadata": {
    "id": "b5ek0Bd4t1uy"
   },
   "source": [
    "*Above is a plot from the mobile app itself!*"
   ]
  },
  {
   "cell_type": "markdown",
   "metadata": {
    "id": "iOQCkIAoih02"
   },
   "source": [
    "As cronometer automatically syncs with Apple Health, we have access to all this workout data. In this part of the notebook we will be recreating the plot above."
   ]
  },
  {
   "cell_type": "code",
   "execution_count": 55,
   "metadata": {
    "colab": {
     "base_uri": "https://localhost:8080/",
     "height": 0
    },
    "id": "d6H5WhFUoMRC",
    "outputId": "a0f512f4-2c26-40b2-eb8d-adf9a8ccb4b9"
   },
   "outputs": [
    {
     "name": "stdout",
     "output_type": "stream",
     "text": [
      "Font files already exist, skipping download.\n"
     ]
    },
    {
     "name": "stderr",
     "output_type": "stream",
     "text": [
      "/var/folders/4q/pymtr0qd38d5nlrw_myxq5r00000gn/T/ipykernel_75176/2362222970.py:19: FutureWarning: The default value of numeric_only in DataFrameGroupBy.sum is deprecated. In a future version, numeric_only will default to False. Either specify numeric_only or select only columns which should be valid for the function.\n",
      "  exercises_grouped = exercises_df[exercises_df.get('Exercise')!=\"Active Energy Balance (Apple Health)\"].groupby('Day').sum()\n"
     ]
    },
    {
     "data": {
      "image/png": "[encoded data removed]",
      "text/plain": [
       "<Figure size 1400x800 with 1 Axes>"
      ]
     },
     "metadata": {},
     "output_type": "display_data"
    }
   ],
   "source": [
    "#@title Set date range for the chart above\n",
    "\n",
    "start_date = \"2022-07-01\" #@param {type:\"date\"}\n",
    "end_date = \"2022-07-30\" #@param {type:\"date\"}\n",
    "\n",
    "# The next line creates the date header for the chart\n",
    "date_range_text= (str(datetime.strptime(start_date,'%Y-%m-%d').day)+\n",
    "                  ' '+datetime.strptime(start_date,'%Y-%m-%d').strftime(\"%B\")+\n",
    "                  ' - '+str(datetime.strptime(end_date,'%Y-%m-%d').day)+' '+\n",
    "                  datetime.strptime(end_date,'%Y-%m-%d').strftime(\"%B\"))\n",
    "\n",
    "def date_fixer(date):\n",
    "  # Creating a date time object for the date\n",
    "  date = datetime.strptime(date,'%Y-%m-%d')\n",
    "  # Returning the date in the required format\n",
    "  return str(date.strftime(\"%B\"))[:3]+' '+str(date.day)\n",
    "\n",
    "exercises_df = pd.DataFrame.from_dict(exercises)\n",
    "exercises_grouped = exercises_df[exercises_df.get('Exercise')!=\"Active Energy Balance (Apple Health)\"].groupby('Day').sum()\n",
    "\n",
    "start_date = datetime.strptime(start_date,'%Y-%m-%d')\n",
    "end_date = datetime.strptime(end_date,'%Y-%m-%d')\n",
    "\n",
    "dates = list(pd.date_range(start_date,end_date,freq='d'))\n",
    "dates = [datetime.strftime(d,'%Y-%m-%d') for d in dates]\n",
    "exercises_grouped = exercises_grouped.reset_index()\n",
    "exercises_grouped = exercises_grouped.assign(Day_cleaned=exercises_grouped.get('Day').apply(datefixer))\n",
    "\n",
    "# Assigning the date_fixer function for getting the required xticks\n",
    "xticks_fixed = [date_fixer(d) for d in dates]\n",
    "\n",
    "\n",
    "exercises_grouped = exercises_grouped[exercises_grouped.get('Day_cleaned')>=start_date]\n",
    "exercises_grouped = exercises_grouped[exercises_grouped.get('Day_cleaned')<=end_date]\n",
    "\n",
    "exercises_grouped = exercises_grouped.set_index('Day')\n",
    "\n",
    "font_files = [\n",
    "    \"OpenSans-Regular.ttf\",\n",
    "    \"OpenSans-Light.ttf\",\n",
    "    \"OpenSans-Semibold.ttf\",\n",
    "    \"OpenSans-Bold.ttf\",\n",
    "    \"OpenSans-ExtraBold.ttf\"\n",
    "]\n",
    "\n",
    "font_directory = \"Fonts/\"\n",
    "font_url = \"https://www.fontsquirrel.com/fonts/download/open-sans\"\n",
    "\n",
    "# Check if the font files already exist\n",
    "missing_fonts = [font_file for font_file in font_files if not os.path.exists(os.path.join(font_directory, font_file))]\n",
    "\n",
    "if missing_fonts:\n",
    "    print(\"Downloading font files...\")\n",
    "    !wget {font_url}\n",
    "    !unzip -o open-sans.zip\n",
    "    \n",
    "    # Move the font files only if they are missing\n",
    "    for font_file in font_files:\n",
    "        font_path = 'Fonts/'+font_file\n",
    "        if os.path.exists(font_path):\n",
    "            !mv -f {font_path} {font_directory}\n",
    "else:\n",
    "    print(\"Font files already exist, skipping download.\")\n",
    "\n",
    "\n",
    "# Initializing the figure\n",
    "plt2 = plt.figure(figsize=(14,8),facecolor='#000000')\n",
    "ax = plt2.gca()\n",
    "ax.set_facecolor('#000000')\n",
    "ax.yaxis.tick_right()\n",
    "ax.set_axisbelow(True)\n",
    "\n",
    "# Remove the outline and set background color\n",
    "ax.set_axisbelow(True)\n",
    "ax.spines['top'].set_visible(False)\n",
    "ax.spines['bottom'].set_visible(False)\n",
    "ax.spines['right'].set_visible(False)\n",
    "ax.spines['left'].set_visible(False)\n",
    "ax.set_facecolor('none')  # Set the axes background color\n",
    "\n",
    "# Chart mean\n",
    "chart_mean = int(exercises_grouped.get('Minutes').mean())\n",
    "\n",
    "# Creating grid lines\n",
    "plt.grid(axis = 'x',color=\"#a1a1a1\", linestyle='--', linewidth=2, alpha = 0.2)\n",
    "plt.grid(axis = 'y',color=\"#a1a1a1\", linestyle='-', linewidth=2, alpha = 0.2)\n",
    "\n",
    "# Plotting the chart\n",
    "plt.bar(exercises_grouped.index, exercises_grouped.get('Minutes'), width=0.4, \n",
    "        color='#2C2C2E', joinstyle='round', edgecolor=\"none\")\n",
    "\n",
    "plt.axhline(y=int(exercises_grouped.get('Minutes').mean()), xmin=0.1, \n",
    "            linewidth=7,xmax= 0.9, color='#FF5810',solid_capstyle='round')\n",
    "\n",
    "# Adding Heart header\n",
    "\n",
    "openSansBold = 'Fonts/OpenSans-Bold.ttf'\n",
    "opensans_bold = fm.FontProperties(fname=openSansBold, size= 18, weight='bold')\n",
    "opensans_bold_heading = fm.FontProperties(fname=openSansBold, size= 36, weight='bold')\n",
    "\n",
    "\n",
    "openSansExtraBold = 'Fonts/OpenSans-ExtraBold.ttf'\n",
    "opensans_ebold = fm.FontProperties(fname=openSansExtraBold, size= 16, weight=500)\n",
    "\n",
    "find_tens = lambda start, end: [i for i in range(int(start), int(end)+1) if i % 50 == 0]\n",
    "# Setting x and y ticks\n",
    "yticks = find_tens(0,max(exercises_grouped.get('Minutes')+50))\n",
    "plt.yticks(yticks, color='white',fontsize=16, fontweight=600,\n",
    "           alpha=0.3, fontproperties=opensans_bold)\n",
    "plt.xticks(exercises_grouped.index[2::4],\n",
    "           [d.split('-')[2].strip('0') for d in list(exercises_grouped.index)][2::4],\n",
    "           color='white',fontsize=16, fontweight=600,\n",
    "           alpha=0.3, fontproperties=opensans_bold)\n",
    "plt.text(0.79,chart_mean/yticks[-1]+0.07,str(chart_mean)+' min',\n",
    "         fontsize=20,transform=plt2.transFigure, \n",
    "         horizontalalignment='center', color = '#FF5810', fontproperties=opensans_bold)\n",
    "\n",
    "\n",
    "plt.text(0.173,1,\"AVERAGE\",fontsize=16,color='#89898B',transform=plt2.transFigure,\n",
    "         horizontalalignment='center', fontproperties=opensans_bold)\n",
    "plt.text(0.15,0.94,str(chart_mean),\n",
    "         fontsize=28,transform=plt2.transFigure, \n",
    "         horizontalalignment='center', color = 'white',\n",
    "         fontproperties=opensans_bold_heading)\n",
    "plt.text(0.19,0.94,'min',fontsize=18,transform=plt2.transFigure, \n",
    "         horizontalalignment='center',color='#89898B',fontproperties=opensans_bold)\n",
    "plt.text(0.182,0.9,date_range_text,fontsize=14,color='#89898B',\n",
    "         transform=plt2.transFigure, horizontalalignment='center',\n",
    "         fontproperties=opensans_bold)\n",
    "\n",
    "# Plotting the chart\n",
    "plt.show()\n"
   ]
  },
  {
   "cell_type": "markdown",
   "metadata": {
    "id": "0V8OxkbUtxxI"
   },
   "source": [
    "*^ Above is a plot we created ourselves!*\n"
   ]
  },
  {
   "cell_type": "markdown",
   "metadata": {
    "id": "A8zVw2ynx6Z5"
   },
   "source": [
    "# 8. Data Analysis"
   ]
  },
  {
   "cell_type": "markdown",
   "metadata": {
    "id": "QxqLkxfVx9JJ"
   },
   "source": [
    "While doing some research for increasing muscle mass, I stumbled upon an [article](https://www.healthyeating.org/nutrition-topics/general/food-groups/protein) on this website called [HealthyEating](https://www.healthyeating.org) by the [Dairy Council of California](https://en.wikipedia.org/wiki/Dairy_Council_of_California). This article started with a claim that high-protein foods like meat, poultry, fish, beans and peas, eggs and nuts and seeds were also an excellent source of B vitamins. <br> <br>"
   ]
  },
  {
   "cell_type": "markdown",
   "metadata": {
    "id": "0wIQX5FwzikF"
   },
   "source": [
    "In this portion of the notebook, we will see if there is a general correlation between a food's protein makeup and these given nutrients. <br><br>\n",
    "Before beginning this experiment, let's replot our servings dataset which contains all the food items logged into the Cronometer app."
   ]
  },
  {
   "cell_type": "code",
   "execution_count": 42,
   "metadata": {
    "colab": {
     "base_uri": "https://localhost:8080/",
     "height": 540
    },
    "id": "ekWrWeolx0z-",
    "outputId": "0a0000b9-544d-48f4-d7ca-215a46dc98e3"
   },
   "outputs": [
    {
     "data": {
      "text/html": [
       "<div>\n",
       "<style scoped>\n",
       "    .dataframe tbody tr th:only-of-type {\n",
       "        vertical-align: middle;\n",
       "    }\n",
       "\n",
       "    .dataframe tbody tr th {\n",
       "        vertical-align: top;\n",
       "    }\n",
       "\n",
       "    .dataframe thead th {\n",
       "        text-align: right;\n",
       "    }\n",
       "</style>\n",
       "<table border=\"1\" class=\"dataframe\">\n",
       "  <thead>\n",
       "    <tr style=\"text-align: right;\">\n",
       "      <th></th>\n",
       "      <th>Day</th>\n",
       "      <th>Food Name</th>\n",
       "      <th>Amount</th>\n",
       "      <th>Energy (kcal)</th>\n",
       "      <th>Alcohol (g)</th>\n",
       "      <th>Caffeine (mg)</th>\n",
       "      <th>Water (g)</th>\n",
       "      <th>B1 (Thiamine) (mg)</th>\n",
       "      <th>B2 (Riboflavin) (mg)</th>\n",
       "      <th>B3 (Niacin) (mg)</th>\n",
       "      <th>...</th>\n",
       "      <th>Leucine (g)</th>\n",
       "      <th>Lysine (g)</th>\n",
       "      <th>Methionine (g)</th>\n",
       "      <th>Phenylalanine (g)</th>\n",
       "      <th>Protein (g)</th>\n",
       "      <th>Threonine (g)</th>\n",
       "      <th>Tryptophan (g)</th>\n",
       "      <th>Tyrosine (g)</th>\n",
       "      <th>Valine (g)</th>\n",
       "      <th>Category</th>\n",
       "    </tr>\n",
       "  </thead>\n",
       "  <tbody>\n",
       "    <tr>\n",
       "      <th>0</th>\n",
       "      <td>2022-03-01</td>\n",
       "      <td>Chipotle, Black Beans</td>\n",
       "      <td>1.00 cup, whole pieces</td>\n",
       "      <td>196.16</td>\n",
       "      <td>0.0</td>\n",
       "      <td>0.0</td>\n",
       "      <td>122.04</td>\n",
       "      <td>0.34</td>\n",
       "      <td>0.09</td>\n",
       "      <td>0.79</td>\n",
       "      <td>...</td>\n",
       "      <td>0.94</td>\n",
       "      <td>0.81</td>\n",
       "      <td>0.18</td>\n",
       "      <td>0.64</td>\n",
       "      <td>11.95</td>\n",
       "      <td>0.50</td>\n",
       "      <td>0.14</td>\n",
       "      <td>0.34</td>\n",
       "      <td>0.62</td>\n",
       "      <td>Fast Foods</td>\n",
       "    </tr>\n",
       "    <tr>\n",
       "      <th>1</th>\n",
       "      <td>2022-03-02</td>\n",
       "      <td>Yam, Cooked, Boiled, Drained, or Baked, with Salt</td>\n",
       "      <td>300.00 g</td>\n",
       "      <td>342.00</td>\n",
       "      <td>NaN</td>\n",
       "      <td>NaN</td>\n",
       "      <td>210.39</td>\n",
       "      <td>0.28</td>\n",
       "      <td>0.08</td>\n",
       "      <td>1.66</td>\n",
       "      <td>...</td>\n",
       "      <td>0.28</td>\n",
       "      <td>0.17</td>\n",
       "      <td>0.06</td>\n",
       "      <td>0.21</td>\n",
       "      <td>4.47</td>\n",
       "      <td>0.16</td>\n",
       "      <td>0.04</td>\n",
       "      <td>0.12</td>\n",
       "      <td>0.18</td>\n",
       "      <td>Vegetables and Vegetable Products</td>\n",
       "    </tr>\n",
       "    <tr>\n",
       "      <th>2</th>\n",
       "      <td>2022-03-04</td>\n",
       "      <td>Sausage, Pork, Fresh</td>\n",
       "      <td>3.00 medium link - breakfast size</td>\n",
       "      <td>195.00</td>\n",
       "      <td>0.0</td>\n",
       "      <td>0.0</td>\n",
       "      <td>29.93</td>\n",
       "      <td>0.15</td>\n",
       "      <td>0.11</td>\n",
       "      <td>3.67</td>\n",
       "      <td>...</td>\n",
       "      <td>0.82</td>\n",
       "      <td>0.74</td>\n",
       "      <td>0.26</td>\n",
       "      <td>0.40</td>\n",
       "      <td>11.12</td>\n",
       "      <td>0.37</td>\n",
       "      <td>0.11</td>\n",
       "      <td>0.31</td>\n",
       "      <td>0.53</td>\n",
       "      <td>Sausages and Luncheon Meats</td>\n",
       "    </tr>\n",
       "    <tr>\n",
       "      <th>3</th>\n",
       "      <td>2022-03-05</td>\n",
       "      <td>Whole Wheat Bread, Store Bought</td>\n",
       "      <td>2.00 medium slice</td>\n",
       "      <td>181.44</td>\n",
       "      <td>0.0</td>\n",
       "      <td>0.0</td>\n",
       "      <td>28.09</td>\n",
       "      <td>0.28</td>\n",
       "      <td>0.12</td>\n",
       "      <td>3.20</td>\n",
       "      <td>...</td>\n",
       "      <td>0.29</td>\n",
       "      <td>0.12</td>\n",
       "      <td>0.07</td>\n",
       "      <td>0.20</td>\n",
       "      <td>8.96</td>\n",
       "      <td>0.12</td>\n",
       "      <td>0.07</td>\n",
       "      <td>0.13</td>\n",
       "      <td>0.20</td>\n",
       "      <td>Baked Products</td>\n",
       "    </tr>\n",
       "    <tr>\n",
       "      <th>4</th>\n",
       "      <td>2022-03-06</td>\n",
       "      <td>Banquet, Spaghetti &amp; Meatballs</td>\n",
       "      <td>1.00 package - each 10 oz</td>\n",
       "      <td>323.84</td>\n",
       "      <td>0.0</td>\n",
       "      <td>0.0</td>\n",
       "      <td>223.32</td>\n",
       "      <td>0.41</td>\n",
       "      <td>0.30</td>\n",
       "      <td>4.14</td>\n",
       "      <td>...</td>\n",
       "      <td>1.22</td>\n",
       "      <td>0.98</td>\n",
       "      <td>0.32</td>\n",
       "      <td>0.72</td>\n",
       "      <td>15.94</td>\n",
       "      <td>0.62</td>\n",
       "      <td>0.18</td>\n",
       "      <td>0.52</td>\n",
       "      <td>0.77</td>\n",
       "      <td>Meals, Entrees, and Sidedishes</td>\n",
       "    </tr>\n",
       "  </tbody>\n",
       "</table>\n",
       "<p>5 rows × 55 columns</p>\n",
       "</div>"
      ],
      "text/plain": [
       "          Day                                          Food Name  \\\n",
       "0  2022-03-01                              Chipotle, Black Beans   \n",
       "1  2022-03-02  Yam, Cooked, Boiled, Drained, or Baked, with Salt   \n",
       "2  2022-03-04                               Sausage, Pork, Fresh   \n",
       "3  2022-03-05                    Whole Wheat Bread, Store Bought   \n",
       "4  2022-03-06                     Banquet, Spaghetti & Meatballs   \n",
       "\n",
       "                              Amount  Energy (kcal)  Alcohol (g)  \\\n",
       "0             1.00 cup, whole pieces         196.16          0.0   \n",
       "1                           300.00 g         342.00          NaN   \n",
       "2  3.00 medium link - breakfast size         195.00          0.0   \n",
       "3                  2.00 medium slice         181.44          0.0   \n",
       "4          1.00 package - each 10 oz         323.84          0.0   \n",
       "\n",
       "   Caffeine (mg)  Water (g)  B1 (Thiamine) (mg)  B2 (Riboflavin) (mg)  \\\n",
       "0            0.0     122.04                0.34                  0.09   \n",
       "1            NaN     210.39                0.28                  0.08   \n",
       "2            0.0      29.93                0.15                  0.11   \n",
       "3            0.0      28.09                0.28                  0.12   \n",
       "4            0.0     223.32                0.41                  0.30   \n",
       "\n",
       "   B3 (Niacin) (mg)  ...  Leucine (g)  Lysine (g)  Methionine (g)  \\\n",
       "0              0.79  ...         0.94        0.81            0.18   \n",
       "1              1.66  ...         0.28        0.17            0.06   \n",
       "2              3.67  ...         0.82        0.74            0.26   \n",
       "3              3.20  ...         0.29        0.12            0.07   \n",
       "4              4.14  ...         1.22        0.98            0.32   \n",
       "\n",
       "   Phenylalanine (g)  Protein (g)  Threonine (g)  Tryptophan (g)  \\\n",
       "0               0.64        11.95           0.50            0.14   \n",
       "1               0.21         4.47           0.16            0.04   \n",
       "2               0.40        11.12           0.37            0.11   \n",
       "3               0.20         8.96           0.12            0.07   \n",
       "4               0.72        15.94           0.62            0.18   \n",
       "\n",
       "   Tyrosine (g)  Valine (g)                           Category  \n",
       "0          0.34        0.62                         Fast Foods  \n",
       "1          0.12        0.18  Vegetables and Vegetable Products  \n",
       "2          0.31        0.53        Sausages and Luncheon Meats  \n",
       "3          0.13        0.20                     Baked Products  \n",
       "4          0.52        0.77     Meals, Entrees, and Sidedishes  \n",
       "\n",
       "[5 rows x 55 columns]"
      ]
     },
     "execution_count": 42,
     "metadata": {},
     "output_type": "execute_result"
    }
   ],
   "source": [
    "servings_df.head()"
   ]
  },
  {
   "cell_type": "markdown",
   "metadata": {
    "id": "O92v86AcznDn"
   },
   "source": [
    "This current Data Frame has 55 columns, let's shorted it down to the columns that we specifically require in our analysis."
   ]
  },
  {
   "cell_type": "code",
   "execution_count": 43,
   "metadata": {
    "colab": {
     "base_uri": "https://localhost:8080/",
     "height": 206
    },
    "id": "k6IDpA25zabv",
    "outputId": "67cc9c0f-452b-4e02-ca9d-9216d9323b38"
   },
   "outputs": [
    {
     "data": {
      "text/html": [
       "<div>\n",
       "<style scoped>\n",
       "    .dataframe tbody tr th:only-of-type {\n",
       "        vertical-align: middle;\n",
       "    }\n",
       "\n",
       "    .dataframe tbody tr th {\n",
       "        vertical-align: top;\n",
       "    }\n",
       "\n",
       "    .dataframe thead th {\n",
       "        text-align: right;\n",
       "    }\n",
       "</style>\n",
       "<table border=\"1\" class=\"dataframe\">\n",
       "  <thead>\n",
       "    <tr style=\"text-align: right;\">\n",
       "      <th></th>\n",
       "      <th>Day</th>\n",
       "      <th>Protein (g)</th>\n",
       "      <th>B1 (Thiamine) (mg)</th>\n",
       "      <th>B2 (Riboflavin) (mg)</th>\n",
       "      <th>B3 (Niacin) (mg)</th>\n",
       "      <th>B5 (Pantothenic Acid) (mg)</th>\n",
       "      <th>B6 (Pyridoxine) (mg)</th>\n",
       "      <th>B12 (Cobalamin) (µg)</th>\n",
       "    </tr>\n",
       "  </thead>\n",
       "  <tbody>\n",
       "    <tr>\n",
       "      <th>0</th>\n",
       "      <td>2022-03-01</td>\n",
       "      <td>11.95</td>\n",
       "      <td>0.34</td>\n",
       "      <td>0.09</td>\n",
       "      <td>0.79</td>\n",
       "      <td>0.36</td>\n",
       "      <td>0.14</td>\n",
       "      <td>0.00</td>\n",
       "    </tr>\n",
       "    <tr>\n",
       "      <th>2</th>\n",
       "      <td>2022-03-04</td>\n",
       "      <td>11.12</td>\n",
       "      <td>0.15</td>\n",
       "      <td>0.11</td>\n",
       "      <td>3.67</td>\n",
       "      <td>0.48</td>\n",
       "      <td>0.12</td>\n",
       "      <td>0.59</td>\n",
       "    </tr>\n",
       "    <tr>\n",
       "      <th>3</th>\n",
       "      <td>2022-03-05</td>\n",
       "      <td>8.96</td>\n",
       "      <td>0.28</td>\n",
       "      <td>0.12</td>\n",
       "      <td>3.20</td>\n",
       "      <td>0.47</td>\n",
       "      <td>0.15</td>\n",
       "      <td>0.00</td>\n",
       "    </tr>\n",
       "    <tr>\n",
       "      <th>4</th>\n",
       "      <td>2022-03-06</td>\n",
       "      <td>15.94</td>\n",
       "      <td>0.41</td>\n",
       "      <td>0.30</td>\n",
       "      <td>4.14</td>\n",
       "      <td>0.57</td>\n",
       "      <td>0.27</td>\n",
       "      <td>0.62</td>\n",
       "    </tr>\n",
       "    <tr>\n",
       "      <th>5</th>\n",
       "      <td>2022-03-07</td>\n",
       "      <td>12.78</td>\n",
       "      <td>0.49</td>\n",
       "      <td>0.52</td>\n",
       "      <td>3.35</td>\n",
       "      <td>0.88</td>\n",
       "      <td>0.21</td>\n",
       "      <td>0.74</td>\n",
       "    </tr>\n",
       "  </tbody>\n",
       "</table>\n",
       "</div>"
      ],
      "text/plain": [
       "          Day  Protein (g)  B1 (Thiamine) (mg)  B2 (Riboflavin) (mg)  \\\n",
       "0  2022-03-01        11.95                0.34                  0.09   \n",
       "2  2022-03-04        11.12                0.15                  0.11   \n",
       "3  2022-03-05         8.96                0.28                  0.12   \n",
       "4  2022-03-06        15.94                0.41                  0.30   \n",
       "5  2022-03-07        12.78                0.49                  0.52   \n",
       "\n",
       "   B3 (Niacin) (mg)  B5 (Pantothenic Acid) (mg)  B6 (Pyridoxine) (mg)  \\\n",
       "0              0.79                        0.36                  0.14   \n",
       "2              3.67                        0.48                  0.12   \n",
       "3              3.20                        0.47                  0.15   \n",
       "4              4.14                        0.57                  0.27   \n",
       "5              3.35                        0.88                  0.21   \n",
       "\n",
       "   B12 (Cobalamin) (µg)  \n",
       "0                  0.00  \n",
       "2                  0.59  \n",
       "3                  0.00  \n",
       "4                  0.62  \n",
       "5                  0.74  "
      ]
     },
     "execution_count": 43,
     "metadata": {},
     "output_type": "execute_result"
    }
   ],
   "source": [
    "servings_cleaned = servings_df.get(['Day','Protein (g)','B1 (Thiamine) (mg)',\n",
    "       'B2 (Riboflavin) (mg)', 'B3 (Niacin) (mg)',\n",
    "       'B5 (Pantothenic Acid) (mg)', 'B6 (Pyridoxine) (mg)',\n",
    "       'B12 (Cobalamin) (µg)']).dropna()\n",
    "\n",
    "servings_cleaned.head()"
   ]
  },
  {
   "cell_type": "markdown",
   "metadata": {
    "id": "tk2dTiGBzywQ"
   },
   "source": [
    "As we there are multiple versions of Vitamin Bs, let's aggregate them into a single column with the sum of all Vitamin Bs."
   ]
  },
  {
   "cell_type": "code",
   "execution_count": 44,
   "metadata": {
    "colab": {
     "base_uri": "https://localhost:8080/",
     "height": 206
    },
    "id": "NDdm0kD2zoL3",
    "outputId": "49be094f-dc0c-45cc-d758-4a93106f5c16"
   },
   "outputs": [
    {
     "data": {
      "text/html": [
       "<div>\n",
       "<style scoped>\n",
       "    .dataframe tbody tr th:only-of-type {\n",
       "        vertical-align: middle;\n",
       "    }\n",
       "\n",
       "    .dataframe tbody tr th {\n",
       "        vertical-align: top;\n",
       "    }\n",
       "\n",
       "    .dataframe thead th {\n",
       "        text-align: right;\n",
       "    }\n",
       "</style>\n",
       "<table border=\"1\" class=\"dataframe\">\n",
       "  <thead>\n",
       "    <tr style=\"text-align: right;\">\n",
       "      <th></th>\n",
       "      <th>Day</th>\n",
       "      <th>Protein (g)</th>\n",
       "      <th>B1 (Thiamine) (mg)</th>\n",
       "      <th>B2 (Riboflavin) (mg)</th>\n",
       "      <th>B3 (Niacin) (mg)</th>\n",
       "      <th>B5 (Pantothenic Acid) (mg)</th>\n",
       "      <th>B6 (Pyridoxine) (mg)</th>\n",
       "      <th>B12 (Cobalamin) (µg)</th>\n",
       "      <th>Vitamin_B</th>\n",
       "    </tr>\n",
       "  </thead>\n",
       "  <tbody>\n",
       "    <tr>\n",
       "      <th>0</th>\n",
       "      <td>2022-03-01</td>\n",
       "      <td>11.95</td>\n",
       "      <td>0.34</td>\n",
       "      <td>0.09</td>\n",
       "      <td>0.79</td>\n",
       "      <td>0.36</td>\n",
       "      <td>0.14</td>\n",
       "      <td>0.00</td>\n",
       "      <td>1.72</td>\n",
       "    </tr>\n",
       "    <tr>\n",
       "      <th>2</th>\n",
       "      <td>2022-03-04</td>\n",
       "      <td>11.12</td>\n",
       "      <td>0.15</td>\n",
       "      <td>0.11</td>\n",
       "      <td>3.67</td>\n",
       "      <td>0.48</td>\n",
       "      <td>0.12</td>\n",
       "      <td>0.59</td>\n",
       "      <td>5.12</td>\n",
       "    </tr>\n",
       "    <tr>\n",
       "      <th>3</th>\n",
       "      <td>2022-03-05</td>\n",
       "      <td>8.96</td>\n",
       "      <td>0.28</td>\n",
       "      <td>0.12</td>\n",
       "      <td>3.20</td>\n",
       "      <td>0.47</td>\n",
       "      <td>0.15</td>\n",
       "      <td>0.00</td>\n",
       "      <td>4.22</td>\n",
       "    </tr>\n",
       "    <tr>\n",
       "      <th>4</th>\n",
       "      <td>2022-03-06</td>\n",
       "      <td>15.94</td>\n",
       "      <td>0.41</td>\n",
       "      <td>0.30</td>\n",
       "      <td>4.14</td>\n",
       "      <td>0.57</td>\n",
       "      <td>0.27</td>\n",
       "      <td>0.62</td>\n",
       "      <td>6.31</td>\n",
       "    </tr>\n",
       "    <tr>\n",
       "      <th>5</th>\n",
       "      <td>2022-03-07</td>\n",
       "      <td>12.78</td>\n",
       "      <td>0.49</td>\n",
       "      <td>0.52</td>\n",
       "      <td>3.35</td>\n",
       "      <td>0.88</td>\n",
       "      <td>0.21</td>\n",
       "      <td>0.74</td>\n",
       "      <td>6.19</td>\n",
       "    </tr>\n",
       "  </tbody>\n",
       "</table>\n",
       "</div>"
      ],
      "text/plain": [
       "          Day  Protein (g)  B1 (Thiamine) (mg)  B2 (Riboflavin) (mg)  \\\n",
       "0  2022-03-01        11.95                0.34                  0.09   \n",
       "2  2022-03-04        11.12                0.15                  0.11   \n",
       "3  2022-03-05         8.96                0.28                  0.12   \n",
       "4  2022-03-06        15.94                0.41                  0.30   \n",
       "5  2022-03-07        12.78                0.49                  0.52   \n",
       "\n",
       "   B3 (Niacin) (mg)  B5 (Pantothenic Acid) (mg)  B6 (Pyridoxine) (mg)  \\\n",
       "0              0.79                        0.36                  0.14   \n",
       "2              3.67                        0.48                  0.12   \n",
       "3              3.20                        0.47                  0.15   \n",
       "4              4.14                        0.57                  0.27   \n",
       "5              3.35                        0.88                  0.21   \n",
       "\n",
       "   B12 (Cobalamin) (µg)  Vitamin_B  \n",
       "0                  0.00       1.72  \n",
       "2                  0.59       5.12  \n",
       "3                  0.00       4.22  \n",
       "4                  0.62       6.31  \n",
       "5                  0.74       6.19  "
      ]
     },
     "execution_count": 44,
     "metadata": {},
     "output_type": "execute_result"
    }
   ],
   "source": [
    "servings_cleaned = servings_cleaned.assign(Vitamin_B = servings_cleaned.get([\n",
    "    'B1 (Thiamine) (mg)','B2 (Riboflavin) (mg)', 'B3 (Niacin) (mg)',\n",
    "    'B5 (Pantothenic Acid) (mg)', 'B6 (Pyridoxine) (mg)',\n",
    "    'B12 (Cobalamin) (µg)']).sum(axis=1))\n",
    "\n",
    "servings_cleaned.head()"
   ]
  },
  {
   "cell_type": "markdown",
   "metadata": {
    "id": "Gx7Trvvvz5Y5"
   },
   "source": [
    "For our plot, let's see if there is a visual correlation between the Protein content of a food item and their Vitamin B content. "
   ]
  },
  {
   "cell_type": "code",
   "execution_count": 45,
   "metadata": {
    "colab": {
     "base_uri": "https://localhost:8080/",
     "height": 521
    },
    "id": "lylWh7Lqz0Nc",
    "outputId": "9e6a7a9d-c465-4531-8a70-83624bba6b63"
   },
   "outputs": [
    {
     "name": "stdout",
     "output_type": "stream",
     "text": [
      "\n"
     ]
    },
    {
     "data": {
      "image/png": "[encoded data removed]",
      "text/plain": [
       "<Figure size 1600x800 with 1 Axes>"
      ]
     },
     "metadata": {},
     "output_type": "display_data"
    }
   ],
   "source": [
    "# Setting Figure Size in Seaborn\n",
    "sns.set(rc={'figure.figsize':(16,8)})\n",
    "\n",
    "# Setting Seaborn plot style\n",
    "sns.set_style(\"darkgrid\")\n",
    "\n",
    "#Plotting our data\n",
    "plot = sns.regplot(data=servings_cleaned, x='Protein (g)', y=\"Vitamin_B\")\n",
    "\n",
    "#Renaming x and y labels\n",
    "plot.set_ylabel(\"Protein (g)\", fontsize = 16)\n",
    "plot.set_xlabel(\"Vitamin Bs (mg)\", fontsize = 16)\n",
    "\n",
    "print()"
   ]
  },
  {
   "cell_type": "markdown",
   "metadata": {
    "id": "g9V_DNxz0MBW"
   },
   "source": [
    "Based on the graph, it appears that there is a positive association between the protein content and vitamin B content in food. To confirm this relationship statistically, we will utilize linear regression to determine the optimal line of fit and calculate the correlation coefficient and p-value.\n",
    "\n",
    "To perform the linear regression and obtain the correlation coefficient and p-value, you can use statistical functions from the scipy package in Python. The scipy.stats module provides functions for linear regression, correlation coefficient calculation, and p-value calculation."
   ]
  },
  {
   "cell_type": "code",
   "execution_count": 46,
   "metadata": {
    "colab": {
     "base_uri": "https://localhost:8080/"
    },
    "id": "HGGV6RIbz69B",
    "outputId": "aa718783-83ce-455a-90d1-c0bbd2f77797"
   },
   "outputs": [
    {
     "name": "stdout",
     "output_type": "stream",
     "text": [
      "Slope: 0.301\n",
      "Coefficient of determination: 0.473\n",
      "p-value: 6.92e-25\n"
     ]
    }
   ],
   "source": [
    "slope, intercept, r_value, p_value, std_err = stats.linregress(\n",
    "    servings_cleaned.get('Protein (g)'), servings_cleaned.get('Vitamin_B'))\n",
    "\n",
    "print(f'Slope: {slope:.3g}')\n",
    "print(f'Coefficient of determination: {r_value**2:.3g}')\n",
    "print(f'p-value: {p_value:.3g}')"
   ]
  },
  {
   "cell_type": "markdown",
   "metadata": {
    "id": "G6dUw6P10Oi0"
   },
   "source": [
    "The p-value is 6.92e-25 is much smaller than the 5% cutoff. This means that there is enough evidence to convincingly conclude that that there is a correlation between protein and vitamin B intake in a food item."
   ]
  },
  {
   "cell_type": "markdown",
   "metadata": {
    "id": "v7EPWmfi0hnO"
   },
   "source": [
    "## 9.0 Outlier Detection"
   ]
  },
  {
   "cell_type": "markdown",
   "metadata": {
    "id": "kHkgd9Fz0rr4"
   },
   "source": [
    "However, even though our P value seems to provide enough statistical significance that there is a correlation between Protein and Vitamin B makeup, there might be outliers that are not following this correlation. In this section of our analysis, we will find if there are outliers like that and if they exist, we will visually highlight them in our plot."
   ]
  },
  {
   "cell_type": "markdown",
   "metadata": {
    "id": "pTt7b69a0ttt"
   },
   "source": [
    "Before finding the individual outlier values, it would be interesting to see the summary of our Protein and Vitamin B intake. Analyzing a summary of our Protein and Vitamin B intake would be valuable as it provides insight into the typical values and highlights values that may be considered unusual based on the data we collected from Cronometer. The summary shows key statistical measures such as the minimum, maximum, mean, median, and standard deviation of the data, which can give us an idea of the range and distribution of the values."
   ]
  },
  {
   "cell_type": "code",
   "execution_count": 47,
   "metadata": {
    "colab": {
     "base_uri": "https://localhost:8080/",
     "height": 269
    },
    "id": "PJwt82iy0Nww",
    "outputId": "fe688d27-a3d9-42ed-aeed-ab0cc4e0bcdf"
   },
   "outputs": [
    {
     "data": {
      "text/html": [
       "<div>\n",
       "<style scoped>\n",
       "    .dataframe tbody tr th:only-of-type {\n",
       "        vertical-align: middle;\n",
       "    }\n",
       "\n",
       "    .dataframe tbody tr th {\n",
       "        vertical-align: top;\n",
       "    }\n",
       "\n",
       "    .dataframe thead th {\n",
       "        text-align: right;\n",
       "    }\n",
       "</style>\n",
       "<table border=\"1\" class=\"dataframe\">\n",
       "  <thead>\n",
       "    <tr style=\"text-align: right;\">\n",
       "      <th></th>\n",
       "      <th>Protein (g)</th>\n",
       "      <th>Vitamin_B</th>\n",
       "    </tr>\n",
       "  </thead>\n",
       "  <tbody>\n",
       "    <tr>\n",
       "      <th>mean</th>\n",
       "      <td>15.377440</td>\n",
       "      <td>6.744464</td>\n",
       "    </tr>\n",
       "    <tr>\n",
       "      <th>std</th>\n",
       "      <td>16.499285</td>\n",
       "      <td>7.224528</td>\n",
       "    </tr>\n",
       "    <tr>\n",
       "      <th>min</th>\n",
       "      <td>0.010000</td>\n",
       "      <td>0.000000</td>\n",
       "    </tr>\n",
       "    <tr>\n",
       "      <th>25%</th>\n",
       "      <td>2.570000</td>\n",
       "      <td>1.772500</td>\n",
       "    </tr>\n",
       "    <tr>\n",
       "      <th>50%</th>\n",
       "      <td>8.960000</td>\n",
       "      <td>4.260000</td>\n",
       "    </tr>\n",
       "    <tr>\n",
       "      <th>75%</th>\n",
       "      <td>25.020000</td>\n",
       "      <td>10.050000</td>\n",
       "    </tr>\n",
       "    <tr>\n",
       "      <th>max</th>\n",
       "      <td>77.080000</td>\n",
       "      <td>30.640000</td>\n",
       "    </tr>\n",
       "  </tbody>\n",
       "</table>\n",
       "</div>"
      ],
      "text/plain": [
       "      Protein (g)  Vitamin_B\n",
       "mean    15.377440   6.744464\n",
       "std     16.499285   7.224528\n",
       "min      0.010000   0.000000\n",
       "25%      2.570000   1.772500\n",
       "50%      8.960000   4.260000\n",
       "75%     25.020000  10.050000\n",
       "max     77.080000  30.640000"
      ]
     },
     "execution_count": 47,
     "metadata": {},
     "output_type": "execute_result"
    }
   ],
   "source": [
    "servings_cleaned_summary = servings_cleaned.describe().get(\n",
    "                                          ['Protein (g)','Vitamin_B']).drop('count')\n",
    "servings_cleaned_summary"
   ]
  },
  {
   "cell_type": "markdown",
   "metadata": {
    "id": "VcgDYako00pd"
   },
   "source": [
    "To locate the outliers we will be using a supervised as well as unsupervised algorithm called the Elliptic Envelope. In statistical studies, Elliptic Envelope created an imaginary elliptical area around a given dataset where values inside that imaginary area is considered to be normal data, and anything else is assumed to be outliers. It assumes that the given Data follows a gaussian distribution.\n",
    "\n",
    "\"The main idea is to define the shape of the data and anomalies are those observations that lie far outside the shape. First a robust estimate of covariance of data is fitted into an ellipse around the central mode. Then, the Mahalanobis distance that is obtained from this estimate is used to define the threshold for determining outliers or anomalies.\" [(S. Shriram and E. Sivasankar ,2019, pp. 221-225)](https://ieeexplore.ieee.org/document/9004325)"
   ]
  },
  {
   "cell_type": "code",
   "execution_count": 48,
   "metadata": {
    "colab": {
     "base_uri": "https://localhost:8080/"
    },
    "id": "VtGULFfM01oE",
    "outputId": "3be1507c-6460-4099-a170-2ce9d69fa2e9"
   },
   "outputs": [
    {
     "name": "stdout",
     "output_type": "stream",
     "text": [
      "1     165\n",
      "-1      3\n",
      "Name: outlier, dtype: int64\n"
     ]
    }
   ],
   "source": [
    "# Sometimes EllipticEnvelope shows slicing based copy warnings\n",
    "# The next line changes a setting that prevents the error from happening\n",
    "\n",
    "pd.set_option('mode.chained_assignment', None)\n",
    "\n",
    "#create the model, set the contamination as 0.02\n",
    "EE_model = EllipticEnvelope(contamination = 0.02)\n",
    "\n",
    "#implement the model on the data\n",
    "outliers = EE_model.fit_predict(servings_cleaned.get(\n",
    "                                                  ['Protein (g)','Vitamin_B']))\n",
    "\n",
    "#extract the labels\n",
    "servings_cleaned[\"outlier\"] = copy.deepcopy(outliers)\n",
    "\n",
    "#change the labels\n",
    "# We use -1 to mark an outlier and +1 for an inliner\n",
    "servings_cleaned[\"outlier\"] = servings_cleaned[\"outlier\"].apply(\n",
    "                                    lambda x: str(-1) if x == -1 else str(1))\n",
    "\n",
    "#extract the score\n",
    "servings_cleaned[\"EE_scores\"] = EE_model.score_samples(\n",
    "                      servings_cleaned.get(['Protein (g)','Vitamin_B']))\n",
    "\n",
    "#print the value counts for inlier and outliers\n",
    "print(servings_cleaned[\"outlier\"].value_counts())"
   ]
  },
  {
   "cell_type": "markdown",
   "metadata": {
    "id": "8LnIuIbn1o3L"
   },
   "source": [
    "Below we will replot the servings_cleaned_summary dataframe to see how the two new columns were applied to it!"
   ]
  },
  {
   "cell_type": "code",
   "execution_count": 49,
   "metadata": {
    "colab": {
     "base_uri": "https://localhost:8080/",
     "height": 206
    },
    "id": "MHY0xoj31Cwk",
    "outputId": "110e447b-435d-4f09-8bbf-bd55ad17e9d5"
   },
   "outputs": [
    {
     "data": {
      "text/html": [
       "<div>\n",
       "<style scoped>\n",
       "    .dataframe tbody tr th:only-of-type {\n",
       "        vertical-align: middle;\n",
       "    }\n",
       "\n",
       "    .dataframe tbody tr th {\n",
       "        vertical-align: top;\n",
       "    }\n",
       "\n",
       "    .dataframe thead th {\n",
       "        text-align: right;\n",
       "    }\n",
       "</style>\n",
       "<table border=\"1\" class=\"dataframe\">\n",
       "  <thead>\n",
       "    <tr style=\"text-align: right;\">\n",
       "      <th></th>\n",
       "      <th>Day</th>\n",
       "      <th>Protein (g)</th>\n",
       "      <th>B1 (Thiamine) (mg)</th>\n",
       "      <th>B2 (Riboflavin) (mg)</th>\n",
       "      <th>B3 (Niacin) (mg)</th>\n",
       "      <th>B5 (Pantothenic Acid) (mg)</th>\n",
       "      <th>B6 (Pyridoxine) (mg)</th>\n",
       "      <th>B12 (Cobalamin) (µg)</th>\n",
       "      <th>Vitamin_B</th>\n",
       "      <th>outlier</th>\n",
       "      <th>EE_scores</th>\n",
       "    </tr>\n",
       "  </thead>\n",
       "  <tbody>\n",
       "    <tr>\n",
       "      <th>0</th>\n",
       "      <td>2022-03-01</td>\n",
       "      <td>11.95</td>\n",
       "      <td>0.34</td>\n",
       "      <td>0.09</td>\n",
       "      <td>0.79</td>\n",
       "      <td>0.36</td>\n",
       "      <td>0.14</td>\n",
       "      <td>0.00</td>\n",
       "      <td>1.72</td>\n",
       "      <td>1</td>\n",
       "      <td>-9.437857</td>\n",
       "    </tr>\n",
       "    <tr>\n",
       "      <th>2</th>\n",
       "      <td>2022-03-04</td>\n",
       "      <td>11.12</td>\n",
       "      <td>0.15</td>\n",
       "      <td>0.11</td>\n",
       "      <td>3.67</td>\n",
       "      <td>0.48</td>\n",
       "      <td>0.12</td>\n",
       "      <td>0.59</td>\n",
       "      <td>5.12</td>\n",
       "      <td>1</td>\n",
       "      <td>-0.438159</td>\n",
       "    </tr>\n",
       "    <tr>\n",
       "      <th>3</th>\n",
       "      <td>2022-03-05</td>\n",
       "      <td>8.96</td>\n",
       "      <td>0.28</td>\n",
       "      <td>0.12</td>\n",
       "      <td>3.20</td>\n",
       "      <td>0.47</td>\n",
       "      <td>0.15</td>\n",
       "      <td>0.00</td>\n",
       "      <td>4.22</td>\n",
       "      <td>1</td>\n",
       "      <td>-0.131907</td>\n",
       "    </tr>\n",
       "    <tr>\n",
       "      <th>4</th>\n",
       "      <td>2022-03-06</td>\n",
       "      <td>15.94</td>\n",
       "      <td>0.41</td>\n",
       "      <td>0.30</td>\n",
       "      <td>4.14</td>\n",
       "      <td>0.57</td>\n",
       "      <td>0.27</td>\n",
       "      <td>0.62</td>\n",
       "      <td>6.31</td>\n",
       "      <td>1</td>\n",
       "      <td>-2.704533</td>\n",
       "    </tr>\n",
       "    <tr>\n",
       "      <th>5</th>\n",
       "      <td>2022-03-07</td>\n",
       "      <td>12.78</td>\n",
       "      <td>0.49</td>\n",
       "      <td>0.52</td>\n",
       "      <td>3.35</td>\n",
       "      <td>0.88</td>\n",
       "      <td>0.21</td>\n",
       "      <td>0.74</td>\n",
       "      <td>6.19</td>\n",
       "      <td>1</td>\n",
       "      <td>-0.715227</td>\n",
       "    </tr>\n",
       "  </tbody>\n",
       "</table>\n",
       "</div>"
      ],
      "text/plain": [
       "          Day  Protein (g)  B1 (Thiamine) (mg)  B2 (Riboflavin) (mg)  \\\n",
       "0  2022-03-01        11.95                0.34                  0.09   \n",
       "2  2022-03-04        11.12                0.15                  0.11   \n",
       "3  2022-03-05         8.96                0.28                  0.12   \n",
       "4  2022-03-06        15.94                0.41                  0.30   \n",
       "5  2022-03-07        12.78                0.49                  0.52   \n",
       "\n",
       "   B3 (Niacin) (mg)  B5 (Pantothenic Acid) (mg)  B6 (Pyridoxine) (mg)  \\\n",
       "0              0.79                        0.36                  0.14   \n",
       "2              3.67                        0.48                  0.12   \n",
       "3              3.20                        0.47                  0.15   \n",
       "4              4.14                        0.57                  0.27   \n",
       "5              3.35                        0.88                  0.21   \n",
       "\n",
       "   B12 (Cobalamin) (µg)  Vitamin_B outlier  EE_scores  \n",
       "0                  0.00       1.72       1  -9.437857  \n",
       "2                  0.59       5.12       1  -0.438159  \n",
       "3                  0.00       4.22       1  -0.131907  \n",
       "4                  0.62       6.31       1  -2.704533  \n",
       "5                  0.74       6.19       1  -0.715227  "
      ]
     },
     "execution_count": 49,
     "metadata": {},
     "output_type": "execute_result"
    }
   ],
   "source": [
    "servings_cleaned.head()"
   ]
  },
  {
   "cell_type": "markdown",
   "metadata": {
    "id": "ZHRVUR411vL1"
   },
   "source": [
    "\n",
    "Now that we have labeled the outliers as -1, let's try to see which values of protien intake and vitamin B are being identified as outliers by our Elliptic Envelope Algorithm."
   ]
  },
  {
   "cell_type": "code",
   "execution_count": 50,
   "metadata": {
    "colab": {
     "base_uri": "https://localhost:8080/",
     "height": 81
    },
    "id": "GQ2VV75j1JmL",
    "outputId": "6bf3845c-f9c7-4966-df86-09a87cb4e4bc"
   },
   "outputs": [
    {
     "data": {
      "text/html": [
       "<div>\n",
       "<style scoped>\n",
       "    .dataframe tbody tr th:only-of-type {\n",
       "        vertical-align: middle;\n",
       "    }\n",
       "\n",
       "    .dataframe tbody tr th {\n",
       "        vertical-align: top;\n",
       "    }\n",
       "\n",
       "    .dataframe thead th {\n",
       "        text-align: right;\n",
       "    }\n",
       "</style>\n",
       "<table border=\"1\" class=\"dataframe\">\n",
       "  <thead>\n",
       "    <tr style=\"text-align: right;\">\n",
       "      <th></th>\n",
       "      <th>Protein (g)</th>\n",
       "      <th>Vitamin_B</th>\n",
       "    </tr>\n",
       "  </thead>\n",
       "  <tbody>\n",
       "    <tr>\n",
       "      <th>60</th>\n",
       "      <td>77.08</td>\n",
       "      <td>2.45</td>\n",
       "    </tr>\n",
       "  </tbody>\n",
       "</table>\n",
       "</div>"
      ],
      "text/plain": [
       "    Protein (g)  Vitamin_B\n",
       "60        77.08       2.45"
      ]
     },
     "execution_count": 50,
     "metadata": {},
     "output_type": "execute_result"
    }
   ],
   "source": [
    "outlier_df = servings_cleaned[servings_cleaned.get('outlier')=='-1'].get(\n",
    "    ['Protein (g)','Vitamin_B'])\n",
    "outlier_df_cleaned = outlier_df.drop_duplicates()\n",
    "outlier_df_cleaned"
   ]
  },
  {
   "cell_type": "markdown",
   "metadata": {
    "id": "Sfb-KyGvkuoS"
   },
   "source": [
    "By matching the outlier values with their respective food items, we can identify which specific foods are contributing to the outliers in our protein vs. vitamin scatterplot. This information can help us understand which foods may be driving the unusual values and potentially provide insights into why these outliers exist."
   ]
  },
  {
   "cell_type": "code",
   "execution_count": 51,
   "metadata": {
    "colab": {
     "base_uri": "https://localhost:8080/"
    },
    "id": "wDL5SA8okbpZ",
    "outputId": "11a3b215-d86d-4ae2-d416-cbc2958747fe"
   },
   "outputs": [
    {
     "data": {
      "text/plain": [
       "['Whey Protein Powder, 24 Grams of Protein per Scoop']"
      ]
     },
     "execution_count": 51,
     "metadata": {},
     "output_type": "execute_result"
    }
   ],
   "source": [
    "servings_df.loc[outlier_df_cleaned.index]['Food Name'].to_list()"
   ]
  },
  {
   "cell_type": "markdown",
   "metadata": {
    "id": "M60tL_B2lHRY"
   },
   "source": [
    "Our algorithm identifies the scoop of protein powder as an outlier due to its high protein content relative to its low Vitamin B content, which causes it to deviate significantly from the overall pattern of the data in the protein vs. Vitamin B scatterplot."
   ]
  },
  {
   "cell_type": "markdown",
   "metadata": {
    "id": "4z2PI5sj10gN"
   },
   "source": [
    "Sweet, now that we know that there were outliers in our dataset, let's try to visually see which pair of values are being identified as outliers using a plot. Highlighting these outliers in a bright red color will make it super easy for us to identify them in our plot."
   ]
  },
  {
   "cell_type": "code",
   "execution_count": 52,
   "metadata": {
    "colab": {
     "base_uri": "https://localhost:8080/",
     "height": 502
    },
    "id": "GbvM4qZr1x67",
    "outputId": "304eb2e5-7d5f-4b00-d0d8-2e14db010735"
   },
   "outputs": [
    {
     "data": {
      "image/png": "[encoded data removed]",
      "text/plain": [
       "<Figure size 1600x800 with 1 Axes>"
      ]
     },
     "metadata": {},
     "output_type": "display_data"
    }
   ],
   "source": [
    "# Setting Figure Size in Seaborn\n",
    "sns.set(rc={'figure.figsize':(16,8)})\n",
    "\n",
    "# Setting Seaborn plot style\n",
    "sns.set_style(\"darkgrid\")\n",
    "\n",
    "#Plotting our data\n",
    "plot = sns.regplot(x='Protein (g)', y='Vitamin_B', data=servings_cleaned.drop(\n",
    "    outlier_df.index))\n",
    "\n",
    "plt.scatter(outlier_df_cleaned.get('Protein (g)'),outlier_df_cleaned.get('Vitamin_B'))\n",
    "plt.scatter(outlier_df_cleaned.get('Protein (g)'),outlier_df_cleaned.get('Vitamin_B'),\n",
    "            facecolors='red',alpha=.35, s=500)\n",
    "\n",
    "plt.show()"
   ]
  },
  {
   "cell_type": "markdown",
   "metadata": {
    "id": "K2Ph88912bSW"
   },
   "source": [
    "Thus, the points highlighted in red are ones that seem to not be following the general trend of our dataset. Lastly, let's see what the new p-value is after outlier removal!"
   ]
  },
  {
   "cell_type": "code",
   "execution_count": 53,
   "metadata": {
    "colab": {
     "base_uri": "https://localhost:8080/"
    },
    "id": "gzymkCwz2avu",
    "outputId": "b72978b2-ec54-4eb1-b17f-99a3ca4764c8"
   },
   "outputs": [
    {
     "name": "stdout",
     "output_type": "stream",
     "text": [
      "Slope: 0.429\n",
      "Coefficient of determination: 0.718\n",
      "p-value: 1.14e-46\n"
     ]
    }
   ],
   "source": [
    "slope, intercept, r_value, p_value, std_err = stats.linregress(\n",
    "    servings_cleaned.drop(outlier_df.index).get('Protein (g)'),\n",
    "     servings_cleaned.drop(outlier_df.index).get('Vitamin_B'))\n",
    "\n",
    "print(f'Slope: {slope:.3g}')\n",
    "print(f'Coefficient of determination: {r_value**2:.3g}')\n",
    "print(f'p-value: {p_value:.3g}')"
   ]
  },
  {
   "cell_type": "markdown",
   "metadata": {
    "id": "EscMj7Zo2piW"
   },
   "source": [
    "Our new p-value after removing any outliers is 1.14e-46 which is still less than 5% and smaller than our p-value with the outliers included in the dataset. Therefore, after removing the outliers, our result is statistically significant which means that there is enough evidence to conclude that that there is a correlation between Protein content and Vitamin B content in a food item."
   ]
  }
 ],
 "metadata": {
  "colab": {
   "collapsed_sections": [
    "LCiSRYkNtmJU",
    "_KyItag2cSiF",
    "Hz3gqRAMhntc"
   ],
   "provenance": []
  },
  "kernelspec": {
   "display_name": "Python 3 (ipykernel)",
   "language": "python",
   "name": "python3"
  },
  "language_info": {
   "codemirror_mode": {
    "name": "ipython",
    "version": 3
   },
   "file_extension": ".py",
   "mimetype": "text/x-python",
   "name": "python",
   "nbconvert_exporter": "python",
   "pygments_lexer": "ipython3",
   "version": "3.11.5"
  }
 },
 "nbformat": 4,
 "nbformat_minor": 1
}
